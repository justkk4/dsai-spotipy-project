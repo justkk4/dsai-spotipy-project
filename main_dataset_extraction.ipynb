{
 "cells": [
  {
   "cell_type": "markdown",
   "metadata": {},
   "source": [
    "# **Extraction of Playlist Data using Spotipy**\n",
    "In order to form our dataset, we made our own playlist on Spotify consisting of songs from different eras, different genres, different languages, etc. This was done through the merging of multiple of Spotify's playlists.\n",
    "\n",
    "After this dataset playlist was made, we used <u>Spotify's Web API 'Spotipy'</u> to extract detailed information about each track (e.g. audio features, track popularity, artist popularity, etc.). The [final dataset](https://open.spotify.com/playlist/1aA8TSi48YqaGdXNDqGrVV?si=5b086c85d48248b6) consists of 9942 tracks.\n",
    "\n",
    "This Jupyter Notebook will take you through the process of track data extraction :\n",
    "> 1. Extraction of Playlist Tracks\n",
    "> 2. Obtaining Audio Features and Artist Information for each track\n",
    "> 3. Writing to CSV file"
   ]
  },
  {
   "cell_type": "markdown",
   "metadata": {},
   "source": [
    "---"
   ]
  },
  {
   "cell_type": "markdown",
   "metadata": {},
   "source": [
    "## **Import Necessary Libraries**\n",
    "- *spotipy* is vital for the extraction of any data from Spotify\n",
    "- *SpotifyClientCredentials* is necessary to obtain authorisation from Spotify\n"
   ]
  },
  {
   "cell_type": "code",
   "execution_count": 3,
   "metadata": {},
   "outputs": [],
   "source": [
    "import spotipy\n",
    "import pandas as pd\n",
    "from spotipy.oauth2 import SpotifyClientCredentials\n",
    "import time # time.sleep() used throughout data extraction to prevent MaxRetriesError from the API\n",
    "\n",
    "client_id = '6f214ac01be74f798b00a6ca1cc14cb0' # our personal client_id \n",
    "client_secret = '131ee3fba4a6432fafb814657def5785' # our personal client_secret\n",
    "\n",
    "# Obtain authorisation from Spotify\n",
    "client_credentials_manager = SpotifyClientCredentials(client_id=client_id, client_secret=client_secret)\n",
    "sp = spotipy.Spotify(client_credentials_manager=client_credentials_manager, retries=0) "
   ]
  },
  {
   "cell_type": "markdown",
   "metadata": {},
   "source": [
    "## **Initialise Arrays and Dataframe**"
   ]
  },
  {
   "cell_type": "code",
   "execution_count": 28,
   "metadata": {},
   "outputs": [],
   "source": [
    "dataset_URI = 'spotify:playlist:1aA8TSi48YqaGdXNDqGrVV' # unique URI of our dataset playlist\n",
    "track_id = []\n",
    "artist_id = []\n",
    "track_names = []\n",
    "album_names = []\n",
    "artist_genres = []\n",
    "artist_pop = []\n",
    "track_pop = []\n",
    "album_date = []\n",
    "audio_features_artists = []"
   ]
  },
  {
   "cell_type": "code",
   "execution_count": 36,
   "metadata": {},
   "outputs": [],
   "source": [
    "# column names for audio features, artist information, track URI, artist URI\n",
    "col_names = ['Danceability', 'Energy', 'Key', 'Loudness', 'Mode', 'Speechiness', 'Acousticness', 'Instrumentalness', 'Liveness', 'Valence', 'Tempo', 'Duration', 'Time Signature',\n",
    "             'Artist Genres', 'Artist Name', 'Artist Popularity', 'Track URI', 'Artist URI']\n",
    "\n",
    "# create an empty dataframe with the above column names\n",
    "all_tracks = pd.DataFrame(columns=col_names)"
   ]
  },
  {
   "cell_type": "markdown",
   "metadata": {},
   "source": [
    "## **Helper Functions**"
   ]
  },
  {
   "cell_type": "markdown",
   "metadata": {},
   "source": [
    "### **Extract Playlist Tracks**"
   ]
  },
  {
   "cell_type": "code",
   "execution_count": 4,
   "metadata": {},
   "outputs": [],
   "source": [
    "def get_playlist_tracks(pl_URI, lim, offs):\n",
    "    \"\"\"\n",
    "    The get_playlist_tracks() function extracts information about each track from the dataset playlist\n",
    "\n",
    "    For tracks with multiple artists, the main (i.e. the first) artist was chosen as the metric of popularity\n",
    "    \"\"\"\n",
    "\n",
    "    # iterate through playlist tracks\n",
    "    for track in sp.playlist_tracks(pl_URI, limit=lim, offset=offs)[\"items\"]:\n",
    "        # only take in non-local tracks (i.e. tracks already on spotify)\n",
    "        if not track['is_local']:\n",
    "            ## URI\n",
    "            track_uri = track[\"track\"][\"uri\"] # get track's URI\n",
    "            \n",
    "            ## Track Information\n",
    "            # Track name\n",
    "            track_name = track[\"track\"][\"name\"] # get track's name\n",
    "            # Popularity of the track\n",
    "            t_pop = track[\"track\"][\"popularity\"] # get track's popularity index\n",
    "            \n",
    "            ## Artist Information\n",
    "            artist_uri = track[\"track\"][\"artists\"][0][\"uri\"] # get artists' URI\n",
    "            \n",
    "            ## Album Information\n",
    "            # Album name\n",
    "            album = track[\"track\"][\"album\"][\"name\"] # get album name\n",
    "            # Album release date in format 'YYYY-MM'\n",
    "            date = track[\"track\"][\"album\"][\"release_date\"] # get album release date -- or release_date_precision???\n",
    "\n",
    "            track_id.append(track_uri)\n",
    "            artist_id.append(artist_uri)\n",
    "            track_names.append(track_name)\n",
    "            album_names.append(album)\n",
    "            track_pop.append(t_pop)\n",
    "            album_date.append(date)\n",
    "    "
   ]
  },
  {
   "cell_type": "markdown",
   "metadata": {},
   "source": [
    "### **Get audio features and artist information of the tracks**"
   ]
  },
  {
   "cell_type": "code",
   "execution_count": 34,
   "metadata": {},
   "outputs": [],
   "source": [
    "def get_audio_artist(tracks, artists, df):\n",
    "    \"\"\"\n",
    "    Retrieves audio features, artist name, artist genres, artist popularity of the tracks in intervals of 50 tracks.\n",
    "\n",
    "    sp.artists() is used to extract artist information. Only artist name, artist genres, artist popularity\n",
    "    are extracted from the dictionary of artist information.\n",
    "\n",
    "    sp.audio_features() is used to extract audio features. Only the audio features are extracted\n",
    "    with the other track information filtered out.\n",
    "\n",
    "    Returns dataframe containing all the above columns.\n",
    "    \"\"\"\n",
    "\n",
    "    for i in range(0, len(tracks), 50):\n",
    "        if (i+50) > len(tracks):\n",
    "            track_interval = tracks[i:len(tracks)]\n",
    "            artist_interval = artists[i:len(artists)]\n",
    "        else:\n",
    "            track_interval = tracks[i:i+50]\n",
    "            artist_interval = artists[i:i+50]\n",
    "        \n",
    "        ## Retrieve artist information (i.e. popularity, genres, name)\n",
    "        # Get artist object\n",
    "        artist_info = sp.artists(artist_interval) # returns an artist object corresponding to the given URI, this object contains detailed info on the artist\n",
    "        # Name, popularity, genre of Artist\n",
    "        artist_info = [[v for k, v in d.items() if k in ['name', 'genres', 'popularity']] for d in artist_info[\"artists\"]]\n",
    "        for a in artist_info:\n",
    "            a[0] = \", \".join(a[0]) # get artists' list of genres and converts the list into a string with a comma as the separator\n",
    "\n",
    "        ## Retrieve audio features\n",
    "        audio_features = sp.audio_features(track_interval)\n",
    "        audio_features = [[v for k, v in d.items() if k not in ['type', 'id', 'uri', 'track_href', 'analysis_url']] for d in audio_features]\n",
    "        \n",
    "        ## Combine retrieved information into one list (i.e. a row in the dataframe)\n",
    "        audio_artist = [] # store all rows\n",
    "        batch = i\n",
    "        for j in range(len(audio_features)):\n",
    "            row = audio_features[j]+ artist_info[j] + [tracks[batch]] + [artists[batch]]\n",
    "            audio_artist.append(row)\n",
    "            batch += 1\n",
    "\n",
    "        print(f\"{i+50} tracks done\", end=\"; \")\n",
    "        time.sleep(2)\n",
    "\n",
    "        ## Add audio_artist rows into the dataframe\n",
    "        audio_artist = pd.DataFrame(data=audio_artist, columns=col_names)\n",
    "        df = pd.concat([df, audio_artist], join=\"outer\", ignore_index=True)\n",
    "\n",
    "    return df"
   ]
  },
  {
   "cell_type": "markdown",
   "metadata": {},
   "source": [
    "## **Extract data using API**\n",
    "First, all the tracks are extracted from the playlist using the get_playlist_tracks() function"
   ]
  },
  {
   "cell_type": "code",
   "execution_count": 30,
   "metadata": {},
   "outputs": [
    {
     "name": "stdout",
     "output_type": "stream",
     "text": [
      "100 done; 200 done; 300 done; 400 done; 500 done; 600 done; 700 done; 800 done; 900 done; 1000 done; \n",
      "1100 done; 1200 done; 1300 done; 1400 done; 1500 done; 1600 done; 1700 done; 1800 done; 1900 done; 2000 done; \n",
      "2100 done; 2200 done; 2300 done; 2400 done; 2500 done; 2600 done; 2700 done; 2800 done; 2900 done; 3000 done; \n",
      "3100 done; 3200 done; 3300 done; 3400 done; 3500 done; 3600 done; 3700 done; 3800 done; 3900 done; 4000 done; \n",
      "4100 done; 4200 done; 4300 done; 4400 done; 4500 done; 4600 done; 4700 done; 4800 done; 4900 done; 5000 done; \n",
      "5100 done; 5200 done; 5300 done; 5400 done; 5500 done; 5600 done; 5700 done; 5800 done; 5900 done; 6000 done; \n",
      "6100 done; 6200 done; 6300 done; 6400 done; 6500 done; 6600 done; 6700 done; 6800 done; 6900 done; 7000 done; \n",
      "7100 done; 7200 done; 7300 done; 7400 done; 7500 done; 7600 done; 7700 done; 7800 done; 7900 done; 8000 done; \n",
      "8100 done; 8200 done; 8300 done; 8400 done; 8500 done; 8600 done; 8700 done; 8800 done; 8900 done; 9000 done; \n",
      "9100 done; 9200 done; 9300 done; 9400 done; 9500 done; 9600 done; 9700 done; 9800 done; 9900 done; 10000 done; \n"
     ]
    }
   ],
   "source": [
    "for i in range(0,9901,100):\n",
    "    get_playlist_tracks(dataset_URI, 100, i)\n",
    "    print(f\"{i+100} done\", end=\"; \")\n",
    "\n",
    "    if (i+100) % 1000 == 0:\n",
    "        time.sleep(5)\n",
    "        print()"
   ]
  },
  {
   "cell_type": "markdown",
   "metadata": {},
   "source": [
    "---"
   ]
  },
  {
   "cell_type": "markdown",
   "metadata": {},
   "source": [
    "Next, the audio features and artist information of the tracks are retrieved from Spotify using the API. This is done by the get_audio_artist() function"
   ]
  },
  {
   "cell_type": "code",
   "execution_count": 39,
   "metadata": {},
   "outputs": [
    {
     "name": "stdout",
     "output_type": "stream",
     "text": [
      "Retrieving information for tracks 0 to 1000\n",
      "50 tracks done; 100 tracks done; 150 tracks done; 200 tracks done; 250 tracks done; 300 tracks done; 350 tracks done; 400 tracks done; 450 tracks done; 500 tracks done; 550 tracks done; 600 tracks done; 650 tracks done; 700 tracks done; 750 tracks done; 800 tracks done; 850 tracks done; 900 tracks done; 950 tracks done; 1000 tracks done; \n",
      "Retrieving information for tracks 1000 to 2000\n",
      "50 tracks done; 100 tracks done; 150 tracks done; 200 tracks done; 250 tracks done; 300 tracks done; 350 tracks done; 400 tracks done; 450 tracks done; 500 tracks done; 550 tracks done; 600 tracks done; 650 tracks done; 700 tracks done; 750 tracks done; 800 tracks done; 850 tracks done; 900 tracks done; 950 tracks done; 1000 tracks done; \n",
      "Retrieving information for tracks 2000 to 3000\n",
      "50 tracks done; 100 tracks done; 150 tracks done; 200 tracks done; 250 tracks done; 300 tracks done; 350 tracks done; 400 tracks done; 450 tracks done; 500 tracks done; 550 tracks done; 600 tracks done; 650 tracks done; 700 tracks done; 750 tracks done; 800 tracks done; 850 tracks done; 900 tracks done; 950 tracks done; 1000 tracks done; \n",
      "Retrieving information for tracks 3000 to 4000\n",
      "50 tracks done; 100 tracks done; 150 tracks done; 200 tracks done; 250 tracks done; 300 tracks done; 350 tracks done; 400 tracks done; 450 tracks done; 500 tracks done; 550 tracks done; 600 tracks done; 650 tracks done; 700 tracks done; 750 tracks done; 800 tracks done; 850 tracks done; 900 tracks done; 950 tracks done; 1000 tracks done; \n",
      "Retrieving information for tracks 4000 to 5000\n",
      "50 tracks done; 100 tracks done; 150 tracks done; 200 tracks done; 250 tracks done; 300 tracks done; 350 tracks done; 400 tracks done; 450 tracks done; 500 tracks done; 550 tracks done; 600 tracks done; 650 tracks done; 700 tracks done; 750 tracks done; 800 tracks done; 850 tracks done; 900 tracks done; 950 tracks done; 1000 tracks done; \n",
      "Retrieving information for tracks 5000 to 6000\n",
      "50 tracks done; 100 tracks done; 150 tracks done; 200 tracks done; 250 tracks done; 300 tracks done; 350 tracks done; 400 tracks done; 450 tracks done; 500 tracks done; 550 tracks done; 600 tracks done; 650 tracks done; 700 tracks done; 750 tracks done; 800 tracks done; 850 tracks done; 900 tracks done; 950 tracks done; 1000 tracks done; \n",
      "Retrieving information for tracks 6000 to 7000\n",
      "50 tracks done; 100 tracks done; 150 tracks done; 200 tracks done; 250 tracks done; 300 tracks done; 350 tracks done; 400 tracks done; 450 tracks done; 500 tracks done; 550 tracks done; 600 tracks done; 650 tracks done; 700 tracks done; 750 tracks done; 800 tracks done; 850 tracks done; 900 tracks done; 950 tracks done; 1000 tracks done; \n",
      "Retrieving information for tracks 7000 to 8000\n",
      "50 tracks done; 100 tracks done; 150 tracks done; 200 tracks done; 250 tracks done; 300 tracks done; 350 tracks done; 400 tracks done; 450 tracks done; 500 tracks done; 550 tracks done; 600 tracks done; 650 tracks done; 700 tracks done; 750 tracks done; 800 tracks done; 850 tracks done; 900 tracks done; 950 tracks done; 1000 tracks done; \n",
      "Retrieving information for tracks 8000 to 9000\n",
      "50 tracks done; 100 tracks done; 150 tracks done; 200 tracks done; 250 tracks done; 300 tracks done; 350 tracks done; 400 tracks done; 450 tracks done; 500 tracks done; 550 tracks done; 600 tracks done; 650 tracks done; 700 tracks done; 750 tracks done; 800 tracks done; 850 tracks done; 900 tracks done; 950 tracks done; 1000 tracks done; \n",
      "Retrieving information for tracks 9000 to 10000\n",
      "50 tracks done; 100 tracks done; 150 tracks done; 200 tracks done; 250 tracks done; 300 tracks done; 350 tracks done; 400 tracks done; 450 tracks done; 500 tracks done; 550 tracks done; 600 tracks done; 650 tracks done; 700 tracks done; 750 tracks done; 800 tracks done; 850 tracks done; 900 tracks done; 950 tracks done; \n"
     ]
    }
   ],
   "source": [
    "for i in range(0, 9901, 1000):\n",
    "    print(f\"Retrieving information for tracks {i} to {i+1000}\")\n",
    "    all_tracks = get_audio_artist(track_id[i:i+1000], artist_id[i:i+1000], all_tracks)\n",
    "    print()"
   ]
  },
  {
   "cell_type": "markdown",
   "metadata": {},
   "source": [
    "## **Write to CSV File**"
   ]
  },
  {
   "cell_type": "code",
   "execution_count": 42,
   "metadata": {},
   "outputs": [],
   "source": [
    "all_tracks['Track Name'] = track_names\n",
    "all_tracks['Album'] = album_names\n",
    "all_tracks['Album Release Date'] = album_date\n",
    "all_tracks['Track Popularity'] = track_pop\n",
    "\n",
    "# Reorder columns\n",
    "all_tracks = all_tracks[['Track Name', 'Artist Name', 'Album', 'Album Release Date', 'Artist Genres',\n",
    "                         'Danceability', 'Energy', 'Key', 'Loudness', 'Mode', 'Speechiness', 'Acousticness', 'Instrumentalness', 'Liveness', 'Valence', 'Tempo', 'Duration', 'Time Signature',\n",
    "                         'Artist Popularity', 'Track Popularity', 'Track URI', 'Artist URI']]"
   ]
  },
  {
   "cell_type": "code",
   "execution_count": 44,
   "metadata": {},
   "outputs": [],
   "source": [
    "all_tracks.to_csv('dataset.csv', index=True) # write to 'dataset.csv'"
   ]
  }
 ],
 "metadata": {
  "kernelspec": {
   "display_name": "Python 3",
   "language": "python",
   "name": "python3"
  },
  "language_info": {
   "codemirror_mode": {
    "name": "ipython",
    "version": 3
   },
   "file_extension": ".py",
   "mimetype": "text/x-python",
   "name": "python",
   "nbconvert_exporter": "python",
   "pygments_lexer": "ipython3",
   "version": "3.11.4"
  }
 },
 "nbformat": 4,
 "nbformat_minor": 2
}
