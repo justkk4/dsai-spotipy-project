{
 "cells": [
  {
   "cell_type": "markdown",
   "metadata": {},
   "source": [
    "# **Data Resampling**"
   ]
  },
  {
   "cell_type": "markdown",
   "metadata": {},
   "source": [
    "#### **Import Necessary Libraries**"
   ]
  },
  {
   "cell_type": "code",
   "execution_count": 2,
   "metadata": {},
   "outputs": [],
   "source": [
    "import pandas as pd\n",
    "import seaborn as sb\n",
    "import matplotlib.pyplot as plt\n",
    "\n",
    "from sklearn.model_selection import train_test_split"
   ]
  },
  {
   "cell_type": "markdown",
   "metadata": {},
   "source": [
    "---"
   ]
  },
  {
   "cell_type": "code",
   "execution_count": 3,
   "metadata": {},
   "outputs": [
    {
     "data": {
      "text/html": [
       "<div>\n",
       "<style scoped>\n",
       "    .dataframe tbody tr th:only-of-type {\n",
       "        vertical-align: middle;\n",
       "    }\n",
       "\n",
       "    .dataframe tbody tr th {\n",
       "        vertical-align: top;\n",
       "    }\n",
       "\n",
       "    .dataframe thead th {\n",
       "        text-align: right;\n",
       "    }\n",
       "</style>\n",
       "<table border=\"1\" class=\"dataframe\">\n",
       "  <thead>\n",
       "    <tr style=\"text-align: right;\">\n",
       "      <th></th>\n",
       "      <th>Track Name</th>\n",
       "      <th>Artist Genres</th>\n",
       "      <th>Danceability</th>\n",
       "      <th>Energy</th>\n",
       "      <th>Key</th>\n",
       "      <th>Loudness</th>\n",
       "      <th>Mode</th>\n",
       "      <th>Speechiness</th>\n",
       "      <th>Acousticness</th>\n",
       "      <th>Instrumentalness</th>\n",
       "      <th>Liveness</th>\n",
       "      <th>Valence</th>\n",
       "      <th>Tempo</th>\n",
       "      <th>Time Signature</th>\n",
       "      <th>Track Popularity</th>\n",
       "      <th>track_id</th>\n",
       "    </tr>\n",
       "  </thead>\n",
       "  <tbody>\n",
       "    <tr>\n",
       "      <th>0</th>\n",
       "      <td>act ii: date @ 8 (feat. Drake) - remix</td>\n",
       "      <td>NaN</td>\n",
       "      <td>0.550</td>\n",
       "      <td>0.545</td>\n",
       "      <td>0.0</td>\n",
       "      <td>-9.304</td>\n",
       "      <td>1.0</td>\n",
       "      <td>0.1630</td>\n",
       "      <td>0.3180</td>\n",
       "      <td>0.000000</td>\n",
       "      <td>0.0608</td>\n",
       "      <td>0.412</td>\n",
       "      <td>102.469</td>\n",
       "      <td>4.0</td>\n",
       "      <td>86</td>\n",
       "      <td>3QS9ZCtoSCJhmaJ7QNXSAS</td>\n",
       "    </tr>\n",
       "    <tr>\n",
       "      <th>1</th>\n",
       "      <td>LEAP!</td>\n",
       "      <td>NaN</td>\n",
       "      <td>0.892</td>\n",
       "      <td>0.585</td>\n",
       "      <td>11.0</td>\n",
       "      <td>-7.269</td>\n",
       "      <td>1.0</td>\n",
       "      <td>0.1020</td>\n",
       "      <td>0.1460</td>\n",
       "      <td>0.000004</td>\n",
       "      <td>0.0881</td>\n",
       "      <td>0.244</td>\n",
       "      <td>104.011</td>\n",
       "      <td>4.0</td>\n",
       "      <td>38</td>\n",
       "      <td>3vl2uH4D2QItFFhzz5L06g</td>\n",
       "    </tr>\n",
       "    <tr>\n",
       "      <th>2</th>\n",
       "      <td>Overdrive</td>\n",
       "      <td>bedroom pop, pop, pov: indie</td>\n",
       "      <td>0.568</td>\n",
       "      <td>0.788</td>\n",
       "      <td>5.0</td>\n",
       "      <td>-6.280</td>\n",
       "      <td>1.0</td>\n",
       "      <td>0.0377</td>\n",
       "      <td>0.0101</td>\n",
       "      <td>0.000000</td>\n",
       "      <td>0.1410</td>\n",
       "      <td>0.460</td>\n",
       "      <td>104.959</td>\n",
       "      <td>4.0</td>\n",
       "      <td>66</td>\n",
       "      <td>3QyoC6OvQUmpQwQZ18iaTs</td>\n",
       "    </tr>\n",
       "    <tr>\n",
       "      <th>3</th>\n",
       "      <td>Raise y_our glass</td>\n",
       "      <td>NaN</td>\n",
       "      <td>0.567</td>\n",
       "      <td>0.503</td>\n",
       "      <td>8.0</td>\n",
       "      <td>-6.119</td>\n",
       "      <td>1.0</td>\n",
       "      <td>0.1240</td>\n",
       "      <td>0.5810</td>\n",
       "      <td>0.000000</td>\n",
       "      <td>0.3690</td>\n",
       "      <td>0.184</td>\n",
       "      <td>72.798</td>\n",
       "      <td>4.0</td>\n",
       "      <td>59</td>\n",
       "      <td>7j1vFohEm1lbsctYY9gyGd</td>\n",
       "    </tr>\n",
       "    <tr>\n",
       "      <th>4</th>\n",
       "      <td>In My Mind</td>\n",
       "      <td>gen z singer-songwriter</td>\n",
       "      <td>0.668</td>\n",
       "      <td>0.392</td>\n",
       "      <td>2.0</td>\n",
       "      <td>-12.178</td>\n",
       "      <td>0.0</td>\n",
       "      <td>0.0585</td>\n",
       "      <td>0.7890</td>\n",
       "      <td>0.002750</td>\n",
       "      <td>0.3450</td>\n",
       "      <td>0.323</td>\n",
       "      <td>135.936</td>\n",
       "      <td>3.0</td>\n",
       "      <td>72</td>\n",
       "      <td>2W779g2UrRZtVdf3FcEOO1</td>\n",
       "    </tr>\n",
       "    <tr>\n",
       "      <th>...</th>\n",
       "      <td>...</td>\n",
       "      <td>...</td>\n",
       "      <td>...</td>\n",
       "      <td>...</td>\n",
       "      <td>...</td>\n",
       "      <td>...</td>\n",
       "      <td>...</td>\n",
       "      <td>...</td>\n",
       "      <td>...</td>\n",
       "      <td>...</td>\n",
       "      <td>...</td>\n",
       "      <td>...</td>\n",
       "      <td>...</td>\n",
       "      <td>...</td>\n",
       "      <td>...</td>\n",
       "      <td>...</td>\n",
       "    </tr>\n",
       "    <tr>\n",
       "      <th>191391</th>\n",
       "      <td>Quickly (feat. Brandy)</td>\n",
       "      <td>Soul</td>\n",
       "      <td>0.736</td>\n",
       "      <td>0.701</td>\n",
       "      <td>A#</td>\n",
       "      <td>-4.345</td>\n",
       "      <td>Minor</td>\n",
       "      <td>0.1000</td>\n",
       "      <td>0.2310</td>\n",
       "      <td>0.000000</td>\n",
       "      <td>0.2030</td>\n",
       "      <td>0.770</td>\n",
       "      <td>99.991</td>\n",
       "      <td>4/4</td>\n",
       "      <td>39</td>\n",
       "      <td>1U0OMWvR89Cm20vCNar50f</td>\n",
       "    </tr>\n",
       "    <tr>\n",
       "      <th>191392</th>\n",
       "      <td>P.O.P.</td>\n",
       "      <td>Soul</td>\n",
       "      <td>0.802</td>\n",
       "      <td>0.516</td>\n",
       "      <td>D</td>\n",
       "      <td>-9.014</td>\n",
       "      <td>Major</td>\n",
       "      <td>0.2130</td>\n",
       "      <td>0.1040</td>\n",
       "      <td>0.000485</td>\n",
       "      <td>0.1050</td>\n",
       "      <td>0.482</td>\n",
       "      <td>175.666</td>\n",
       "      <td>4/4</td>\n",
       "      <td>43</td>\n",
       "      <td>2gGqKJWfWbToha2YmDxnnj</td>\n",
       "    </tr>\n",
       "    <tr>\n",
       "      <th>191393</th>\n",
       "      <td>I'll Take Care Of You - Single Version</td>\n",
       "      <td>Soul</td>\n",
       "      <td>0.423</td>\n",
       "      <td>0.337</td>\n",
       "      <td>A#</td>\n",
       "      <td>-13.092</td>\n",
       "      <td>Minor</td>\n",
       "      <td>0.0436</td>\n",
       "      <td>0.5660</td>\n",
       "      <td>0.000000</td>\n",
       "      <td>0.2760</td>\n",
       "      <td>0.497</td>\n",
       "      <td>80.023</td>\n",
       "      <td>4/4</td>\n",
       "      <td>32</td>\n",
       "      <td>2iZf3EUedz9MPqbAvXdpdA</td>\n",
       "    </tr>\n",
       "    <tr>\n",
       "      <th>191394</th>\n",
       "      <td>Burning Fire</td>\n",
       "      <td>Soul</td>\n",
       "      <td>0.785</td>\n",
       "      <td>0.683</td>\n",
       "      <td>E</td>\n",
       "      <td>-6.944</td>\n",
       "      <td>Minor</td>\n",
       "      <td>0.0337</td>\n",
       "      <td>0.0329</td>\n",
       "      <td>0.000880</td>\n",
       "      <td>0.2370</td>\n",
       "      <td>0.969</td>\n",
       "      <td>113.830</td>\n",
       "      <td>4/4</td>\n",
       "      <td>38</td>\n",
       "      <td>1qWZdkBl4UVPj9lK6HuuFM</td>\n",
       "    </tr>\n",
       "    <tr>\n",
       "      <th>191395</th>\n",
       "      <td>You Don't Have To Hurt No More</td>\n",
       "      <td>Soul</td>\n",
       "      <td>0.758</td>\n",
       "      <td>0.470</td>\n",
       "      <td>G#</td>\n",
       "      <td>-6.708</td>\n",
       "      <td>Minor</td>\n",
       "      <td>0.0287</td>\n",
       "      <td>0.0973</td>\n",
       "      <td>0.000049</td>\n",
       "      <td>0.0836</td>\n",
       "      <td>0.479</td>\n",
       "      <td>113.897</td>\n",
       "      <td>4/4</td>\n",
       "      <td>35</td>\n",
       "      <td>34XO9RwPMKjbvRry54QzWn</td>\n",
       "    </tr>\n",
       "  </tbody>\n",
       "</table>\n",
       "<p>191396 rows × 16 columns</p>\n",
       "</div>"
      ],
      "text/plain": [
       "                                    Track Name                 Artist Genres  \\\n",
       "0       act ii: date @ 8 (feat. Drake) - remix                           NaN   \n",
       "1                                        LEAP!                           NaN   \n",
       "2                                    Overdrive  bedroom pop, pop, pov: indie   \n",
       "3                            Raise y_our glass                           NaN   \n",
       "4                                   In My Mind       gen z singer-songwriter   \n",
       "...                                        ...                           ...   \n",
       "191391                  Quickly (feat. Brandy)                          Soul   \n",
       "191392                                  P.O.P.                          Soul   \n",
       "191393  I'll Take Care Of You - Single Version                          Soul   \n",
       "191394                            Burning Fire                          Soul   \n",
       "191395          You Don't Have To Hurt No More                          Soul   \n",
       "\n",
       "        Danceability  Energy   Key  Loudness   Mode  Speechiness  \\\n",
       "0              0.550   0.545   0.0    -9.304    1.0       0.1630   \n",
       "1              0.892   0.585  11.0    -7.269    1.0       0.1020   \n",
       "2              0.568   0.788   5.0    -6.280    1.0       0.0377   \n",
       "3              0.567   0.503   8.0    -6.119    1.0       0.1240   \n",
       "4              0.668   0.392   2.0   -12.178    0.0       0.0585   \n",
       "...              ...     ...   ...       ...    ...          ...   \n",
       "191391         0.736   0.701    A#    -4.345  Minor       0.1000   \n",
       "191392         0.802   0.516     D    -9.014  Major       0.2130   \n",
       "191393         0.423   0.337    A#   -13.092  Minor       0.0436   \n",
       "191394         0.785   0.683     E    -6.944  Minor       0.0337   \n",
       "191395         0.758   0.470    G#    -6.708  Minor       0.0287   \n",
       "\n",
       "        Acousticness  Instrumentalness  Liveness  Valence    Tempo  \\\n",
       "0             0.3180          0.000000    0.0608    0.412  102.469   \n",
       "1             0.1460          0.000004    0.0881    0.244  104.011   \n",
       "2             0.0101          0.000000    0.1410    0.460  104.959   \n",
       "3             0.5810          0.000000    0.3690    0.184   72.798   \n",
       "4             0.7890          0.002750    0.3450    0.323  135.936   \n",
       "...              ...               ...       ...      ...      ...   \n",
       "191391        0.2310          0.000000    0.2030    0.770   99.991   \n",
       "191392        0.1040          0.000485    0.1050    0.482  175.666   \n",
       "191393        0.5660          0.000000    0.2760    0.497   80.023   \n",
       "191394        0.0329          0.000880    0.2370    0.969  113.830   \n",
       "191395        0.0973          0.000049    0.0836    0.479  113.897   \n",
       "\n",
       "       Time Signature  Track Popularity                track_id  \n",
       "0                 4.0                86  3QS9ZCtoSCJhmaJ7QNXSAS  \n",
       "1                 4.0                38  3vl2uH4D2QItFFhzz5L06g  \n",
       "2                 4.0                66  3QyoC6OvQUmpQwQZ18iaTs  \n",
       "3                 4.0                59  7j1vFohEm1lbsctYY9gyGd  \n",
       "4                 3.0                72  2W779g2UrRZtVdf3FcEOO1  \n",
       "...               ...               ...                     ...  \n",
       "191391            4/4                39  1U0OMWvR89Cm20vCNar50f  \n",
       "191392            4/4                43  2gGqKJWfWbToha2YmDxnnj  \n",
       "191393            4/4                32  2iZf3EUedz9MPqbAvXdpdA  \n",
       "191394            4/4                38  1qWZdkBl4UVPj9lK6HuuFM  \n",
       "191395            4/4                35  34XO9RwPMKjbvRry54QzWn  \n",
       "\n",
       "[191396 rows x 16 columns]"
      ]
     },
     "execution_count": 3,
     "metadata": {},
     "output_type": "execute_result"
    }
   ],
   "source": [
    "df = pd.read_csv('datasets/merged200k.csv')\n",
    "df"
   ]
  },
  {
   "cell_type": "markdown",
   "metadata": {},
   "source": [
    "## **Section 1: Regression Sampling Methods**"
   ]
  },
  {
   "cell_type": "markdown",
   "metadata": {},
   "source": [
    "#### <u>**Synthetic Minority Over-Sampling Technique for Regression with Gaussian Noise (SMOGN)**</u>"
   ]
  },
  {
   "cell_type": "code",
   "execution_count": 4,
   "metadata": {},
   "outputs": [],
   "source": [
    "df = df.reset_index(drop=True)"
   ]
  },
  {
   "cell_type": "code",
   "execution_count": 5,
   "metadata": {},
   "outputs": [
    {
     "name": "stderr",
     "output_type": "stream",
     "text": [
      "dist_matrix: 100%|##########| 281/281 [00:08<00:00, 34.94it/s]\n",
      "synth_matrix: 100%|##########| 281/281 [01:49<00:00,  2.57it/s]\n",
      "r_index: 100%|##########| 157/157 [00:00<00:00, 829.49it/s]\n"
     ]
    }
   ],
   "source": [
    "import smogn\n",
    "df_smogn = smogn.smoter(\n",
    "    \n",
    "    ## main arguments\n",
    "    data = df,         ## pandas dataframe\n",
    "    y = 'Track Popularity',   ## string ('header name')\n",
    "    k = 9,                    ## positive integer (k < n)\n",
    "    samp_method = 'balance',  ## string ('balance' or 'extreme')\n",
    "\n",
    "    ## phi relevance arguments\n",
    "    rel_thres = 1,         ## positive real number (0 < R < 1)\n",
    "    rel_method = 'auto',      ## string ('auto' or 'manual')\n",
    "    rel_xtrm_type = 'high',   ## string ('low' or 'both' or 'high')\n",
    "    rel_coef = 1.5            ## positive real number (0 < R)\n",
    ")"
   ]
  },
  {
   "cell_type": "markdown",
   "metadata": {},
   "source": [
    "## **Visualisation of Resampled Data as a Regression Problem**"
   ]
  },
  {
   "cell_type": "code",
   "execution_count": 6,
   "metadata": {},
   "outputs": [
    {
     "data": {
      "image/png": "[encoded data removed]",
      "text/plain": [
       "<Figure size 640x480 with 1 Axes>"
      ]
     },
     "metadata": {},
     "output_type": "display_data"
    }
   ],
   "source": [
    "## Compare track popularity distribution before and after sampling using SMOGN\n",
    "sb.kdeplot(df['Track Popularity'], label = \"Original\")\n",
    "sb.kdeplot(df_smogn['Track Popularity'], label = \"Modified\")\n",
    "plt.legend()\n",
    "plt.show()"
   ]
  },
  {
   "cell_type": "markdown",
   "metadata": {},
   "source": [
    "#### **Conclusions**"
   ]
  },
  {
   "cell_type": "markdown",
   "metadata": {},
   "source": [
    "SMOGN <u>over-sampled \"minority\" observations</u> and <u>under-sampled \"majority\" observations</u> in a continuous response variable according to the box plot. In this case, the minority are Spotify tracks with high popularity (of around 60-80), and the majority are Spotify tracks with low popularity (of around 0-60).\n",
    "\n",
    "As such, the modified SMOGN dataset increases the amount of tracks with high popularity and decreases the amount of tracks with low popularity, as seen in the above kde plot.\n",
    "\n",
    "Overall, there will be a more even number of data points with high popularity and low popularity, which allows regression models to be less biased towards predicting not-popular songs."
   ]
  },
  {
   "cell_type": "code",
   "execution_count": 7,
   "metadata": {},
   "outputs": [],
   "source": [
    "# Write SMOGN-resampled dataframe to a CSV file\n",
    "df_smogn.to_csv(\"datasets/smogn-reg.csv\")"
   ]
  },
  {
   "cell_type": "markdown",
   "metadata": {},
   "source": [
    "---"
   ]
  },
  {
   "cell_type": "markdown",
   "metadata": {},
   "source": [
    "## **Section 2: Classification Sampling Methods**"
   ]
  },
  {
   "cell_type": "markdown",
   "metadata": {},
   "source": [
    "### **Converting Regression Problem into Classification Problem**\n",
    "We decided to convert the regression problem into a classification problem as well to determine which can produce a better score.\n",
    "> Track Popularity scores >50 were taken to be popular songs, while scores ≤50 are taken to be not-popular."
   ]
  },
  {
   "cell_type": "code",
   "execution_count": 8,
   "metadata": {},
   "outputs": [],
   "source": [
    "threshold = 50\n",
    "df['Track Popularity Cat'] = df['Track Popularity'].apply(lambda x: 1 if x > threshold else 0)"
   ]
  },
  {
   "cell_type": "code",
   "execution_count": 10,
   "metadata": {},
   "outputs": [
    {
     "name": "stdout",
     "output_type": "stream",
     "text": [
      "Distribution of popular and not-popular tracks in original dataset\n"
     ]
    },
    {
     "data": {
      "text/plain": [
       "Track Popularity Cat\n",
       "0    0.781709\n",
       "1    0.218291\n",
       "Name: proportion, dtype: float64"
      ]
     },
     "execution_count": 10,
     "metadata": {},
     "output_type": "execute_result"
    }
   ],
   "source": [
    "print(\"Distribution of popular and not-popular tracks in original dataset\")\n",
    "df['Track Popularity Cat'].value_counts(normalize = True)"
   ]
  },
  {
   "cell_type": "markdown",
   "metadata": {},
   "source": [
    "There are significantly more not-popular tracks as compared to popular tracks (78% vs 22%). As such, the models trained on the original dataset will struggle with predicting popular songs as compared to not-popular songs. \n",
    "\n",
    "Let's try to balance out the ratio between not-popular and popular tracks using various sampling methods aimed for classification."
   ]
  },
  {
   "cell_type": "code",
   "execution_count": 11,
   "metadata": {},
   "outputs": [],
   "source": [
    "# Form training data\n",
    "predictors = [\"Danceability\", \"Energy\", \"Loudness\", \"Speechiness\", \"Acousticness\",\n",
    "              \"Instrumentalness\", \"Liveness\", \"Valence\", \"Tempo\"]\n",
    "track_pop_cat= pd.DataFrame(df['Track Popularity Cat'])   # Response\n",
    "voice_analysis = pd.DataFrame(df[predictors]) # Predictor\n",
    "\n",
    "# Train-test Split\n",
    "X_train, X_test, y_train, y_test = train_test_split(voice_analysis, track_pop_cat, test_size = 0.25, random_state=10)"
   ]
  },
  {
   "cell_type": "markdown",
   "metadata": {},
   "source": [
    "#### <u>**Random Over Sampling**</u>"
   ]
  },
  {
   "cell_type": "code",
   "execution_count": 12,
   "metadata": {},
   "outputs": [
    {
     "name": "stdout",
     "output_type": "stream",
     "text": [
      "Not-popular vs popular tracks in the training dataset\n",
      "112280 : 112280\n"
     ]
    }
   ],
   "source": [
    "from imblearn.over_sampling import RandomOverSampler\n",
    "\n",
    "ros = RandomOverSampler(random_state=101)\n",
    "X_train_ros, y_train_ros= ros.fit_resample(X_train, y_train)\n",
    "\n",
    "# Check the number of records after over sampling\n",
    "print(\"Not-popular vs popular tracks in the training dataset\")\n",
    "print(y_train_ros.value_counts()[0], ':', y_train_ros.value_counts()[1])"
   ]
  },
  {
   "cell_type": "code",
   "execution_count": 13,
   "metadata": {},
   "outputs": [
    {
     "data": {
      "text/html": [
       "<div>\n",
       "<style scoped>\n",
       "    .dataframe tbody tr th:only-of-type {\n",
       "        vertical-align: middle;\n",
       "    }\n",
       "\n",
       "    .dataframe tbody tr th {\n",
       "        vertical-align: top;\n",
       "    }\n",
       "\n",
       "    .dataframe thead th {\n",
       "        text-align: right;\n",
       "    }\n",
       "</style>\n",
       "<table border=\"1\" class=\"dataframe\">\n",
       "  <thead>\n",
       "    <tr style=\"text-align: right;\">\n",
       "      <th></th>\n",
       "      <th>Danceability</th>\n",
       "      <th>Energy</th>\n",
       "      <th>Loudness</th>\n",
       "      <th>Speechiness</th>\n",
       "      <th>Acousticness</th>\n",
       "      <th>Instrumentalness</th>\n",
       "      <th>Liveness</th>\n",
       "      <th>Valence</th>\n",
       "      <th>Tempo</th>\n",
       "      <th>Track Popularity Cat</th>\n",
       "    </tr>\n",
       "  </thead>\n",
       "  <tbody>\n",
       "    <tr>\n",
       "      <th>0</th>\n",
       "      <td>0.889</td>\n",
       "      <td>0.671</td>\n",
       "      <td>-7.111</td>\n",
       "      <td>0.0934</td>\n",
       "      <td>0.00623</td>\n",
       "      <td>0.000002</td>\n",
       "      <td>0.1320</td>\n",
       "      <td>0.439</td>\n",
       "      <td>149.982</td>\n",
       "      <td>1</td>\n",
       "    </tr>\n",
       "    <tr>\n",
       "      <th>1</th>\n",
       "      <td>0.795</td>\n",
       "      <td>0.859</td>\n",
       "      <td>-6.009</td>\n",
       "      <td>0.0358</td>\n",
       "      <td>0.05130</td>\n",
       "      <td>0.000001</td>\n",
       "      <td>0.0228</td>\n",
       "      <td>0.969</td>\n",
       "      <td>121.827</td>\n",
       "      <td>0</td>\n",
       "    </tr>\n",
       "    <tr>\n",
       "      <th>2</th>\n",
       "      <td>0.623</td>\n",
       "      <td>0.721</td>\n",
       "      <td>-10.520</td>\n",
       "      <td>0.0276</td>\n",
       "      <td>0.30200</td>\n",
       "      <td>0.000122</td>\n",
       "      <td>0.0838</td>\n",
       "      <td>0.782</td>\n",
       "      <td>101.431</td>\n",
       "      <td>0</td>\n",
       "    </tr>\n",
       "    <tr>\n",
       "      <th>3</th>\n",
       "      <td>0.550</td>\n",
       "      <td>0.835</td>\n",
       "      <td>-8.517</td>\n",
       "      <td>0.1480</td>\n",
       "      <td>0.00827</td>\n",
       "      <td>0.000000</td>\n",
       "      <td>0.0616</td>\n",
       "      <td>0.276</td>\n",
       "      <td>92.053</td>\n",
       "      <td>0</td>\n",
       "    </tr>\n",
       "    <tr>\n",
       "      <th>4</th>\n",
       "      <td>0.575</td>\n",
       "      <td>0.808</td>\n",
       "      <td>-3.485</td>\n",
       "      <td>0.0330</td>\n",
       "      <td>0.14500</td>\n",
       "      <td>0.000000</td>\n",
       "      <td>0.0898</td>\n",
       "      <td>0.479</td>\n",
       "      <td>96.975</td>\n",
       "      <td>0</td>\n",
       "    </tr>\n",
       "  </tbody>\n",
       "</table>\n",
       "</div>"
      ],
      "text/plain": [
       "   Danceability  Energy  Loudness  Speechiness  Acousticness  \\\n",
       "0         0.889   0.671    -7.111       0.0934       0.00623   \n",
       "1         0.795   0.859    -6.009       0.0358       0.05130   \n",
       "2         0.623   0.721   -10.520       0.0276       0.30200   \n",
       "3         0.550   0.835    -8.517       0.1480       0.00827   \n",
       "4         0.575   0.808    -3.485       0.0330       0.14500   \n",
       "\n",
       "   Instrumentalness  Liveness  Valence    Tempo  Track Popularity Cat  \n",
       "0          0.000002    0.1320    0.439  149.982                     1  \n",
       "1          0.000001    0.0228    0.969  121.827                     0  \n",
       "2          0.000122    0.0838    0.782  101.431                     0  \n",
       "3          0.000000    0.0616    0.276   92.053                     0  \n",
       "4          0.000000    0.0898    0.479   96.975                     0  "
      ]
     },
     "execution_count": 13,
     "metadata": {},
     "output_type": "execute_result"
    }
   ],
   "source": [
    "rdmover = pd.concat([X_train_ros, y_train_ros], axis=1)\n",
    "rdmover.head()"
   ]
  },
  {
   "cell_type": "code",
   "execution_count": 14,
   "metadata": {},
   "outputs": [],
   "source": [
    "# Write random oversampling dataframe to a CSV file\n",
    "rdmover.to_csv('datasets/rdmover.csv')"
   ]
  },
  {
   "cell_type": "markdown",
   "metadata": {},
   "source": [
    "#### <u>**Synthetic Minority Oversampling Technique (SMOTE)**</u>"
   ]
  },
  {
   "cell_type": "code",
   "execution_count": 15,
   "metadata": {},
   "outputs": [
    {
     "name": "stdout",
     "output_type": "stream",
     "text": [
      "Not-popular vs popular tracks in the training dataset\n",
      "112280 : 112280\n"
     ]
    }
   ],
   "source": [
    "from imblearn.over_sampling import SMOTE\n",
    "\n",
    "# Randomly over sample the minority class\n",
    "smote = SMOTE(random_state=42)\n",
    "X_train_smote, y_train_smote= smote.fit_resample(X_train, y_train)\n",
    "\n",
    "# Check the number of records after over sampling\n",
    "print(\"Not-popular vs popular tracks in the training dataset\")\n",
    "print(y_train_smote.value_counts()[0], ':', y_train_smote.value_counts()[1])"
   ]
  },
  {
   "cell_type": "code",
   "execution_count": 16,
   "metadata": {},
   "outputs": [
    {
     "data": {
      "text/html": [
       "<div>\n",
       "<style scoped>\n",
       "    .dataframe tbody tr th:only-of-type {\n",
       "        vertical-align: middle;\n",
       "    }\n",
       "\n",
       "    .dataframe tbody tr th {\n",
       "        vertical-align: top;\n",
       "    }\n",
       "\n",
       "    .dataframe thead th {\n",
       "        text-align: right;\n",
       "    }\n",
       "</style>\n",
       "<table border=\"1\" class=\"dataframe\">\n",
       "  <thead>\n",
       "    <tr style=\"text-align: right;\">\n",
       "      <th></th>\n",
       "      <th>Danceability</th>\n",
       "      <th>Energy</th>\n",
       "      <th>Loudness</th>\n",
       "      <th>Speechiness</th>\n",
       "      <th>Acousticness</th>\n",
       "      <th>Instrumentalness</th>\n",
       "      <th>Liveness</th>\n",
       "      <th>Valence</th>\n",
       "      <th>Tempo</th>\n",
       "      <th>Track Popularity Cat</th>\n",
       "    </tr>\n",
       "  </thead>\n",
       "  <tbody>\n",
       "    <tr>\n",
       "      <th>0</th>\n",
       "      <td>0.889</td>\n",
       "      <td>0.671</td>\n",
       "      <td>-7.111</td>\n",
       "      <td>0.0934</td>\n",
       "      <td>0.00623</td>\n",
       "      <td>0.000002</td>\n",
       "      <td>0.1320</td>\n",
       "      <td>0.439</td>\n",
       "      <td>149.982</td>\n",
       "      <td>1</td>\n",
       "    </tr>\n",
       "    <tr>\n",
       "      <th>1</th>\n",
       "      <td>0.795</td>\n",
       "      <td>0.859</td>\n",
       "      <td>-6.009</td>\n",
       "      <td>0.0358</td>\n",
       "      <td>0.05130</td>\n",
       "      <td>0.000001</td>\n",
       "      <td>0.0228</td>\n",
       "      <td>0.969</td>\n",
       "      <td>121.827</td>\n",
       "      <td>0</td>\n",
       "    </tr>\n",
       "    <tr>\n",
       "      <th>2</th>\n",
       "      <td>0.623</td>\n",
       "      <td>0.721</td>\n",
       "      <td>-10.520</td>\n",
       "      <td>0.0276</td>\n",
       "      <td>0.30200</td>\n",
       "      <td>0.000122</td>\n",
       "      <td>0.0838</td>\n",
       "      <td>0.782</td>\n",
       "      <td>101.431</td>\n",
       "      <td>0</td>\n",
       "    </tr>\n",
       "    <tr>\n",
       "      <th>3</th>\n",
       "      <td>0.550</td>\n",
       "      <td>0.835</td>\n",
       "      <td>-8.517</td>\n",
       "      <td>0.1480</td>\n",
       "      <td>0.00827</td>\n",
       "      <td>0.000000</td>\n",
       "      <td>0.0616</td>\n",
       "      <td>0.276</td>\n",
       "      <td>92.053</td>\n",
       "      <td>0</td>\n",
       "    </tr>\n",
       "    <tr>\n",
       "      <th>4</th>\n",
       "      <td>0.575</td>\n",
       "      <td>0.808</td>\n",
       "      <td>-3.485</td>\n",
       "      <td>0.0330</td>\n",
       "      <td>0.14500</td>\n",
       "      <td>0.000000</td>\n",
       "      <td>0.0898</td>\n",
       "      <td>0.479</td>\n",
       "      <td>96.975</td>\n",
       "      <td>0</td>\n",
       "    </tr>\n",
       "  </tbody>\n",
       "</table>\n",
       "</div>"
      ],
      "text/plain": [
       "   Danceability  Energy  Loudness  Speechiness  Acousticness  \\\n",
       "0         0.889   0.671    -7.111       0.0934       0.00623   \n",
       "1         0.795   0.859    -6.009       0.0358       0.05130   \n",
       "2         0.623   0.721   -10.520       0.0276       0.30200   \n",
       "3         0.550   0.835    -8.517       0.1480       0.00827   \n",
       "4         0.575   0.808    -3.485       0.0330       0.14500   \n",
       "\n",
       "   Instrumentalness  Liveness  Valence    Tempo  Track Popularity Cat  \n",
       "0          0.000002    0.1320    0.439  149.982                     1  \n",
       "1          0.000001    0.0228    0.969  121.827                     0  \n",
       "2          0.000122    0.0838    0.782  101.431                     0  \n",
       "3          0.000000    0.0616    0.276   92.053                     0  \n",
       "4          0.000000    0.0898    0.479   96.975                     0  "
      ]
     },
     "execution_count": 16,
     "metadata": {},
     "output_type": "execute_result"
    }
   ],
   "source": [
    "smotedf = pd.concat([X_train_smote, y_train_smote], axis=1)\n",
    "smotedf.head()"
   ]
  },
  {
   "cell_type": "code",
   "execution_count": 17,
   "metadata": {},
   "outputs": [],
   "source": [
    "# Write SMOTE dataframe to a CSV file\n",
    "smotedf.to_csv('datasets/smote.csv')"
   ]
  },
  {
   "cell_type": "markdown",
   "metadata": {},
   "source": [
    "#### <u>**Random Under Sampling**</u>"
   ]
  },
  {
   "cell_type": "code",
   "execution_count": 18,
   "metadata": {},
   "outputs": [
    {
     "name": "stdout",
     "output_type": "stream",
     "text": [
      "Not-popular vs popular tracks in the training dataset\n",
      "31267 : 31267\n"
     ]
    }
   ],
   "source": [
    "from imblearn.under_sampling import RandomUnderSampler\n",
    "\n",
    "# Randomly under sample the majority class\n",
    "rus = RandomUnderSampler(random_state=101)\n",
    "X_train_rus, y_train_rus= rus.fit_resample(X_train, y_train)\n",
    "\n",
    "# Check the number of records after under sampling\n",
    "print(\"Not-popular vs popular tracks in the training dataset\")\n",
    "print(y_train_rus.value_counts()[0], ':', y_train_rus.value_counts()[1])"
   ]
  },
  {
   "cell_type": "code",
   "execution_count": 19,
   "metadata": {},
   "outputs": [
    {
     "data": {
      "text/html": [
       "<div>\n",
       "<style scoped>\n",
       "    .dataframe tbody tr th:only-of-type {\n",
       "        vertical-align: middle;\n",
       "    }\n",
       "\n",
       "    .dataframe tbody tr th {\n",
       "        vertical-align: top;\n",
       "    }\n",
       "\n",
       "    .dataframe thead th {\n",
       "        text-align: right;\n",
       "    }\n",
       "</style>\n",
       "<table border=\"1\" class=\"dataframe\">\n",
       "  <thead>\n",
       "    <tr style=\"text-align: right;\">\n",
       "      <th></th>\n",
       "      <th>Danceability</th>\n",
       "      <th>Energy</th>\n",
       "      <th>Loudness</th>\n",
       "      <th>Speechiness</th>\n",
       "      <th>Acousticness</th>\n",
       "      <th>Instrumentalness</th>\n",
       "      <th>Liveness</th>\n",
       "      <th>Valence</th>\n",
       "      <th>Tempo</th>\n",
       "      <th>Track Popularity Cat</th>\n",
       "    </tr>\n",
       "  </thead>\n",
       "  <tbody>\n",
       "    <tr>\n",
       "      <th>113674</th>\n",
       "      <td>0.410</td>\n",
       "      <td>0.0715</td>\n",
       "      <td>-18.990</td>\n",
       "      <td>0.0331</td>\n",
       "      <td>0.97700</td>\n",
       "      <td>0.931000</td>\n",
       "      <td>0.0673</td>\n",
       "      <td>0.285</td>\n",
       "      <td>94.884</td>\n",
       "      <td>0</td>\n",
       "    </tr>\n",
       "    <tr>\n",
       "      <th>49572</th>\n",
       "      <td>0.586</td>\n",
       "      <td>0.9300</td>\n",
       "      <td>-3.465</td>\n",
       "      <td>0.0445</td>\n",
       "      <td>0.00143</td>\n",
       "      <td>0.000005</td>\n",
       "      <td>0.2520</td>\n",
       "      <td>0.470</td>\n",
       "      <td>125.032</td>\n",
       "      <td>0</td>\n",
       "    </tr>\n",
       "    <tr>\n",
       "      <th>185842</th>\n",
       "      <td>0.525</td>\n",
       "      <td>0.6930</td>\n",
       "      <td>-7.383</td>\n",
       "      <td>0.0486</td>\n",
       "      <td>0.69400</td>\n",
       "      <td>0.011600</td>\n",
       "      <td>0.0776</td>\n",
       "      <td>0.814</td>\n",
       "      <td>186.688</td>\n",
       "      <td>0</td>\n",
       "    </tr>\n",
       "    <tr>\n",
       "      <th>165041</th>\n",
       "      <td>0.684</td>\n",
       "      <td>0.0951</td>\n",
       "      <td>-26.353</td>\n",
       "      <td>0.4900</td>\n",
       "      <td>0.67800</td>\n",
       "      <td>0.000000</td>\n",
       "      <td>0.2580</td>\n",
       "      <td>0.350</td>\n",
       "      <td>82.706</td>\n",
       "      <td>0</td>\n",
       "    </tr>\n",
       "    <tr>\n",
       "      <th>6771</th>\n",
       "      <td>0.284</td>\n",
       "      <td>0.9640</td>\n",
       "      <td>-4.890</td>\n",
       "      <td>0.3700</td>\n",
       "      <td>0.05430</td>\n",
       "      <td>0.000000</td>\n",
       "      <td>0.1020</td>\n",
       "      <td>0.588</td>\n",
       "      <td>89.144</td>\n",
       "      <td>0</td>\n",
       "    </tr>\n",
       "  </tbody>\n",
       "</table>\n",
       "</div>"
      ],
      "text/plain": [
       "        Danceability  Energy  Loudness  Speechiness  Acousticness  \\\n",
       "113674         0.410  0.0715   -18.990       0.0331       0.97700   \n",
       "49572          0.586  0.9300    -3.465       0.0445       0.00143   \n",
       "185842         0.525  0.6930    -7.383       0.0486       0.69400   \n",
       "165041         0.684  0.0951   -26.353       0.4900       0.67800   \n",
       "6771           0.284  0.9640    -4.890       0.3700       0.05430   \n",
       "\n",
       "        Instrumentalness  Liveness  Valence    Tempo  Track Popularity Cat  \n",
       "113674          0.931000    0.0673    0.285   94.884                     0  \n",
       "49572           0.000005    0.2520    0.470  125.032                     0  \n",
       "185842          0.011600    0.0776    0.814  186.688                     0  \n",
       "165041          0.000000    0.2580    0.350   82.706                     0  \n",
       "6771            0.000000    0.1020    0.588   89.144                     0  "
      ]
     },
     "execution_count": 19,
     "metadata": {},
     "output_type": "execute_result"
    }
   ],
   "source": [
    "rdmunder = pd.concat([X_train_rus, y_train_rus], axis=1)\n",
    "rdmunder.head()"
   ]
  },
  {
   "cell_type": "code",
   "execution_count": 20,
   "metadata": {},
   "outputs": [],
   "source": [
    "# Write random undersampling dataframe to a CSV file\n",
    "rdmunder.to_csv('datasets/rdmunder.csv')"
   ]
  },
  {
   "cell_type": "markdown",
   "metadata": {},
   "source": [
    "#### <u>**NearMiss**</u>"
   ]
  },
  {
   "cell_type": "code",
   "execution_count": 21,
   "metadata": {},
   "outputs": [
    {
     "name": "stdout",
     "output_type": "stream",
     "text": [
      "Not-popular vs popular tracks in the training dataset\n",
      "31267 : 31267\n"
     ]
    }
   ],
   "source": [
    "from imblearn.under_sampling import NearMiss\n",
    "\n",
    "# Under sample the majority class\n",
    "nearmiss = NearMiss(version=3)\n",
    "X_train_nearmiss, y_train_nearmiss= nearmiss.fit_resample(X_train, y_train)\n",
    "\n",
    "# Check the number of records after over sampling\n",
    "print(\"Not-popular vs popular tracks in the training dataset\")\n",
    "print(y_train_rus.value_counts()[0], ':', y_train_rus.value_counts()[1])"
   ]
  },
  {
   "cell_type": "code",
   "execution_count": 22,
   "metadata": {},
   "outputs": [
    {
     "data": {
      "text/html": [
       "<div>\n",
       "<style scoped>\n",
       "    .dataframe tbody tr th:only-of-type {\n",
       "        vertical-align: middle;\n",
       "    }\n",
       "\n",
       "    .dataframe tbody tr th {\n",
       "        vertical-align: top;\n",
       "    }\n",
       "\n",
       "    .dataframe thead th {\n",
       "        text-align: right;\n",
       "    }\n",
       "</style>\n",
       "<table border=\"1\" class=\"dataframe\">\n",
       "  <thead>\n",
       "    <tr style=\"text-align: right;\">\n",
       "      <th></th>\n",
       "      <th>Danceability</th>\n",
       "      <th>Energy</th>\n",
       "      <th>Loudness</th>\n",
       "      <th>Speechiness</th>\n",
       "      <th>Acousticness</th>\n",
       "      <th>Instrumentalness</th>\n",
       "      <th>Liveness</th>\n",
       "      <th>Valence</th>\n",
       "      <th>Tempo</th>\n",
       "      <th>Track Popularity Cat</th>\n",
       "    </tr>\n",
       "  </thead>\n",
       "  <tbody>\n",
       "    <tr>\n",
       "      <th>0</th>\n",
       "      <td>0.889</td>\n",
       "      <td>0.671</td>\n",
       "      <td>-7.111</td>\n",
       "      <td>0.0934</td>\n",
       "      <td>0.00623</td>\n",
       "      <td>0.000002</td>\n",
       "      <td>0.1320</td>\n",
       "      <td>0.439</td>\n",
       "      <td>149.982</td>\n",
       "      <td>1</td>\n",
       "    </tr>\n",
       "    <tr>\n",
       "      <th>1</th>\n",
       "      <td>0.795</td>\n",
       "      <td>0.859</td>\n",
       "      <td>-6.009</td>\n",
       "      <td>0.0358</td>\n",
       "      <td>0.05130</td>\n",
       "      <td>0.000001</td>\n",
       "      <td>0.0228</td>\n",
       "      <td>0.969</td>\n",
       "      <td>121.827</td>\n",
       "      <td>0</td>\n",
       "    </tr>\n",
       "    <tr>\n",
       "      <th>2</th>\n",
       "      <td>0.623</td>\n",
       "      <td>0.721</td>\n",
       "      <td>-10.520</td>\n",
       "      <td>0.0276</td>\n",
       "      <td>0.30200</td>\n",
       "      <td>0.000122</td>\n",
       "      <td>0.0838</td>\n",
       "      <td>0.782</td>\n",
       "      <td>101.431</td>\n",
       "      <td>0</td>\n",
       "    </tr>\n",
       "    <tr>\n",
       "      <th>3</th>\n",
       "      <td>0.550</td>\n",
       "      <td>0.835</td>\n",
       "      <td>-8.517</td>\n",
       "      <td>0.1480</td>\n",
       "      <td>0.00827</td>\n",
       "      <td>0.000000</td>\n",
       "      <td>0.0616</td>\n",
       "      <td>0.276</td>\n",
       "      <td>92.053</td>\n",
       "      <td>0</td>\n",
       "    </tr>\n",
       "    <tr>\n",
       "      <th>4</th>\n",
       "      <td>0.575</td>\n",
       "      <td>0.808</td>\n",
       "      <td>-3.485</td>\n",
       "      <td>0.0330</td>\n",
       "      <td>0.14500</td>\n",
       "      <td>0.000000</td>\n",
       "      <td>0.0898</td>\n",
       "      <td>0.479</td>\n",
       "      <td>96.975</td>\n",
       "      <td>0</td>\n",
       "    </tr>\n",
       "  </tbody>\n",
       "</table>\n",
       "</div>"
      ],
      "text/plain": [
       "   Danceability  Energy  Loudness  Speechiness  Acousticness  \\\n",
       "0         0.889   0.671    -7.111       0.0934       0.00623   \n",
       "1         0.795   0.859    -6.009       0.0358       0.05130   \n",
       "2         0.623   0.721   -10.520       0.0276       0.30200   \n",
       "3         0.550   0.835    -8.517       0.1480       0.00827   \n",
       "4         0.575   0.808    -3.485       0.0330       0.14500   \n",
       "\n",
       "   Instrumentalness  Liveness  Valence    Tempo  Track Popularity Cat  \n",
       "0          0.000002    0.1320    0.439  149.982                     1  \n",
       "1          0.000001    0.0228    0.969  121.827                     0  \n",
       "2          0.000122    0.0838    0.782  101.431                     0  \n",
       "3          0.000000    0.0616    0.276   92.053                     0  \n",
       "4          0.000000    0.0898    0.479   96.975                     0  "
      ]
     },
     "execution_count": 22,
     "metadata": {},
     "output_type": "execute_result"
    }
   ],
   "source": [
    "nm = pd.concat([X_train_ros, y_train_ros], axis=1)\n",
    "nm.head()"
   ]
  },
  {
   "cell_type": "code",
   "execution_count": 23,
   "metadata": {},
   "outputs": [],
   "source": [
    "# Write NearMiss sampled dataframe to a CSV file\n",
    "nm.to_csv('datasets/nearmiss.csv')"
   ]
  },
  {
   "cell_type": "markdown",
   "metadata": {},
   "source": [
    "#### <u>**Using the SMOGN Oversampled Dataset from the Regression Problem**</u>"
   ]
  },
  {
   "cell_type": "code",
   "execution_count": 24,
   "metadata": {},
   "outputs": [
    {
     "name": "stdout",
     "output_type": "stream",
     "text": [
      "Not-popular vs popular tracks in the training dataset\n",
      "56249 : 87086\n"
     ]
    }
   ],
   "source": [
    "df_smogn = pd.read_csv('datasets/smogn-reg.csv')\n",
    "df_smogn['Track Popularity Cat'] = df_smogn['Track Popularity'].apply(lambda x: 1 if x > threshold else 0)\n",
    "\n",
    "predictors = [\"Danceability\", \"Energy\", \"Loudness\", \"Speechiness\", \"Acousticness\",\n",
    "              \"Instrumentalness\", \"Liveness\", \"Valence\", \"Tempo\"]\n",
    "track_pop_cat= pd.DataFrame(df_smogn['Track Popularity Cat'])   # Response\n",
    "voice_analysis = pd.DataFrame(df_smogn[predictors]) # Predictor\n",
    "\n",
    "# Train-test Split\n",
    "X_train_smogn, X_test_smogn, y_train_smogn, y_test_smogn = train_test_split(voice_analysis, track_pop_cat, test_size = 0.25, random_state=10)\n",
    "\n",
    "# Check the number of records after over sampling\n",
    "print(\"Not-popular vs popular tracks in the training dataset\")\n",
    "print(y_train_smogn.value_counts()[0], ':', y_train_smogn.value_counts()[1])"
   ]
  },
  {
   "cell_type": "code",
   "execution_count": 25,
   "metadata": {},
   "outputs": [],
   "source": [
    "smogn_c = pd.concat([X_train_smogn, y_train_smogn], axis=1)"
   ]
  },
  {
   "cell_type": "code",
   "execution_count": 26,
   "metadata": {},
   "outputs": [],
   "source": [
    "# Write random oversampling dataframe to a CSV file\n",
    "smogn_c.to_csv('datasets/smogn-class.csv')"
   ]
  },
  {
   "cell_type": "markdown",
   "metadata": {},
   "source": [
    "---"
   ]
  },
  {
   "cell_type": "markdown",
   "metadata": {},
   "source": [
    "## **Visualisation of Resampled Data as a Classification Problem**"
   ]
  },
  {
   "cell_type": "code",
   "execution_count": 27,
   "metadata": {},
   "outputs": [],
   "source": [
    "# Convert original dataset into a classification problem\n",
    "df['Track Populatity Cat'] = df['Track Popularity'].apply(lambda x: 1 if x > threshold else 0)\n",
    "\n",
    "predictors = [\"Danceability\", \"Energy\", \"Loudness\", \"Speechiness\", \"Acousticness\",\n",
    "              \"Instrumentalness\", \"Liveness\", \"Valence\", \"Tempo\"]\n",
    "track_pop_cat= pd.DataFrame(df['Track Popularity Cat'])   # Response\n",
    "voice_analysis = pd.DataFrame(df[predictors]) # Predictor\n",
    "\n",
    "# Train-test Split\n",
    "X_train_og, X_test_og, y_train_og, y_test_og = train_test_split(voice_analysis, track_pop_cat, test_size = 0.25, random_state=10)\n",
    "\n",
    "originaldf = pd.concat([X_train_og, y_train_og], axis=1)"
   ]
  },
  {
   "cell_type": "code",
   "execution_count": 28,
   "metadata": {},
   "outputs": [
    {
     "data": {
      "text/plain": [
       "Text(0.5, 0, 'SMOGN as Classification Problem')"
      ]
     },
     "execution_count": 28,
     "metadata": {},
     "output_type": "execute_result"
    },
    {
     "data": {
      "image/png": "[encoded data removed]",
      "text/plain": [
       "<Figure size 2400x1200 with 6 Axes>"
      ]
     },
     "metadata": {},
     "output_type": "display_data"
    }
   ],
   "source": [
    "\"\"\"\n",
    "originaldf : Original dataset as a classification problem\n",
    "rdmover : Random Oversampling\n",
    "smotedf : SMOTE\n",
    "rdmunder : Random Undersampling\n",
    "nm : NearMiss\n",
    "smogn_c: Using df_smogn as a classification problem\n",
    "\"\"\"\n",
    "\n",
    "f, axes = plt.subplots(2,3, figsize=(24,12))\n",
    "plt.setp(axes,ylim=(0,125000))\n",
    "\n",
    "o = sb.countplot(x=originaldf['Track Popularity Cat'], hue=originaldf['Track Popularity Cat'],\n",
    "                 ax=axes[0,0], palette=['#EF919B',\"#A0CFA2\"], legend=False)\n",
    "o.set_xlabel(\"Original\")\n",
    "ro = sb.countplot(x=rdmover['Track Popularity Cat'], hue=rdmover['Track Popularity Cat'],\n",
    "                  ax=axes[0,1], palette=['#EF919B',\"#A0CFA2\"], legend=False)\n",
    "ro.set_xlabel(\"Random Oversampling\")\n",
    "sm = sb.countplot(x=smotedf['Track Popularity Cat'], hue=smotedf['Track Popularity Cat'],\n",
    "                  ax=axes[0,2], palette=['#EF919B',\"#A0CFA2\"], legend=False)\n",
    "sm.set_xlabel(\"SMOTE\")\n",
    "ru = sb.countplot(x=rdmunder['Track Popularity Cat'], hue=rdmunder['Track Popularity Cat'],\n",
    "                  ax=axes[1,0], palette=['#EF919B',\"#A0CFA2\"], legend=False)\n",
    "ru.set_xlabel(\"Random Undersampling\")\n",
    "n = sb.countplot(x=nm['Track Popularity Cat'], hue=nm['Track Popularity Cat'],\n",
    "                 ax=axes[1,1], palette=['#EF919B',\"#A0CFA2\"], legend=False)\n",
    "n.set_xlabel(\"NearMiss\")\n",
    "smc = sb.countplot(x=smogn_c['Track Popularity Cat'], hue=smogn_c['Track Popularity Cat'],\n",
    "                   ax=axes[1,2], palette=['#EF919B',\"#A0CFA2\"], legend=False)\n",
    "smc.set_xlabel(\"SMOGN as Classification Problem\")"
   ]
  },
  {
   "cell_type": "markdown",
   "metadata": {},
   "source": [
    "Overall, there is a more even number of data points with high popularity and low popularity for most of the resampled data, excluding SMOGN as a classification problem"
   ]
  }
 ],
 "metadata": {
  "kernelspec": {
   "display_name": "Python 3",
   "language": "python",
   "name": "python3"
  },
  "language_info": {
   "codemirror_mode": {
    "name": "ipython",
    "version": 3
   },
   "file_extension": ".py",
   "mimetype": "text/x-python",
   "name": "python",
   "nbconvert_exporter": "python",
   "pygments_lexer": "ipython3",
   "version": "3.11.4"
  }
 },
 "nbformat": 4,
 "nbformat_minor": 2
}
