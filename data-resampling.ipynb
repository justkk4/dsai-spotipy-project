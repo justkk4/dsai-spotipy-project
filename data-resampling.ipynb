{
 "cells": [
  {
   "cell_type": "markdown",
   "metadata": {},
   "source": [
    "# **Data Resampling**\n",
    "As explained in our <u>***data-visualisation.csv***</u> resampling is required for the merged200k.csv dataset in order to balance out the distribution of track popularity."
   ]
  },
  {
   "cell_type": "markdown",
   "metadata": {},
   "source": [
    "#### **Import Necessary Libraries**"
   ]
  },
  {
   "cell_type": "code",
   "execution_count": 1,
   "metadata": {},
   "outputs": [],
   "source": [
    "import pandas as pd\n",
    "import seaborn as sb\n",
    "import matplotlib.pyplot as plt\n",
    "import numpy as np\n",
    "\n",
    "from sklearn.model_selection import train_test_split"
   ]
  },
  {
   "cell_type": "markdown",
   "metadata": {},
   "source": [
    "---"
   ]
  },
  {
   "cell_type": "code",
   "execution_count": 2,
   "metadata": {},
   "outputs": [
    {
     "data": {
      "text/html": [
       "<div>\n",
       "<style scoped>\n",
       "    .dataframe tbody tr th:only-of-type {\n",
       "        vertical-align: middle;\n",
       "    }\n",
       "\n",
       "    .dataframe tbody tr th {\n",
       "        vertical-align: top;\n",
       "    }\n",
       "\n",
       "    .dataframe thead th {\n",
       "        text-align: right;\n",
       "    }\n",
       "</style>\n",
       "<table border=\"1\" class=\"dataframe\">\n",
       "  <thead>\n",
       "    <tr style=\"text-align: right;\">\n",
       "      <th></th>\n",
       "      <th>Track Name</th>\n",
       "      <th>Danceability</th>\n",
       "      <th>Energy</th>\n",
       "      <th>Key</th>\n",
       "      <th>Loudness</th>\n",
       "      <th>Mode</th>\n",
       "      <th>Speechiness</th>\n",
       "      <th>Acousticness</th>\n",
       "      <th>Instrumentalness</th>\n",
       "      <th>Liveness</th>\n",
       "      <th>Valence</th>\n",
       "      <th>Tempo</th>\n",
       "      <th>Time Signature</th>\n",
       "      <th>Track Popularity</th>\n",
       "      <th>Artist Genres</th>\n",
       "      <th>track_id</th>\n",
       "    </tr>\n",
       "  </thead>\n",
       "  <tbody>\n",
       "    <tr>\n",
       "      <th>0</th>\n",
       "      <td>act ii: date @ 8 (feat. Drake) - remix</td>\n",
       "      <td>0.550</td>\n",
       "      <td>0.545</td>\n",
       "      <td>0.0</td>\n",
       "      <td>-9.304</td>\n",
       "      <td>1.0</td>\n",
       "      <td>0.1630</td>\n",
       "      <td>0.3180</td>\n",
       "      <td>0.000000</td>\n",
       "      <td>0.0608</td>\n",
       "      <td>0.412</td>\n",
       "      <td>102.469</td>\n",
       "      <td>4.0</td>\n",
       "      <td>87</td>\n",
       "      <td>NaN</td>\n",
       "      <td>3QS9ZCtoSCJhmaJ7QNXSAS</td>\n",
       "    </tr>\n",
       "    <tr>\n",
       "      <th>1</th>\n",
       "      <td>LEAP!</td>\n",
       "      <td>0.892</td>\n",
       "      <td>0.585</td>\n",
       "      <td>11.0</td>\n",
       "      <td>-7.269</td>\n",
       "      <td>1.0</td>\n",
       "      <td>0.1020</td>\n",
       "      <td>0.1460</td>\n",
       "      <td>0.000004</td>\n",
       "      <td>0.0881</td>\n",
       "      <td>0.244</td>\n",
       "      <td>104.011</td>\n",
       "      <td>4.0</td>\n",
       "      <td>38</td>\n",
       "      <td>NaN</td>\n",
       "      <td>3vl2uH4D2QItFFhzz5L06g</td>\n",
       "    </tr>\n",
       "    <tr>\n",
       "      <th>2</th>\n",
       "      <td>Overdrive</td>\n",
       "      <td>0.568</td>\n",
       "      <td>0.788</td>\n",
       "      <td>5.0</td>\n",
       "      <td>-6.280</td>\n",
       "      <td>1.0</td>\n",
       "      <td>0.0377</td>\n",
       "      <td>0.0101</td>\n",
       "      <td>0.000000</td>\n",
       "      <td>0.1410</td>\n",
       "      <td>0.460</td>\n",
       "      <td>104.959</td>\n",
       "      <td>4.0</td>\n",
       "      <td>66</td>\n",
       "      <td>bedroom pop, pop, pov: indie</td>\n",
       "      <td>3QyoC6OvQUmpQwQZ18iaTs</td>\n",
       "    </tr>\n",
       "    <tr>\n",
       "      <th>3</th>\n",
       "      <td>Raise y_our glass</td>\n",
       "      <td>0.567</td>\n",
       "      <td>0.503</td>\n",
       "      <td>8.0</td>\n",
       "      <td>-6.119</td>\n",
       "      <td>1.0</td>\n",
       "      <td>0.1240</td>\n",
       "      <td>0.5810</td>\n",
       "      <td>0.000000</td>\n",
       "      <td>0.3690</td>\n",
       "      <td>0.184</td>\n",
       "      <td>72.798</td>\n",
       "      <td>4.0</td>\n",
       "      <td>60</td>\n",
       "      <td>NaN</td>\n",
       "      <td>7j1vFohEm1lbsctYY9gyGd</td>\n",
       "    </tr>\n",
       "    <tr>\n",
       "      <th>4</th>\n",
       "      <td>In My Mind</td>\n",
       "      <td>0.668</td>\n",
       "      <td>0.392</td>\n",
       "      <td>2.0</td>\n",
       "      <td>-12.178</td>\n",
       "      <td>0.0</td>\n",
       "      <td>0.0585</td>\n",
       "      <td>0.7890</td>\n",
       "      <td>0.002750</td>\n",
       "      <td>0.3450</td>\n",
       "      <td>0.323</td>\n",
       "      <td>135.936</td>\n",
       "      <td>3.0</td>\n",
       "      <td>73</td>\n",
       "      <td>gen z singer-songwriter</td>\n",
       "      <td>2W779g2UrRZtVdf3FcEOO1</td>\n",
       "    </tr>\n",
       "    <tr>\n",
       "      <th>...</th>\n",
       "      <td>...</td>\n",
       "      <td>...</td>\n",
       "      <td>...</td>\n",
       "      <td>...</td>\n",
       "      <td>...</td>\n",
       "      <td>...</td>\n",
       "      <td>...</td>\n",
       "      <td>...</td>\n",
       "      <td>...</td>\n",
       "      <td>...</td>\n",
       "      <td>...</td>\n",
       "      <td>...</td>\n",
       "      <td>...</td>\n",
       "      <td>...</td>\n",
       "      <td>...</td>\n",
       "      <td>...</td>\n",
       "    </tr>\n",
       "    <tr>\n",
       "      <th>191390</th>\n",
       "      <td>Quickly (feat. Brandy)</td>\n",
       "      <td>0.736</td>\n",
       "      <td>0.701</td>\n",
       "      <td>A#</td>\n",
       "      <td>-4.345</td>\n",
       "      <td>Minor</td>\n",
       "      <td>0.1000</td>\n",
       "      <td>0.2310</td>\n",
       "      <td>0.000000</td>\n",
       "      <td>0.2030</td>\n",
       "      <td>0.770</td>\n",
       "      <td>99.991</td>\n",
       "      <td>4/4</td>\n",
       "      <td>39</td>\n",
       "      <td>Soul</td>\n",
       "      <td>1U0OMWvR89Cm20vCNar50f</td>\n",
       "    </tr>\n",
       "    <tr>\n",
       "      <th>191391</th>\n",
       "      <td>P.O.P.</td>\n",
       "      <td>0.802</td>\n",
       "      <td>0.516</td>\n",
       "      <td>D</td>\n",
       "      <td>-9.014</td>\n",
       "      <td>Major</td>\n",
       "      <td>0.2130</td>\n",
       "      <td>0.1040</td>\n",
       "      <td>0.000485</td>\n",
       "      <td>0.1050</td>\n",
       "      <td>0.482</td>\n",
       "      <td>175.666</td>\n",
       "      <td>4/4</td>\n",
       "      <td>43</td>\n",
       "      <td>Soul</td>\n",
       "      <td>2gGqKJWfWbToha2YmDxnnj</td>\n",
       "    </tr>\n",
       "    <tr>\n",
       "      <th>191392</th>\n",
       "      <td>I'll Take Care Of You - Single Version</td>\n",
       "      <td>0.423</td>\n",
       "      <td>0.337</td>\n",
       "      <td>A#</td>\n",
       "      <td>-13.092</td>\n",
       "      <td>Minor</td>\n",
       "      <td>0.0436</td>\n",
       "      <td>0.5660</td>\n",
       "      <td>0.000000</td>\n",
       "      <td>0.2760</td>\n",
       "      <td>0.497</td>\n",
       "      <td>80.023</td>\n",
       "      <td>4/4</td>\n",
       "      <td>32</td>\n",
       "      <td>Soul</td>\n",
       "      <td>2iZf3EUedz9MPqbAvXdpdA</td>\n",
       "    </tr>\n",
       "    <tr>\n",
       "      <th>191393</th>\n",
       "      <td>Burning Fire</td>\n",
       "      <td>0.785</td>\n",
       "      <td>0.683</td>\n",
       "      <td>E</td>\n",
       "      <td>-6.944</td>\n",
       "      <td>Minor</td>\n",
       "      <td>0.0337</td>\n",
       "      <td>0.0329</td>\n",
       "      <td>0.000880</td>\n",
       "      <td>0.2370</td>\n",
       "      <td>0.969</td>\n",
       "      <td>113.830</td>\n",
       "      <td>4/4</td>\n",
       "      <td>38</td>\n",
       "      <td>Soul</td>\n",
       "      <td>1qWZdkBl4UVPj9lK6HuuFM</td>\n",
       "    </tr>\n",
       "    <tr>\n",
       "      <th>191394</th>\n",
       "      <td>You Don't Have To Hurt No More</td>\n",
       "      <td>0.758</td>\n",
       "      <td>0.470</td>\n",
       "      <td>G#</td>\n",
       "      <td>-6.708</td>\n",
       "      <td>Minor</td>\n",
       "      <td>0.0287</td>\n",
       "      <td>0.0973</td>\n",
       "      <td>0.000049</td>\n",
       "      <td>0.0836</td>\n",
       "      <td>0.479</td>\n",
       "      <td>113.897</td>\n",
       "      <td>4/4</td>\n",
       "      <td>35</td>\n",
       "      <td>Soul</td>\n",
       "      <td>34XO9RwPMKjbvRry54QzWn</td>\n",
       "    </tr>\n",
       "  </tbody>\n",
       "</table>\n",
       "<p>191395 rows × 16 columns</p>\n",
       "</div>"
      ],
      "text/plain": [
       "                                    Track Name  Danceability  Energy   Key  \\\n",
       "0       act ii: date @ 8 (feat. Drake) - remix         0.550   0.545   0.0   \n",
       "1                                        LEAP!         0.892   0.585  11.0   \n",
       "2                                    Overdrive         0.568   0.788   5.0   \n",
       "3                            Raise y_our glass         0.567   0.503   8.0   \n",
       "4                                   In My Mind         0.668   0.392   2.0   \n",
       "...                                        ...           ...     ...   ...   \n",
       "191390                  Quickly (feat. Brandy)         0.736   0.701    A#   \n",
       "191391                                  P.O.P.         0.802   0.516     D   \n",
       "191392  I'll Take Care Of You - Single Version         0.423   0.337    A#   \n",
       "191393                            Burning Fire         0.785   0.683     E   \n",
       "191394          You Don't Have To Hurt No More         0.758   0.470    G#   \n",
       "\n",
       "        Loudness   Mode  Speechiness  Acousticness  Instrumentalness  \\\n",
       "0         -9.304    1.0       0.1630        0.3180          0.000000   \n",
       "1         -7.269    1.0       0.1020        0.1460          0.000004   \n",
       "2         -6.280    1.0       0.0377        0.0101          0.000000   \n",
       "3         -6.119    1.0       0.1240        0.5810          0.000000   \n",
       "4        -12.178    0.0       0.0585        0.7890          0.002750   \n",
       "...          ...    ...          ...           ...               ...   \n",
       "191390    -4.345  Minor       0.1000        0.2310          0.000000   \n",
       "191391    -9.014  Major       0.2130        0.1040          0.000485   \n",
       "191392   -13.092  Minor       0.0436        0.5660          0.000000   \n",
       "191393    -6.944  Minor       0.0337        0.0329          0.000880   \n",
       "191394    -6.708  Minor       0.0287        0.0973          0.000049   \n",
       "\n",
       "        Liveness  Valence    Tempo Time Signature  Track Popularity  \\\n",
       "0         0.0608    0.412  102.469            4.0                87   \n",
       "1         0.0881    0.244  104.011            4.0                38   \n",
       "2         0.1410    0.460  104.959            4.0                66   \n",
       "3         0.3690    0.184   72.798            4.0                60   \n",
       "4         0.3450    0.323  135.936            3.0                73   \n",
       "...          ...      ...      ...            ...               ...   \n",
       "191390    0.2030    0.770   99.991            4/4                39   \n",
       "191391    0.1050    0.482  175.666            4/4                43   \n",
       "191392    0.2760    0.497   80.023            4/4                32   \n",
       "191393    0.2370    0.969  113.830            4/4                38   \n",
       "191394    0.0836    0.479  113.897            4/4                35   \n",
       "\n",
       "                       Artist Genres                track_id  \n",
       "0                                NaN  3QS9ZCtoSCJhmaJ7QNXSAS  \n",
       "1                                NaN  3vl2uH4D2QItFFhzz5L06g  \n",
       "2       bedroom pop, pop, pov: indie  3QyoC6OvQUmpQwQZ18iaTs  \n",
       "3                                NaN  7j1vFohEm1lbsctYY9gyGd  \n",
       "4            gen z singer-songwriter  2W779g2UrRZtVdf3FcEOO1  \n",
       "...                              ...                     ...  \n",
       "191390                          Soul  1U0OMWvR89Cm20vCNar50f  \n",
       "191391                          Soul  2gGqKJWfWbToha2YmDxnnj  \n",
       "191392                          Soul  2iZf3EUedz9MPqbAvXdpdA  \n",
       "191393                          Soul  1qWZdkBl4UVPj9lK6HuuFM  \n",
       "191394                          Soul  34XO9RwPMKjbvRry54QzWn  \n",
       "\n",
       "[191395 rows x 16 columns]"
      ]
     },
     "execution_count": 2,
     "metadata": {},
     "output_type": "execute_result"
    }
   ],
   "source": [
    "df = pd.read_csv('datasets/merged200k.csv')\n",
    "df"
   ]
  },
  {
   "cell_type": "markdown",
   "metadata": {},
   "source": [
    "As explained in our \"data-visualisation.ipynb\" notebook, there is a possible limitation where Spotify does not update a song's track popularity, and thus assignes a value of 0 by default. Unfortunately, we will have to remove these tracks."
   ]
  },
  {
   "cell_type": "code",
   "execution_count": 4,
   "metadata": {},
   "outputs": [
    {
     "data": {
      "text/plain": [
       "(180881, 16)"
      ]
     },
     "execution_count": 4,
     "metadata": {},
     "output_type": "execute_result"
    }
   ],
   "source": [
    "# Remove songs with popularity of 0\n",
    "df.drop(df.loc[df['Track Popularity']==0].index, inplace=True)\n",
    "df.shape"
   ]
  },
  {
   "cell_type": "markdown",
   "metadata": {},
   "source": [
    "## **Section 1: Regression Sampling Methods**"
   ]
  },
  {
   "cell_type": "markdown",
   "metadata": {},
   "source": [
    "#### <u>**Synthetic Minority Over-Sampling Technique for Regression with Gaussian Noise (SMOGN)**</u>"
   ]
  },
  {
   "cell_type": "code",
   "execution_count": 5,
   "metadata": {},
   "outputs": [],
   "source": [
    "predictors = [\"Danceability\", \"Energy\", \"Loudness\", \"Speechiness\", \"Acousticness\",\n",
    "              \"Instrumentalness\", \"Liveness\", \"Valence\", \"Tempo\"]\n",
    "track_pop= pd.DataFrame(df['Track Popularity'])   # Response\n",
    "voice_analysis = pd.DataFrame(df[predictors]) # Predictor\n",
    "\n",
    "# Split the Dataset into Train and Test\n",
    "or_X_train, or_X_test, or_y_train, or_y_test = train_test_split(voice_analysis, track_pop, test_size = 0.30, random_state=100)"
   ]
  },
  {
   "cell_type": "code",
   "execution_count": 6,
   "metadata": {},
   "outputs": [],
   "source": [
    "# Let's save the original training dataset and test dataset separately\n",
    "# So that we can use the same test dataset to test the model trained with SMOGN dataset\n",
    "regression_training = pd.concat([or_X_train, or_y_train], axis=1, join = \"inner\")\n",
    "regression_test = pd.concat([or_X_test, or_y_test], axis=1, join = \"inner\")"
   ]
  },
  {
   "cell_type": "code",
   "execution_count": 7,
   "metadata": {},
   "outputs": [],
   "source": [
    "# Reset the indexing\n",
    "regression_training = regression_training.reset_index(drop=True)\n",
    "regression_test = regression_test.reset_index(drop=True)"
   ]
  },
  {
   "cell_type": "code",
   "execution_count": 8,
   "metadata": {},
   "outputs": [
    {
     "data": {
      "text/html": [
       "<div>\n",
       "<style scoped>\n",
       "    .dataframe tbody tr th:only-of-type {\n",
       "        vertical-align: middle;\n",
       "    }\n",
       "\n",
       "    .dataframe tbody tr th {\n",
       "        vertical-align: top;\n",
       "    }\n",
       "\n",
       "    .dataframe thead th {\n",
       "        text-align: right;\n",
       "    }\n",
       "</style>\n",
       "<table border=\"1\" class=\"dataframe\">\n",
       "  <thead>\n",
       "    <tr style=\"text-align: right;\">\n",
       "      <th></th>\n",
       "      <th>Danceability</th>\n",
       "      <th>Energy</th>\n",
       "      <th>Loudness</th>\n",
       "      <th>Speechiness</th>\n",
       "      <th>Acousticness</th>\n",
       "      <th>Instrumentalness</th>\n",
       "      <th>Liveness</th>\n",
       "      <th>Valence</th>\n",
       "      <th>Tempo</th>\n",
       "      <th>Track Popularity</th>\n",
       "    </tr>\n",
       "  </thead>\n",
       "  <tbody>\n",
       "    <tr>\n",
       "      <th>0</th>\n",
       "      <td>0.596</td>\n",
       "      <td>0.574</td>\n",
       "      <td>-11.148</td>\n",
       "      <td>0.0281</td>\n",
       "      <td>0.00129</td>\n",
       "      <td>0.191000</td>\n",
       "      <td>0.1150</td>\n",
       "      <td>0.3970</td>\n",
       "      <td>132.001</td>\n",
       "      <td>54</td>\n",
       "    </tr>\n",
       "    <tr>\n",
       "      <th>1</th>\n",
       "      <td>0.559</td>\n",
       "      <td>0.675</td>\n",
       "      <td>-13.257</td>\n",
       "      <td>0.7280</td>\n",
       "      <td>0.69000</td>\n",
       "      <td>0.000000</td>\n",
       "      <td>0.6980</td>\n",
       "      <td>0.8080</td>\n",
       "      <td>86.717</td>\n",
       "      <td>10</td>\n",
       "    </tr>\n",
       "    <tr>\n",
       "      <th>2</th>\n",
       "      <td>0.161</td>\n",
       "      <td>0.296</td>\n",
       "      <td>-17.388</td>\n",
       "      <td>0.0381</td>\n",
       "      <td>0.70900</td>\n",
       "      <td>0.917000</td>\n",
       "      <td>0.1110</td>\n",
       "      <td>0.0795</td>\n",
       "      <td>109.055</td>\n",
       "      <td>27</td>\n",
       "    </tr>\n",
       "    <tr>\n",
       "      <th>3</th>\n",
       "      <td>0.573</td>\n",
       "      <td>0.510</td>\n",
       "      <td>-7.637</td>\n",
       "      <td>0.0352</td>\n",
       "      <td>0.73900</td>\n",
       "      <td>0.000118</td>\n",
       "      <td>0.0768</td>\n",
       "      <td>0.4580</td>\n",
       "      <td>76.494</td>\n",
       "      <td>37</td>\n",
       "    </tr>\n",
       "    <tr>\n",
       "      <th>4</th>\n",
       "      <td>0.648</td>\n",
       "      <td>0.808</td>\n",
       "      <td>-7.098</td>\n",
       "      <td>0.0420</td>\n",
       "      <td>0.02080</td>\n",
       "      <td>0.000005</td>\n",
       "      <td>0.0829</td>\n",
       "      <td>0.5040</td>\n",
       "      <td>143.972</td>\n",
       "      <td>56</td>\n",
       "    </tr>\n",
       "  </tbody>\n",
       "</table>\n",
       "</div>"
      ],
      "text/plain": [
       "   Danceability  Energy  Loudness  Speechiness  Acousticness  \\\n",
       "0         0.596   0.574   -11.148       0.0281       0.00129   \n",
       "1         0.559   0.675   -13.257       0.7280       0.69000   \n",
       "2         0.161   0.296   -17.388       0.0381       0.70900   \n",
       "3         0.573   0.510    -7.637       0.0352       0.73900   \n",
       "4         0.648   0.808    -7.098       0.0420       0.02080   \n",
       "\n",
       "   Instrumentalness  Liveness  Valence    Tempo  Track Popularity  \n",
       "0          0.191000    0.1150   0.3970  132.001                54  \n",
       "1          0.000000    0.6980   0.8080   86.717                10  \n",
       "2          0.917000    0.1110   0.0795  109.055                27  \n",
       "3          0.000118    0.0768   0.4580   76.494                37  \n",
       "4          0.000005    0.0829   0.5040  143.972                56  "
      ]
     },
     "execution_count": 8,
     "metadata": {},
     "output_type": "execute_result"
    }
   ],
   "source": [
    "# Check if the indexing is corrected and our dataset is good\n",
    "regression_training.head()"
   ]
  },
  {
   "cell_type": "code",
   "execution_count": 9,
   "metadata": {},
   "outputs": [
    {
     "data": {
      "text/plain": [
       "(126616, 10)"
      ]
     },
     "execution_count": 9,
     "metadata": {},
     "output_type": "execute_result"
    }
   ],
   "source": [
    "# Check the number of data points for training dataset\n",
    "regression_training.shape"
   ]
  },
  {
   "cell_type": "code",
   "execution_count": 10,
   "metadata": {},
   "outputs": [
    {
     "data": {
      "text/plain": [
       "(54265, 10)"
      ]
     },
     "execution_count": 10,
     "metadata": {},
     "output_type": "execute_result"
    }
   ],
   "source": [
    "# Check the number of data points for test dataset\n",
    "regression_test.shape"
   ]
  },
  {
   "cell_type": "markdown",
   "metadata": {},
   "source": [
    "To apply SMOGN sampling, we must find the correct rel_coeff parameter. As such, hyperparameter optimising technique is employed. GridSearchCV is chosen as it performs an exhaustive search over the specified parameter grid. This means that if the best parameters lie within the grid, GridSearchCV will find them. \n",
    "\n",
    "GridSearchCV will pick 10 values, equally spaced between 0.7 and 0.95. It will then return the rel_coeff value with the highest R^2 value after fitting a linear regression model. 0.7 is chosen as the lower bound as any value below 0.8 would be too computationally expensive (i.e. would take around 5 hours to sample the entire dataset).\n",
    "\n",
    "We use a sampled dataset to feed inside GridSearchCV to speed up the searching process."
   ]
  },
  {
   "cell_type": "code",
   "execution_count": 11,
   "metadata": {},
   "outputs": [],
   "source": [
    "regression_training_sampled = regression_training.sample(n=10000, random_state=42, ignore_index=True, )\n",
    "regression_test_sampled = regression_test.sample(n=2500, random_state=42, ignore_index=True)"
   ]
  },
  {
   "cell_type": "code",
   "execution_count": 12,
   "metadata": {},
   "outputs": [
    {
     "data": {
      "text/plain": [
       "(2500, 10)"
      ]
     },
     "execution_count": 12,
     "metadata": {},
     "output_type": "execute_result"
    }
   ],
   "source": [
    "regression_test_sampled.shape"
   ]
  },
  {
   "cell_type": "code",
   "execution_count": 13,
   "metadata": {},
   "outputs": [
    {
     "data": {
      "text/plain": [
       "(10000, 10)"
      ]
     },
     "execution_count": 13,
     "metadata": {},
     "output_type": "execute_result"
    }
   ],
   "source": [
    "regression_training_sampled.shape"
   ]
  },
  {
   "cell_type": "code",
   "execution_count": 14,
   "metadata": {},
   "outputs": [
    {
     "name": "stdout",
     "output_type": "stream",
     "text": [
      "0.7\n"
     ]
    },
    {
     "name": "stderr",
     "output_type": "stream",
     "text": [
      "dist_matrix:   1%|          | 6/609 [00:00<00:24, 24.35it/s]"
     ]
    },
    {
     "name": "stderr",
     "output_type": "stream",
     "text": [
      "dist_matrix: 100%|##########| 609/609 [00:24<00:00, 25.27it/s]\n",
      "synth_matrix: 100%|##########| 609/609 [00:01<00:00, 414.48it/s]\n",
      "r_index: 100%|##########| 127/127 [00:00<00:00, 2707.50it/s]\n"
     ]
    },
    {
     "name": "stdout",
     "output_type": "stream",
     "text": [
      "0.7\n"
     ]
    },
    {
     "name": "stderr",
     "output_type": "stream",
     "text": [
      "dist_matrix: 100%|##########| 609/609 [00:24<00:00, 25.12it/s]\n",
      "synth_matrix: 100%|##########| 609/609 [00:01<00:00, 414.13it/s]\n",
      "r_index: 100%|##########| 127/127 [00:00<00:00, 2874.86it/s]\n"
     ]
    },
    {
     "name": "stdout",
     "output_type": "stream",
     "text": [
      "0.7277777777777777\n"
     ]
    },
    {
     "name": "stderr",
     "output_type": "stream",
     "text": [
      "dist_matrix: 100%|##########| 543/543 [00:19<00:00, 28.36it/s]\n",
      "synth_matrix: 100%|##########| 543/543 [00:01<00:00, 358.28it/s]\n",
      "r_index: 100%|##########| 113/113 [00:00<00:00, 2857.21it/s]\n"
     ]
    },
    {
     "name": "stdout",
     "output_type": "stream",
     "text": [
      "0.7277777777777777\n"
     ]
    },
    {
     "name": "stderr",
     "output_type": "stream",
     "text": [
      "dist_matrix: 100%|##########| 543/543 [00:19<00:00, 28.23it/s]\n",
      "synth_matrix: 100%|##########| 543/543 [00:01<00:00, 362.68it/s]\n",
      "r_index: 100%|##########| 113/113 [00:00<00:00, 2822.33it/s]\n"
     ]
    },
    {
     "name": "stdout",
     "output_type": "stream",
     "text": [
      "0.7555555555555555\n"
     ]
    },
    {
     "name": "stderr",
     "output_type": "stream",
     "text": [
      "dist_matrix: 100%|##########| 543/543 [00:19<00:00, 27.55it/s]\n",
      "synth_matrix: 100%|##########| 543/543 [00:01<00:00, 360.53it/s]\n",
      "r_index: 100%|##########| 113/113 [00:00<00:00, 2863.87it/s]\n"
     ]
    },
    {
     "name": "stdout",
     "output_type": "stream",
     "text": [
      "0.7555555555555555\n"
     ]
    },
    {
     "name": "stderr",
     "output_type": "stream",
     "text": [
      "dist_matrix: 100%|##########| 543/543 [00:19<00:00, 28.04it/s]\n",
      "synth_matrix: 100%|##########| 543/543 [00:01<00:00, 345.18it/s]\n",
      "r_index: 100%|##########| 113/113 [00:00<00:00, 1531.95it/s]\n"
     ]
    },
    {
     "name": "stdout",
     "output_type": "stream",
     "text": [
      "0.7833333333333333\n"
     ]
    },
    {
     "name": "stderr",
     "output_type": "stream",
     "text": [
      "dist_matrix: 100%|##########| 475/475 [00:14<00:00, 31.69it/s]\n",
      "synth_matrix: 100%|##########| 475/475 [00:01<00:00, 303.77it/s]\n",
      "r_index: 100%|##########| 250/250 [00:00<00:00, 2729.41it/s]\n"
     ]
    },
    {
     "name": "stdout",
     "output_type": "stream",
     "text": [
      "0.7833333333333333\n"
     ]
    },
    {
     "name": "stderr",
     "output_type": "stream",
     "text": [
      "dist_matrix: 100%|##########| 475/475 [00:15<00:00, 30.19it/s]\n",
      "synth_matrix: 100%|##########| 475/475 [00:01<00:00, 301.92it/s]\n",
      "r_index: 100%|##########| 250/250 [00:00<00:00, 2611.48it/s]\n"
     ]
    },
    {
     "name": "stdout",
     "output_type": "stream",
     "text": [
      "0.8111111111111111\n"
     ]
    },
    {
     "name": "stderr",
     "output_type": "stream",
     "text": [
      "dist_matrix: 100%|##########| 475/475 [00:15<00:00, 30.03it/s]\n",
      "synth_matrix: 100%|##########| 475/475 [00:01<00:00, 306.43it/s]\n",
      "r_index: 100%|##########| 250/250 [00:00<00:00, 2785.74it/s]\n"
     ]
    },
    {
     "name": "stdout",
     "output_type": "stream",
     "text": [
      "0.8111111111111111\n"
     ]
    },
    {
     "name": "stderr",
     "output_type": "stream",
     "text": [
      "dist_matrix: 100%|##########| 475/475 [00:16<00:00, 28.95it/s]\n",
      "synth_matrix: 100%|##########| 475/475 [00:01<00:00, 306.39it/s]\n",
      "r_index: 100%|##########| 250/250 [00:00<00:00, 2370.00it/s]\n"
     ]
    },
    {
     "name": "stdout",
     "output_type": "stream",
     "text": [
      "0.8388888888888888\n"
     ]
    },
    {
     "name": "stderr",
     "output_type": "stream",
     "text": [
      "dist_matrix: 100%|##########| 406/406 [00:12<00:00, 33.29it/s]\n",
      "synth_matrix: 100%|##########| 406/406 [00:02<00:00, 199.65it/s]\n",
      "r_index: 100%|##########| 127/127 [00:00<00:00, 1934.17it/s]\n"
     ]
    },
    {
     "name": "stdout",
     "output_type": "stream",
     "text": [
      "0.8388888888888888\n"
     ]
    },
    {
     "name": "stderr",
     "output_type": "stream",
     "text": [
      "dist_matrix: 100%|##########| 406/406 [00:13<00:00, 30.44it/s]\n",
      "synth_matrix: 100%|##########| 406/406 [00:01<00:00, 246.70it/s]\n",
      "r_index: 100%|##########| 127/127 [00:00<00:00, 1404.20it/s]\n"
     ]
    },
    {
     "name": "stdout",
     "output_type": "stream",
     "text": [
      "0.8666666666666666\n"
     ]
    },
    {
     "name": "stderr",
     "output_type": "stream",
     "text": [
      "dist_matrix: 100%|##########| 373/373 [00:10<00:00, 36.44it/s]\n",
      "synth_matrix: 100%|##########| 373/373 [00:01<00:00, 219.90it/s]\n",
      "r_index: 100%|##########| 151/151 [00:00<00:00, 2790.72it/s]\n"
     ]
    },
    {
     "name": "stdout",
     "output_type": "stream",
     "text": [
      "0.8666666666666666\n"
     ]
    },
    {
     "name": "stderr",
     "output_type": "stream",
     "text": [
      "dist_matrix: 100%|##########| 373/373 [00:10<00:00, 36.86it/s]\n",
      "synth_matrix: 100%|##########| 373/373 [00:01<00:00, 227.17it/s]\n",
      "r_index: 100%|##########| 151/151 [00:00<00:00, 2738.39it/s]\n"
     ]
    },
    {
     "name": "stdout",
     "output_type": "stream",
     "text": [
      "0.8944444444444444\n"
     ]
    },
    {
     "name": "stderr",
     "output_type": "stream",
     "text": [
      "dist_matrix: 100%|##########| 373/373 [00:10<00:00, 36.43it/s]\n",
      "synth_matrix: 100%|##########| 373/373 [00:01<00:00, 222.24it/s]\n",
      "r_index: 100%|##########| 151/151 [00:00<00:00, 2777.88it/s]\n"
     ]
    },
    {
     "name": "stdout",
     "output_type": "stream",
     "text": [
      "0.8944444444444444\n"
     ]
    },
    {
     "name": "stderr",
     "output_type": "stream",
     "text": [
      "dist_matrix: 100%|##########| 373/373 [00:09<00:00, 37.69it/s]\n",
      "synth_matrix: 100%|##########| 373/373 [00:01<00:00, 220.48it/s]\n",
      "r_index: 100%|##########| 151/151 [00:00<00:00, 2817.91it/s]\n"
     ]
    },
    {
     "name": "stdout",
     "output_type": "stream",
     "text": [
      "0.9222222222222222\n"
     ]
    },
    {
     "name": "stderr",
     "output_type": "stream",
     "text": [
      "dist_matrix: 100%|##########| 327/327 [00:07<00:00, 44.26it/s]\n",
      "synth_matrix: 100%|##########| 327/327 [00:01<00:00, 198.57it/s]\n",
      "r_index: 100%|##########| 95/95 [00:00<00:00, 2887.99it/s]\n"
     ]
    },
    {
     "name": "stdout",
     "output_type": "stream",
     "text": [
      "0.9222222222222222\n"
     ]
    },
    {
     "name": "stderr",
     "output_type": "stream",
     "text": [
      "dist_matrix: 100%|##########| 327/327 [00:07<00:00, 46.13it/s]\n",
      "synth_matrix: 100%|##########| 327/327 [00:01<00:00, 196.99it/s]\n",
      "r_index: 100%|##########| 95/95 [00:00<00:00, 2809.99it/s]\n"
     ]
    },
    {
     "name": "stdout",
     "output_type": "stream",
     "text": [
      "0.95\n"
     ]
    },
    {
     "name": "stderr",
     "output_type": "stream",
     "text": [
      "dist_matrix: 100%|##########| 327/327 [00:07<00:00, 44.56it/s]\n",
      "synth_matrix: 100%|##########| 327/327 [00:01<00:00, 198.21it/s]\n",
      "r_index: 100%|##########| 95/95 [00:00<00:00, 2900.50it/s]\n"
     ]
    },
    {
     "name": "stdout",
     "output_type": "stream",
     "text": [
      "0.95\n"
     ]
    },
    {
     "name": "stderr",
     "output_type": "stream",
     "text": [
      "dist_matrix: 100%|##########| 327/327 [00:07<00:00, 44.97it/s]\n",
      "synth_matrix: 100%|##########| 327/327 [00:01<00:00, 198.08it/s]\n",
      "r_index: 100%|##########| 95/95 [00:00<00:00, 2797.50it/s]\n",
      "/Library/Frameworks/Python.framework/Versions/3.11/lib/python3.11/site-packages/sklearn/model_selection/_validation.py:547: FitFailedWarning: \n",
      "2 fits failed out of a total of 20.\n",
      "The score on these train-test partitions for these parameters will be set to nan.\n",
      "If these failures are not expected, you can try to debug them by setting error_score='raise'.\n",
      "\n",
      "Below are more details about the failures:\n",
      "--------------------------------------------------------------------------------\n",
      "2 fits failed with the following error:\n",
      "Traceback (most recent call last):\n",
      "  File \"/Library/Frameworks/Python.framework/Versions/3.11/lib/python3.11/site-packages/sklearn/model_selection/_validation.py\", line 895, in _fit_and_score\n",
      "    estimator.fit(X_train, y_train, **fit_params)\n",
      "  File \"/var/folders/fz/fh5c1mt952s8gfzlg27lyp9c0000gn/T/ipykernel_64960/2041005503.py\", line 32, in fit\n",
      "    X_res, y_res = apply_smogn(self.rel_coeff)\n",
      "                   ^^^^^^^^^^^^^^^^^^^^^^^^^^^\n",
      "  File \"/var/folders/fz/fh5c1mt952s8gfzlg27lyp9c0000gn/T/ipykernel_64960/2041005503.py\", line 9, in apply_smogn\n",
      "    df_smogn = smogn.smoter(\n",
      "               ^^^^^^^^^^^^^\n",
      "  File \"/Library/Frameworks/Python.framework/Versions/3.11/lib/python3.11/site-packages/smogn/smoter.py\", line 240, in smoter\n",
      "    synth_obs = over_sampling(\n",
      "                ^^^^^^^^^^^^^^\n",
      "  File \"/Library/Frameworks/Python.framework/Versions/3.11/lib/python3.11/site-packages/smogn/over_sampling.py\", line 431, in over_sampling\n",
      "    raise ValueError(\"oops! synthetic data contains missing values\")\n",
      "ValueError: oops! synthetic data contains missing values\n",
      "\n",
      "  warnings.warn(some_fits_failed_message, FitFailedWarning)\n",
      "/Library/Frameworks/Python.framework/Versions/3.11/lib/python3.11/site-packages/sklearn/model_selection/_search.py:1051: UserWarning: One or more of the test scores are non-finite: [-0.23580156 -0.3405527          nan -0.29198003 -0.29523831 -0.30522283\n",
      " -0.30587026 -0.30780171 -0.3306785  -0.33328824]\n",
      "  warnings.warn(\n"
     ]
    },
    {
     "name": "stdout",
     "output_type": "stream",
     "text": [
      "0.7\n"
     ]
    },
    {
     "name": "stderr",
     "output_type": "stream",
     "text": [
      "dist_matrix: 100%|##########| 609/609 [00:29<00:00, 20.82it/s]\n",
      "synth_matrix: 100%|##########| 609/609 [00:01<00:00, 334.41it/s]\n",
      "r_index: 100%|##########| 127/127 [00:00<00:00, 2524.01it/s]"
     ]
    },
    {
     "name": "stdout",
     "output_type": "stream",
     "text": [
      "Best Parameters: {'rel_coeff': 0.7}\n",
      "Best Score: -0.23580156367063565\n"
     ]
    },
    {
     "name": "stderr",
     "output_type": "stream",
     "text": [
      "\n"
     ]
    }
   ],
   "source": [
    "import smogn\n",
    "from sklearn.linear_model import LinearRegression\n",
    "from sklearn.model_selection import GridSearchCV\n",
    "from sklearn.base import BaseEstimator, RegressorMixin\n",
    "from sklearn.metrics import mean_squared_error\n",
    "\n",
    "# Make a function to apply SMOGN sampling with rel_coeff as a parameter\n",
    "def apply_smogn(rel_coeff):\n",
    "    df_smogn = smogn.smoter(\n",
    "        ## main arguments\n",
    "        data = regression_training_sampled,         ## pandas dataframe\n",
    "        y = 'Track Popularity',   ## string ('header name')\n",
    "        k = 9,                    ## positive integer (k < n)\n",
    "        samp_method = 'balance',  ## string ('balance' or 'extreme')\n",
    "\n",
    "        ## phi relevance arguments\n",
    "        rel_thres = 1,         ## fixed at 1 to keep it computationally feasible\n",
    "        rel_method = 'auto',      ## string ('auto' or 'manual')\n",
    "        rel_xtrm_type = 'high',   ## string ('low' or 'both' or 'high')\n",
    "        rel_coef = rel_coeff         ## positive real number (0 < R)\n",
    "    )\n",
    "    return df_smogn.drop('Track Popularity', axis=1), df_smogn['Track Popularity']\n",
    "\n",
    "# Define the custom model class\n",
    "class SMOGNRandomLinearRegressor(BaseEstimator, RegressorMixin):\n",
    "    def __init__(self, rel_coeff=0.5, **kwargs):\n",
    "        self.rel_coeff = rel_coeff\n",
    "        self.model = LinearRegression(**kwargs)\n",
    "    \n",
    "    def fit(self, X, y):\n",
    "        print(self.rel_coeff)\n",
    "        X_res, y_res = apply_smogn(self.rel_coeff)\n",
    "        self.model.fit(X_res, y_res)\n",
    "        return self\n",
    "\n",
    "    def predict(self, X):\n",
    "        return self.model.predict(X)\n",
    "\n",
    "# Specify the distribution for the rel_coeff parameter to be tried out\n",
    "param_distributions = {\n",
    "    'rel_coeff': np.linspace(0.7, 0.95, 10)\n",
    "}\n",
    "\n",
    "# Make an instance of the custom model\n",
    "custom_model = SMOGNRandomLinearRegressor() \n",
    "\n",
    "# Set up GridSearchCV\n",
    "grid_search = GridSearchCV(estimator=custom_model, param_grid=param_distributions, scoring='r2', cv=2)\n",
    "\n",
    "# Fit grid search\n",
    "grid_search.fit(regression_test_sampled[predictors], regression_test_sampled[\"Track Popularity\"]) \n",
    "\n",
    "# Print the best parameters and the score associated with it\n",
    "print(\"Best Parameters:\", grid_search.best_params_)\n",
    "print(\"Best Score:\", grid_search.best_score_)  # Negative score because we use negative MSE (lower MSE is better)"
   ]
  },
  {
   "cell_type": "code",
   "execution_count": 15,
   "metadata": {},
   "outputs": [
    {
     "name": "stderr",
     "output_type": "stream",
     "text": [
      "dist_matrix:   0%|          | 0/6337 [00:00<?, ?it/s]"
     ]
    },
    {
     "name": "stderr",
     "output_type": "stream",
     "text": [
      "dist_matrix: 100%|##########| 6337/6337 [50:27<00:00,  2.09it/s]  \n",
      "synth_matrix: 100%|##########| 6337/6337 [00:18<00:00, 351.34it/s]\n",
      "r_index: 100%|##########| 6275/6275 [00:02<00:00, 2793.79it/s]\n"
     ]
    }
   ],
   "source": [
    "\"\"\"\n",
    "DO NOT RUN THIS CELL. SKIP THIS CELL.\n",
    "This cell generates the smogn.csv file but takes almost an hour to run.\n",
    "\"\"\"\n",
    "\n",
    "# # Oversample the training dataset using SMOGN\n",
    "# df_smogn = smogn.smoter(\n",
    "    \n",
    "#     ## main arguments (same as above)\n",
    "#     data = regression_training, \n",
    "#     y = 'Track Popularity',   \n",
    "#     k = 9,                   \n",
    "#     samp_method = 'balance',  \n",
    "\n",
    "#     ## phi relevance arguments\n",
    "#     rel_thres = 1,     \n",
    "#     rel_method = 'auto',    \n",
    "#     rel_xtrm_type = 'high', \n",
    "#     rel_coef = grid_search.best_params_['rel_coeff']  # Using the best parameter from the GridSearchCV\n",
    "# )\n",
    "\n",
    "# # Save to csv\n",
    "# df_smogn.to_csv(\"datasets/smogn.csv\")"
   ]
  },
  {
   "cell_type": "code",
   "execution_count": 16,
   "metadata": {},
   "outputs": [],
   "source": [
    "# Import from csv so you don't have to run the code above\n",
    "df_smogn = pd.read_csv(\"datasets/smogn.csv\")"
   ]
  },
  {
   "cell_type": "code",
   "execution_count": 17,
   "metadata": {},
   "outputs": [],
   "source": [
    "# Delete data points with track popularity greater than 100 or lower than 0\n",
    "# As popularity score is between 0 and 100\n",
    "df_smogn = df_smogn[df_smogn['Track Popularity'] <= 100]\n",
    "df_smogn = df_smogn[df_smogn['Track Popularity'] >= 0]"
   ]
  },
  {
   "cell_type": "code",
   "execution_count": 18,
   "metadata": {},
   "outputs": [],
   "source": [
    "df_smogn.to_csv(\"datasets/smogn.csv\")\n",
    "regression_training.to_csv(\"datasets/regression_training.csv\")\n",
    "regression_test.to_csv(\"datasets/regression_test.csv\")"
   ]
  },
  {
   "cell_type": "markdown",
   "metadata": {},
   "source": [
    "## **Visualisation of Resampled Data as a Regression Problem**"
   ]
  },
  {
   "cell_type": "code",
   "execution_count": 19,
   "metadata": {},
   "outputs": [
    {
     "data": {
      "image/png": "[encoded data removed]",
      "text/plain": [
       "<Figure size 640x480 with 1 Axes>"
      ]
     },
     "metadata": {},
     "output_type": "display_data"
    }
   ],
   "source": [
    "## Compare track popularity distribution before and after sampling using SMOGN\n",
    "sb.kdeplot(regression_training['Track Popularity'], label = \"Original\")\n",
    "sb.kdeplot(df_smogn['Track Popularity'], label = \"Modified\")\n",
    "plt.legend()\n",
    "plt.show()"
   ]
  },
  {
   "cell_type": "markdown",
   "metadata": {},
   "source": [
    "#### **Conclusion**"
   ]
  },
  {
   "cell_type": "markdown",
   "metadata": {},
   "source": [
    "SMOGN <u>over-sampled \"minority\" observations</u> and <u>under-sampled \"majority\" observations</u> in a continuous response variable according to the box plot. In this case, the minority are Spotify tracks with high popularity (of around 60-80), and the majority are Spotify tracks with low popularity (of around 0-60).\n",
    "\n",
    "As such, the modified SMOGN dataset increases the amount of tracks with high popularity and decreases the amount of tracks with low popularity, as seen in the above kde plot.\n",
    "\n",
    "Overall, there will be a more even number of data points with high popularity and low popularity, which allows regression models to be less biased towards predicting not-popular songs."
   ]
  },
  {
   "cell_type": "markdown",
   "metadata": {},
   "source": [
    "---"
   ]
  },
  {
   "cell_type": "markdown",
   "metadata": {},
   "source": [
    "## **Section 2: Classification Sampling Methods**"
   ]
  },
  {
   "cell_type": "markdown",
   "metadata": {},
   "source": [
    "### **Converting Regression Problem into Classification Problem**\n",
    "We decided to convert the regression problem into a classification problem as well to determine which can produce a better score.\n",
    "> Track Popularity scores >50 were taken to be popular songs, while scores ≤50 are taken to be not-popular."
   ]
  },
  {
   "cell_type": "code",
   "execution_count": 20,
   "metadata": {},
   "outputs": [],
   "source": [
    "threshold = 50\n",
    "df['Track Popularity Cat'] = df['Track Popularity'].apply(lambda x: 1 if x > threshold else 0)\n",
    "\n",
    "# Let's rename this dataframe as df_classification\n",
    "df_classification = df"
   ]
  },
  {
   "cell_type": "code",
   "execution_count": 21,
   "metadata": {},
   "outputs": [
    {
     "data": {
      "text/html": [
       "<div>\n",
       "<style scoped>\n",
       "    .dataframe tbody tr th:only-of-type {\n",
       "        vertical-align: middle;\n",
       "    }\n",
       "\n",
       "    .dataframe tbody tr th {\n",
       "        vertical-align: top;\n",
       "    }\n",
       "\n",
       "    .dataframe thead th {\n",
       "        text-align: right;\n",
       "    }\n",
       "</style>\n",
       "<table border=\"1\" class=\"dataframe\">\n",
       "  <thead>\n",
       "    <tr style=\"text-align: right;\">\n",
       "      <th></th>\n",
       "      <th>Track Name</th>\n",
       "      <th>Danceability</th>\n",
       "      <th>Energy</th>\n",
       "      <th>Key</th>\n",
       "      <th>Loudness</th>\n",
       "      <th>Mode</th>\n",
       "      <th>Speechiness</th>\n",
       "      <th>Acousticness</th>\n",
       "      <th>Instrumentalness</th>\n",
       "      <th>Liveness</th>\n",
       "      <th>Valence</th>\n",
       "      <th>Tempo</th>\n",
       "      <th>Time Signature</th>\n",
       "      <th>Track Popularity</th>\n",
       "      <th>Artist Genres</th>\n",
       "      <th>track_id</th>\n",
       "      <th>Track Popularity Cat</th>\n",
       "    </tr>\n",
       "  </thead>\n",
       "  <tbody>\n",
       "    <tr>\n",
       "      <th>0</th>\n",
       "      <td>act ii: date @ 8 (feat. Drake) - remix</td>\n",
       "      <td>0.550</td>\n",
       "      <td>0.545</td>\n",
       "      <td>0.0</td>\n",
       "      <td>-9.304</td>\n",
       "      <td>1.0</td>\n",
       "      <td>0.1630</td>\n",
       "      <td>0.3180</td>\n",
       "      <td>0.000000</td>\n",
       "      <td>0.0608</td>\n",
       "      <td>0.412</td>\n",
       "      <td>102.469</td>\n",
       "      <td>4.0</td>\n",
       "      <td>87</td>\n",
       "      <td>NaN</td>\n",
       "      <td>3QS9ZCtoSCJhmaJ7QNXSAS</td>\n",
       "      <td>1</td>\n",
       "    </tr>\n",
       "    <tr>\n",
       "      <th>1</th>\n",
       "      <td>LEAP!</td>\n",
       "      <td>0.892</td>\n",
       "      <td>0.585</td>\n",
       "      <td>11.0</td>\n",
       "      <td>-7.269</td>\n",
       "      <td>1.0</td>\n",
       "      <td>0.1020</td>\n",
       "      <td>0.1460</td>\n",
       "      <td>0.000004</td>\n",
       "      <td>0.0881</td>\n",
       "      <td>0.244</td>\n",
       "      <td>104.011</td>\n",
       "      <td>4.0</td>\n",
       "      <td>38</td>\n",
       "      <td>NaN</td>\n",
       "      <td>3vl2uH4D2QItFFhzz5L06g</td>\n",
       "      <td>0</td>\n",
       "    </tr>\n",
       "    <tr>\n",
       "      <th>2</th>\n",
       "      <td>Overdrive</td>\n",
       "      <td>0.568</td>\n",
       "      <td>0.788</td>\n",
       "      <td>5.0</td>\n",
       "      <td>-6.280</td>\n",
       "      <td>1.0</td>\n",
       "      <td>0.0377</td>\n",
       "      <td>0.0101</td>\n",
       "      <td>0.000000</td>\n",
       "      <td>0.1410</td>\n",
       "      <td>0.460</td>\n",
       "      <td>104.959</td>\n",
       "      <td>4.0</td>\n",
       "      <td>66</td>\n",
       "      <td>bedroom pop, pop, pov: indie</td>\n",
       "      <td>3QyoC6OvQUmpQwQZ18iaTs</td>\n",
       "      <td>1</td>\n",
       "    </tr>\n",
       "    <tr>\n",
       "      <th>3</th>\n",
       "      <td>Raise y_our glass</td>\n",
       "      <td>0.567</td>\n",
       "      <td>0.503</td>\n",
       "      <td>8.0</td>\n",
       "      <td>-6.119</td>\n",
       "      <td>1.0</td>\n",
       "      <td>0.1240</td>\n",
       "      <td>0.5810</td>\n",
       "      <td>0.000000</td>\n",
       "      <td>0.3690</td>\n",
       "      <td>0.184</td>\n",
       "      <td>72.798</td>\n",
       "      <td>4.0</td>\n",
       "      <td>60</td>\n",
       "      <td>NaN</td>\n",
       "      <td>7j1vFohEm1lbsctYY9gyGd</td>\n",
       "      <td>1</td>\n",
       "    </tr>\n",
       "    <tr>\n",
       "      <th>4</th>\n",
       "      <td>In My Mind</td>\n",
       "      <td>0.668</td>\n",
       "      <td>0.392</td>\n",
       "      <td>2.0</td>\n",
       "      <td>-12.178</td>\n",
       "      <td>0.0</td>\n",
       "      <td>0.0585</td>\n",
       "      <td>0.7890</td>\n",
       "      <td>0.002750</td>\n",
       "      <td>0.3450</td>\n",
       "      <td>0.323</td>\n",
       "      <td>135.936</td>\n",
       "      <td>3.0</td>\n",
       "      <td>73</td>\n",
       "      <td>gen z singer-songwriter</td>\n",
       "      <td>2W779g2UrRZtVdf3FcEOO1</td>\n",
       "      <td>1</td>\n",
       "    </tr>\n",
       "  </tbody>\n",
       "</table>\n",
       "</div>"
      ],
      "text/plain": [
       "                               Track Name  Danceability  Energy   Key  \\\n",
       "0  act ii: date @ 8 (feat. Drake) - remix         0.550   0.545   0.0   \n",
       "1                                   LEAP!         0.892   0.585  11.0   \n",
       "2                               Overdrive         0.568   0.788   5.0   \n",
       "3                       Raise y_our glass         0.567   0.503   8.0   \n",
       "4                              In My Mind         0.668   0.392   2.0   \n",
       "\n",
       "   Loudness Mode  Speechiness  Acousticness  Instrumentalness  Liveness  \\\n",
       "0    -9.304  1.0       0.1630        0.3180          0.000000    0.0608   \n",
       "1    -7.269  1.0       0.1020        0.1460          0.000004    0.0881   \n",
       "2    -6.280  1.0       0.0377        0.0101          0.000000    0.1410   \n",
       "3    -6.119  1.0       0.1240        0.5810          0.000000    0.3690   \n",
       "4   -12.178  0.0       0.0585        0.7890          0.002750    0.3450   \n",
       "\n",
       "   Valence    Tempo Time Signature  Track Popularity  \\\n",
       "0    0.412  102.469            4.0                87   \n",
       "1    0.244  104.011            4.0                38   \n",
       "2    0.460  104.959            4.0                66   \n",
       "3    0.184   72.798            4.0                60   \n",
       "4    0.323  135.936            3.0                73   \n",
       "\n",
       "                  Artist Genres                track_id  Track Popularity Cat  \n",
       "0                           NaN  3QS9ZCtoSCJhmaJ7QNXSAS                     1  \n",
       "1                           NaN  3vl2uH4D2QItFFhzz5L06g                     0  \n",
       "2  bedroom pop, pop, pov: indie  3QyoC6OvQUmpQwQZ18iaTs                     1  \n",
       "3                           NaN  7j1vFohEm1lbsctYY9gyGd                     1  \n",
       "4       gen z singer-songwriter  2W779g2UrRZtVdf3FcEOO1                     1  "
      ]
     },
     "execution_count": 21,
     "metadata": {},
     "output_type": "execute_result"
    }
   ],
   "source": [
    "df_classification.head()"
   ]
  },
  {
   "cell_type": "code",
   "execution_count": 22,
   "metadata": {},
   "outputs": [
    {
     "data": {
      "image/png": "[encoded data removed]",
      "text/plain": [
       "<Figure size 1000x600 with 1 Axes>"
      ]
     },
     "metadata": {},
     "output_type": "display_data"
    }
   ],
   "source": [
    "# Plot to show that map between Track Popularity and Track Popularity Cat is successful\n",
    "plt.figure(figsize=(10, 6))\n",
    "for popularity in [0, 1]:\n",
    "    subset = df_classification[df_classification['Track Popularity Cat'] == popularity]\n",
    "    plt.scatter(subset['Track Popularity'], subset.index, label=popularity)\n",
    "\n",
    "plt.title('Scatter Plot of Track Popularity Category against Track Popularity Score (numerical)')\n",
    "plt.xlabel('Track Popularity Score (numerical)')\n",
    "plt.ylabel('Index (for visualization)')\n",
    "plt.legend()\n",
    "plt.grid(True)\n",
    "plt.show()"
   ]
  },
  {
   "cell_type": "markdown",
   "metadata": {},
   "source": [
    "From the plot, songs with track popularity score of below 50 is given track popularity cat of 1 (corresponding to 'not popular') while songs with track popularity score above 50 is given track popularity cat of 2 (corresponding to 'popular')."
   ]
  },
  {
   "cell_type": "code",
   "execution_count": 23,
   "metadata": {},
   "outputs": [],
   "source": [
    "# Export converted classification problem to csv file\n",
    "df_classification.to_csv(\"datasets/merged200k_classification.csv\")"
   ]
  },
  {
   "cell_type": "code",
   "execution_count": 24,
   "metadata": {},
   "outputs": [
    {
     "name": "stdout",
     "output_type": "stream",
     "text": [
      "Distribution of popular and not-popular tracks in original dataset\n"
     ]
    },
    {
     "data": {
      "text/plain": [
       "Track Popularity Cat\n",
       "0    0.768693\n",
       "1    0.231307\n",
       "Name: proportion, dtype: float64"
      ]
     },
     "execution_count": 24,
     "metadata": {},
     "output_type": "execute_result"
    }
   ],
   "source": [
    "print(\"Distribution of popular and not-popular tracks in original dataset\")\n",
    "df_classification['Track Popularity Cat'].value_counts(normalize = True)"
   ]
  },
  {
   "cell_type": "markdown",
   "metadata": {},
   "source": [
    "There are significantly more not-popular tracks as compared to popular tracks (78% vs 22%). As such, the models trained on the original dataset will struggle with predicting popular songs as compared to not-popular songs. \n",
    "\n",
    "Let's try to balance out the ratio between not-popular and popular tracks using various sampling methods aimed for classification."
   ]
  },
  {
   "cell_type": "code",
   "execution_count": 25,
   "metadata": {},
   "outputs": [],
   "source": [
    "# Form training data\n",
    "predictors = [\"Danceability\", \"Energy\", \"Loudness\", \"Speechiness\", \"Acousticness\",\n",
    "              \"Instrumentalness\", \"Liveness\", \"Valence\", \"Tempo\"]\n",
    "track_pop_cat= pd.DataFrame(df_classification['Track Popularity Cat'])   # Response\n",
    "voice_analysis = pd.DataFrame(df_classification[predictors]) # Predictor\n",
    "\n",
    "# Train-test Split\n",
    "X_train, X_test, y_train, y_test = train_test_split(voice_analysis, track_pop_cat, test_size = 0.25, random_state=10)"
   ]
  },
  {
   "cell_type": "code",
   "execution_count": 26,
   "metadata": {},
   "outputs": [],
   "source": [
    "# Let's save the original training dataset and test dataset separately\n",
    "# So that we can use the same test dataset to test each sampled dataset\n",
    "classification_training = pd.concat([X_train, y_train], axis=1, join = \"inner\")\n",
    "classification_test = pd.concat([X_test, y_test], axis=1, join = \"inner\")"
   ]
  },
  {
   "cell_type": "code",
   "execution_count": 27,
   "metadata": {},
   "outputs": [],
   "source": [
    "# Reset the indexing\n",
    "classification_training = classification_training.reset_index(drop=True)\n",
    "classification_test = classification_test.reset_index(drop=True)"
   ]
  },
  {
   "cell_type": "code",
   "execution_count": 28,
   "metadata": {},
   "outputs": [
    {
     "data": {
      "text/html": [
       "<div>\n",
       "<style scoped>\n",
       "    .dataframe tbody tr th:only-of-type {\n",
       "        vertical-align: middle;\n",
       "    }\n",
       "\n",
       "    .dataframe tbody tr th {\n",
       "        vertical-align: top;\n",
       "    }\n",
       "\n",
       "    .dataframe thead th {\n",
       "        text-align: right;\n",
       "    }\n",
       "</style>\n",
       "<table border=\"1\" class=\"dataframe\">\n",
       "  <thead>\n",
       "    <tr style=\"text-align: right;\">\n",
       "      <th></th>\n",
       "      <th>Danceability</th>\n",
       "      <th>Energy</th>\n",
       "      <th>Loudness</th>\n",
       "      <th>Speechiness</th>\n",
       "      <th>Acousticness</th>\n",
       "      <th>Instrumentalness</th>\n",
       "      <th>Liveness</th>\n",
       "      <th>Valence</th>\n",
       "      <th>Tempo</th>\n",
       "      <th>Track Popularity Cat</th>\n",
       "    </tr>\n",
       "  </thead>\n",
       "  <tbody>\n",
       "    <tr>\n",
       "      <th>0</th>\n",
       "      <td>0.649</td>\n",
       "      <td>0.506</td>\n",
       "      <td>-8.581</td>\n",
       "      <td>0.0286</td>\n",
       "      <td>0.64100</td>\n",
       "      <td>0.004500</td>\n",
       "      <td>0.308</td>\n",
       "      <td>0.577</td>\n",
       "      <td>134.488</td>\n",
       "      <td>0</td>\n",
       "    </tr>\n",
       "    <tr>\n",
       "      <th>1</th>\n",
       "      <td>0.763</td>\n",
       "      <td>0.810</td>\n",
       "      <td>-5.118</td>\n",
       "      <td>0.0861</td>\n",
       "      <td>0.03110</td>\n",
       "      <td>0.000000</td>\n",
       "      <td>0.316</td>\n",
       "      <td>0.437</td>\n",
       "      <td>108.004</td>\n",
       "      <td>0</td>\n",
       "    </tr>\n",
       "    <tr>\n",
       "      <th>2</th>\n",
       "      <td>0.377</td>\n",
       "      <td>0.165</td>\n",
       "      <td>-16.337</td>\n",
       "      <td>0.0381</td>\n",
       "      <td>0.98400</td>\n",
       "      <td>0.761000</td>\n",
       "      <td>0.107</td>\n",
       "      <td>0.540</td>\n",
       "      <td>134.589</td>\n",
       "      <td>0</td>\n",
       "    </tr>\n",
       "    <tr>\n",
       "      <th>3</th>\n",
       "      <td>0.434</td>\n",
       "      <td>0.328</td>\n",
       "      <td>-9.952</td>\n",
       "      <td>0.0492</td>\n",
       "      <td>0.69000</td>\n",
       "      <td>0.000012</td>\n",
       "      <td>0.948</td>\n",
       "      <td>0.297</td>\n",
       "      <td>114.988</td>\n",
       "      <td>0</td>\n",
       "    </tr>\n",
       "    <tr>\n",
       "      <th>4</th>\n",
       "      <td>0.500</td>\n",
       "      <td>0.800</td>\n",
       "      <td>-7.904</td>\n",
       "      <td>0.0465</td>\n",
       "      <td>0.00596</td>\n",
       "      <td>0.826000</td>\n",
       "      <td>0.261</td>\n",
       "      <td>0.102</td>\n",
       "      <td>110.015</td>\n",
       "      <td>0</td>\n",
       "    </tr>\n",
       "  </tbody>\n",
       "</table>\n",
       "</div>"
      ],
      "text/plain": [
       "   Danceability  Energy  Loudness  Speechiness  Acousticness  \\\n",
       "0         0.649   0.506    -8.581       0.0286       0.64100   \n",
       "1         0.763   0.810    -5.118       0.0861       0.03110   \n",
       "2         0.377   0.165   -16.337       0.0381       0.98400   \n",
       "3         0.434   0.328    -9.952       0.0492       0.69000   \n",
       "4         0.500   0.800    -7.904       0.0465       0.00596   \n",
       "\n",
       "   Instrumentalness  Liveness  Valence    Tempo  Track Popularity Cat  \n",
       "0          0.004500     0.308    0.577  134.488                     0  \n",
       "1          0.000000     0.316    0.437  108.004                     0  \n",
       "2          0.761000     0.107    0.540  134.589                     0  \n",
       "3          0.000012     0.948    0.297  114.988                     0  \n",
       "4          0.826000     0.261    0.102  110.015                     0  "
      ]
     },
     "execution_count": 28,
     "metadata": {},
     "output_type": "execute_result"
    }
   ],
   "source": [
    "# Check the dataset\n",
    "classification_training.head()"
   ]
  },
  {
   "cell_type": "code",
   "execution_count": 29,
   "metadata": {},
   "outputs": [],
   "source": [
    "# Export the classification datasets into csv files\n",
    "classification_training.to_csv(\"datasets/classification_training.csv\")\n",
    "classification_test.to_csv(\"datasets/classification_test.csv\")"
   ]
  },
  {
   "cell_type": "markdown",
   "metadata": {},
   "source": [
    "### <u>**Random Over Sampling**</u>"
   ]
  },
  {
   "cell_type": "code",
   "execution_count": 30,
   "metadata": {},
   "outputs": [
    {
     "name": "stdout",
     "output_type": "stream",
     "text": [
      "Not-popular vs popular tracks in the training dataset\n",
      "104224 : 104224\n"
     ]
    }
   ],
   "source": [
    "from imblearn.over_sampling import RandomOverSampler\n",
    "\n",
    "ros = RandomOverSampler(random_state=101)\n",
    "X_train_ros, y_train_ros= ros.fit_resample(X_train, y_train)\n",
    "\n",
    "# Check the number of records after over sampling\n",
    "print(\"Not-popular vs popular tracks in the training dataset\")\n",
    "print(y_train_ros.value_counts()[0], ':', y_train_ros.value_counts()[1])"
   ]
  },
  {
   "cell_type": "code",
   "execution_count": 31,
   "metadata": {},
   "outputs": [
    {
     "data": {
      "text/html": [
       "<div>\n",
       "<style scoped>\n",
       "    .dataframe tbody tr th:only-of-type {\n",
       "        vertical-align: middle;\n",
       "    }\n",
       "\n",
       "    .dataframe tbody tr th {\n",
       "        vertical-align: top;\n",
       "    }\n",
       "\n",
       "    .dataframe thead th {\n",
       "        text-align: right;\n",
       "    }\n",
       "</style>\n",
       "<table border=\"1\" class=\"dataframe\">\n",
       "  <thead>\n",
       "    <tr style=\"text-align: right;\">\n",
       "      <th></th>\n",
       "      <th>Danceability</th>\n",
       "      <th>Energy</th>\n",
       "      <th>Loudness</th>\n",
       "      <th>Speechiness</th>\n",
       "      <th>Acousticness</th>\n",
       "      <th>Instrumentalness</th>\n",
       "      <th>Liveness</th>\n",
       "      <th>Valence</th>\n",
       "      <th>Tempo</th>\n",
       "      <th>Track Popularity Cat</th>\n",
       "    </tr>\n",
       "  </thead>\n",
       "  <tbody>\n",
       "    <tr>\n",
       "      <th>0</th>\n",
       "      <td>0.649</td>\n",
       "      <td>0.506</td>\n",
       "      <td>-8.581</td>\n",
       "      <td>0.0286</td>\n",
       "      <td>0.64100</td>\n",
       "      <td>0.004500</td>\n",
       "      <td>0.308</td>\n",
       "      <td>0.577</td>\n",
       "      <td>134.488</td>\n",
       "      <td>0</td>\n",
       "    </tr>\n",
       "    <tr>\n",
       "      <th>1</th>\n",
       "      <td>0.763</td>\n",
       "      <td>0.810</td>\n",
       "      <td>-5.118</td>\n",
       "      <td>0.0861</td>\n",
       "      <td>0.03110</td>\n",
       "      <td>0.000000</td>\n",
       "      <td>0.316</td>\n",
       "      <td>0.437</td>\n",
       "      <td>108.004</td>\n",
       "      <td>0</td>\n",
       "    </tr>\n",
       "    <tr>\n",
       "      <th>2</th>\n",
       "      <td>0.377</td>\n",
       "      <td>0.165</td>\n",
       "      <td>-16.337</td>\n",
       "      <td>0.0381</td>\n",
       "      <td>0.98400</td>\n",
       "      <td>0.761000</td>\n",
       "      <td>0.107</td>\n",
       "      <td>0.540</td>\n",
       "      <td>134.589</td>\n",
       "      <td>0</td>\n",
       "    </tr>\n",
       "    <tr>\n",
       "      <th>3</th>\n",
       "      <td>0.434</td>\n",
       "      <td>0.328</td>\n",
       "      <td>-9.952</td>\n",
       "      <td>0.0492</td>\n",
       "      <td>0.69000</td>\n",
       "      <td>0.000012</td>\n",
       "      <td>0.948</td>\n",
       "      <td>0.297</td>\n",
       "      <td>114.988</td>\n",
       "      <td>0</td>\n",
       "    </tr>\n",
       "    <tr>\n",
       "      <th>4</th>\n",
       "      <td>0.500</td>\n",
       "      <td>0.800</td>\n",
       "      <td>-7.904</td>\n",
       "      <td>0.0465</td>\n",
       "      <td>0.00596</td>\n",
       "      <td>0.826000</td>\n",
       "      <td>0.261</td>\n",
       "      <td>0.102</td>\n",
       "      <td>110.015</td>\n",
       "      <td>0</td>\n",
       "    </tr>\n",
       "  </tbody>\n",
       "</table>\n",
       "</div>"
      ],
      "text/plain": [
       "   Danceability  Energy  Loudness  Speechiness  Acousticness  \\\n",
       "0         0.649   0.506    -8.581       0.0286       0.64100   \n",
       "1         0.763   0.810    -5.118       0.0861       0.03110   \n",
       "2         0.377   0.165   -16.337       0.0381       0.98400   \n",
       "3         0.434   0.328    -9.952       0.0492       0.69000   \n",
       "4         0.500   0.800    -7.904       0.0465       0.00596   \n",
       "\n",
       "   Instrumentalness  Liveness  Valence    Tempo  Track Popularity Cat  \n",
       "0          0.004500     0.308    0.577  134.488                     0  \n",
       "1          0.000000     0.316    0.437  108.004                     0  \n",
       "2          0.761000     0.107    0.540  134.589                     0  \n",
       "3          0.000012     0.948    0.297  114.988                     0  \n",
       "4          0.826000     0.261    0.102  110.015                     0  "
      ]
     },
     "execution_count": 31,
     "metadata": {},
     "output_type": "execute_result"
    }
   ],
   "source": [
    "rdmover = pd.concat([X_train_ros, y_train_ros], axis=1)\n",
    "rdmover.head()"
   ]
  },
  {
   "cell_type": "code",
   "execution_count": 32,
   "metadata": {},
   "outputs": [],
   "source": [
    "# Write random oversampling dataframe to a CSV file\n",
    "rdmover.to_csv('datasets/rdmover.csv')"
   ]
  },
  {
   "cell_type": "markdown",
   "metadata": {},
   "source": [
    "### <u>**Synthetic Minority Oversampling Technique (SMOTE)**</u>"
   ]
  },
  {
   "cell_type": "code",
   "execution_count": 33,
   "metadata": {},
   "outputs": [
    {
     "name": "stdout",
     "output_type": "stream",
     "text": [
      "Not-popular vs popular tracks in the training dataset\n",
      "104224 : 104224\n"
     ]
    }
   ],
   "source": [
    "from imblearn.over_sampling import SMOTE\n",
    "\n",
    "# Randomly over sample the minority class\n",
    "smote = SMOTE(random_state=42)\n",
    "X_train_smote, y_train_smote= smote.fit_resample(X_train, y_train)\n",
    "\n",
    "# Check the number of records after over sampling\n",
    "print(\"Not-popular vs popular tracks in the training dataset\")\n",
    "print(y_train_smote.value_counts()[0], ':', y_train_smote.value_counts()[1])"
   ]
  },
  {
   "cell_type": "code",
   "execution_count": 34,
   "metadata": {},
   "outputs": [
    {
     "data": {
      "text/html": [
       "<div>\n",
       "<style scoped>\n",
       "    .dataframe tbody tr th:only-of-type {\n",
       "        vertical-align: middle;\n",
       "    }\n",
       "\n",
       "    .dataframe tbody tr th {\n",
       "        vertical-align: top;\n",
       "    }\n",
       "\n",
       "    .dataframe thead th {\n",
       "        text-align: right;\n",
       "    }\n",
       "</style>\n",
       "<table border=\"1\" class=\"dataframe\">\n",
       "  <thead>\n",
       "    <tr style=\"text-align: right;\">\n",
       "      <th></th>\n",
       "      <th>Danceability</th>\n",
       "      <th>Energy</th>\n",
       "      <th>Loudness</th>\n",
       "      <th>Speechiness</th>\n",
       "      <th>Acousticness</th>\n",
       "      <th>Instrumentalness</th>\n",
       "      <th>Liveness</th>\n",
       "      <th>Valence</th>\n",
       "      <th>Tempo</th>\n",
       "      <th>Track Popularity Cat</th>\n",
       "    </tr>\n",
       "  </thead>\n",
       "  <tbody>\n",
       "    <tr>\n",
       "      <th>0</th>\n",
       "      <td>0.649</td>\n",
       "      <td>0.506</td>\n",
       "      <td>-8.581</td>\n",
       "      <td>0.0286</td>\n",
       "      <td>0.64100</td>\n",
       "      <td>0.004500</td>\n",
       "      <td>0.308</td>\n",
       "      <td>0.577</td>\n",
       "      <td>134.488</td>\n",
       "      <td>0</td>\n",
       "    </tr>\n",
       "    <tr>\n",
       "      <th>1</th>\n",
       "      <td>0.763</td>\n",
       "      <td>0.810</td>\n",
       "      <td>-5.118</td>\n",
       "      <td>0.0861</td>\n",
       "      <td>0.03110</td>\n",
       "      <td>0.000000</td>\n",
       "      <td>0.316</td>\n",
       "      <td>0.437</td>\n",
       "      <td>108.004</td>\n",
       "      <td>0</td>\n",
       "    </tr>\n",
       "    <tr>\n",
       "      <th>2</th>\n",
       "      <td>0.377</td>\n",
       "      <td>0.165</td>\n",
       "      <td>-16.337</td>\n",
       "      <td>0.0381</td>\n",
       "      <td>0.98400</td>\n",
       "      <td>0.761000</td>\n",
       "      <td>0.107</td>\n",
       "      <td>0.540</td>\n",
       "      <td>134.589</td>\n",
       "      <td>0</td>\n",
       "    </tr>\n",
       "    <tr>\n",
       "      <th>3</th>\n",
       "      <td>0.434</td>\n",
       "      <td>0.328</td>\n",
       "      <td>-9.952</td>\n",
       "      <td>0.0492</td>\n",
       "      <td>0.69000</td>\n",
       "      <td>0.000012</td>\n",
       "      <td>0.948</td>\n",
       "      <td>0.297</td>\n",
       "      <td>114.988</td>\n",
       "      <td>0</td>\n",
       "    </tr>\n",
       "    <tr>\n",
       "      <th>4</th>\n",
       "      <td>0.500</td>\n",
       "      <td>0.800</td>\n",
       "      <td>-7.904</td>\n",
       "      <td>0.0465</td>\n",
       "      <td>0.00596</td>\n",
       "      <td>0.826000</td>\n",
       "      <td>0.261</td>\n",
       "      <td>0.102</td>\n",
       "      <td>110.015</td>\n",
       "      <td>0</td>\n",
       "    </tr>\n",
       "  </tbody>\n",
       "</table>\n",
       "</div>"
      ],
      "text/plain": [
       "   Danceability  Energy  Loudness  Speechiness  Acousticness  \\\n",
       "0         0.649   0.506    -8.581       0.0286       0.64100   \n",
       "1         0.763   0.810    -5.118       0.0861       0.03110   \n",
       "2         0.377   0.165   -16.337       0.0381       0.98400   \n",
       "3         0.434   0.328    -9.952       0.0492       0.69000   \n",
       "4         0.500   0.800    -7.904       0.0465       0.00596   \n",
       "\n",
       "   Instrumentalness  Liveness  Valence    Tempo  Track Popularity Cat  \n",
       "0          0.004500     0.308    0.577  134.488                     0  \n",
       "1          0.000000     0.316    0.437  108.004                     0  \n",
       "2          0.761000     0.107    0.540  134.589                     0  \n",
       "3          0.000012     0.948    0.297  114.988                     0  \n",
       "4          0.826000     0.261    0.102  110.015                     0  "
      ]
     },
     "execution_count": 34,
     "metadata": {},
     "output_type": "execute_result"
    }
   ],
   "source": [
    "smotedf = pd.concat([X_train_smote, y_train_smote], axis=1)\n",
    "smotedf.head()"
   ]
  },
  {
   "cell_type": "code",
   "execution_count": 35,
   "metadata": {},
   "outputs": [],
   "source": [
    "# Write SMOTE dataframe to a CSV file\n",
    "smotedf.to_csv('datasets/smote.csv')"
   ]
  },
  {
   "cell_type": "markdown",
   "metadata": {},
   "source": [
    "### <u>**Random Under Sampling**</u>"
   ]
  },
  {
   "cell_type": "code",
   "execution_count": 36,
   "metadata": {},
   "outputs": [
    {
     "name": "stdout",
     "output_type": "stream",
     "text": [
      "Not-popular vs popular tracks in the training dataset\n",
      "31436 : 31436\n"
     ]
    }
   ],
   "source": [
    "from imblearn.under_sampling import RandomUnderSampler\n",
    "\n",
    "# Randomly under sample the majority class\n",
    "rus = RandomUnderSampler(random_state=101)\n",
    "X_train_rus, y_train_rus= rus.fit_resample(X_train, y_train)\n",
    "\n",
    "# Check the number of records after under sampling\n",
    "print(\"Not-popular vs popular tracks in the training dataset\")\n",
    "print(y_train_rus.value_counts()[0], ':', y_train_rus.value_counts()[1])"
   ]
  },
  {
   "cell_type": "code",
   "execution_count": 37,
   "metadata": {},
   "outputs": [
    {
     "data": {
      "text/html": [
       "<div>\n",
       "<style scoped>\n",
       "    .dataframe tbody tr th:only-of-type {\n",
       "        vertical-align: middle;\n",
       "    }\n",
       "\n",
       "    .dataframe tbody tr th {\n",
       "        vertical-align: top;\n",
       "    }\n",
       "\n",
       "    .dataframe thead th {\n",
       "        text-align: right;\n",
       "    }\n",
       "</style>\n",
       "<table border=\"1\" class=\"dataframe\">\n",
       "  <thead>\n",
       "    <tr style=\"text-align: right;\">\n",
       "      <th></th>\n",
       "      <th>Danceability</th>\n",
       "      <th>Energy</th>\n",
       "      <th>Loudness</th>\n",
       "      <th>Speechiness</th>\n",
       "      <th>Acousticness</th>\n",
       "      <th>Instrumentalness</th>\n",
       "      <th>Liveness</th>\n",
       "      <th>Valence</th>\n",
       "      <th>Tempo</th>\n",
       "      <th>Track Popularity Cat</th>\n",
       "    </tr>\n",
       "  </thead>\n",
       "  <tbody>\n",
       "    <tr>\n",
       "      <th>61758</th>\n",
       "      <td>0.655</td>\n",
       "      <td>0.459</td>\n",
       "      <td>-6.168</td>\n",
       "      <td>0.2770</td>\n",
       "      <td>0.1420</td>\n",
       "      <td>0.000000</td>\n",
       "      <td>0.1000</td>\n",
       "      <td>0.8970</td>\n",
       "      <td>203.364</td>\n",
       "      <td>0</td>\n",
       "    </tr>\n",
       "    <tr>\n",
       "      <th>49966</th>\n",
       "      <td>0.343</td>\n",
       "      <td>0.419</td>\n",
       "      <td>-11.321</td>\n",
       "      <td>0.0304</td>\n",
       "      <td>0.6140</td>\n",
       "      <td>0.900000</td>\n",
       "      <td>0.1270</td>\n",
       "      <td>0.0921</td>\n",
       "      <td>89.945</td>\n",
       "      <td>0</td>\n",
       "    </tr>\n",
       "    <tr>\n",
       "      <th>137869</th>\n",
       "      <td>0.716</td>\n",
       "      <td>0.949</td>\n",
       "      <td>-3.038</td>\n",
       "      <td>0.1540</td>\n",
       "      <td>0.0712</td>\n",
       "      <td>0.000085</td>\n",
       "      <td>0.3500</td>\n",
       "      <td>0.7290</td>\n",
       "      <td>122.961</td>\n",
       "      <td>0</td>\n",
       "    </tr>\n",
       "    <tr>\n",
       "      <th>158675</th>\n",
       "      <td>0.611</td>\n",
       "      <td>0.864</td>\n",
       "      <td>-5.328</td>\n",
       "      <td>0.1740</td>\n",
       "      <td>0.0381</td>\n",
       "      <td>0.017900</td>\n",
       "      <td>0.2600</td>\n",
       "      <td>0.7400</td>\n",
       "      <td>139.189</td>\n",
       "      <td>0</td>\n",
       "    </tr>\n",
       "    <tr>\n",
       "      <th>178156</th>\n",
       "      <td>0.555</td>\n",
       "      <td>0.813</td>\n",
       "      <td>-8.137</td>\n",
       "      <td>0.2240</td>\n",
       "      <td>0.9440</td>\n",
       "      <td>0.946000</td>\n",
       "      <td>0.0823</td>\n",
       "      <td>0.5640</td>\n",
       "      <td>193.663</td>\n",
       "      <td>0</td>\n",
       "    </tr>\n",
       "  </tbody>\n",
       "</table>\n",
       "</div>"
      ],
      "text/plain": [
       "        Danceability  Energy  Loudness  Speechiness  Acousticness  \\\n",
       "61758          0.655   0.459    -6.168       0.2770        0.1420   \n",
       "49966          0.343   0.419   -11.321       0.0304        0.6140   \n",
       "137869         0.716   0.949    -3.038       0.1540        0.0712   \n",
       "158675         0.611   0.864    -5.328       0.1740        0.0381   \n",
       "178156         0.555   0.813    -8.137       0.2240        0.9440   \n",
       "\n",
       "        Instrumentalness  Liveness  Valence    Tempo  Track Popularity Cat  \n",
       "61758           0.000000    0.1000   0.8970  203.364                     0  \n",
       "49966           0.900000    0.1270   0.0921   89.945                     0  \n",
       "137869          0.000085    0.3500   0.7290  122.961                     0  \n",
       "158675          0.017900    0.2600   0.7400  139.189                     0  \n",
       "178156          0.946000    0.0823   0.5640  193.663                     0  "
      ]
     },
     "execution_count": 37,
     "metadata": {},
     "output_type": "execute_result"
    }
   ],
   "source": [
    "rdmunder = pd.concat([X_train_rus, y_train_rus], axis=1)\n",
    "rdmunder.head()"
   ]
  },
  {
   "cell_type": "code",
   "execution_count": 38,
   "metadata": {},
   "outputs": [],
   "source": [
    "# Write random undersampling dataframe to a CSV file\n",
    "rdmunder.to_csv('datasets/rdmunder.csv')"
   ]
  },
  {
   "cell_type": "markdown",
   "metadata": {},
   "source": [
    "### <u>**NearMiss**</u>"
   ]
  },
  {
   "cell_type": "code",
   "execution_count": 39,
   "metadata": {},
   "outputs": [
    {
     "name": "stdout",
     "output_type": "stream",
     "text": [
      "Not-popular vs popular tracks in the training dataset\n",
      "31436 : 31436\n"
     ]
    }
   ],
   "source": [
    "from imblearn.under_sampling import NearMiss\n",
    "\n",
    "# Under sample the majority class\n",
    "nearmiss = NearMiss(version=3)\n",
    "X_train_nearmiss, y_train_nearmiss= nearmiss.fit_resample(X_train, y_train)\n",
    "\n",
    "# Check the number of records after over sampling\n",
    "print(\"Not-popular vs popular tracks in the training dataset\")\n",
    "print(y_train_nearmiss.value_counts()[0], ':', y_train_nearmiss.value_counts()[1])"
   ]
  },
  {
   "cell_type": "code",
   "execution_count": 40,
   "metadata": {},
   "outputs": [
    {
     "data": {
      "text/html": [
       "<div>\n",
       "<style scoped>\n",
       "    .dataframe tbody tr th:only-of-type {\n",
       "        vertical-align: middle;\n",
       "    }\n",
       "\n",
       "    .dataframe tbody tr th {\n",
       "        vertical-align: top;\n",
       "    }\n",
       "\n",
       "    .dataframe thead th {\n",
       "        text-align: right;\n",
       "    }\n",
       "</style>\n",
       "<table border=\"1\" class=\"dataframe\">\n",
       "  <thead>\n",
       "    <tr style=\"text-align: right;\">\n",
       "      <th></th>\n",
       "      <th>Danceability</th>\n",
       "      <th>Energy</th>\n",
       "      <th>Loudness</th>\n",
       "      <th>Speechiness</th>\n",
       "      <th>Acousticness</th>\n",
       "      <th>Instrumentalness</th>\n",
       "      <th>Liveness</th>\n",
       "      <th>Valence</th>\n",
       "      <th>Tempo</th>\n",
       "      <th>Track Popularity Cat</th>\n",
       "    </tr>\n",
       "  </thead>\n",
       "  <tbody>\n",
       "    <tr>\n",
       "      <th>0</th>\n",
       "      <td>0.332</td>\n",
       "      <td>0.4230</td>\n",
       "      <td>-12.102</td>\n",
       "      <td>0.0384</td>\n",
       "      <td>0.261</td>\n",
       "      <td>0.000140</td>\n",
       "      <td>0.0716</td>\n",
       "      <td>0.5190</td>\n",
       "      <td>236.799</td>\n",
       "      <td>0</td>\n",
       "    </tr>\n",
       "    <tr>\n",
       "      <th>1</th>\n",
       "      <td>0.397</td>\n",
       "      <td>0.2860</td>\n",
       "      <td>-15.948</td>\n",
       "      <td>0.4470</td>\n",
       "      <td>0.984</td>\n",
       "      <td>0.000046</td>\n",
       "      <td>0.1060</td>\n",
       "      <td>0.0656</td>\n",
       "      <td>230.512</td>\n",
       "      <td>0</td>\n",
       "    </tr>\n",
       "    <tr>\n",
       "      <th>2</th>\n",
       "      <td>0.357</td>\n",
       "      <td>0.1290</td>\n",
       "      <td>-10.855</td>\n",
       "      <td>0.0854</td>\n",
       "      <td>0.980</td>\n",
       "      <td>0.000004</td>\n",
       "      <td>0.0975</td>\n",
       "      <td>0.1910</td>\n",
       "      <td>232.602</td>\n",
       "      <td>0</td>\n",
       "    </tr>\n",
       "    <tr>\n",
       "      <th>3</th>\n",
       "      <td>0.220</td>\n",
       "      <td>0.1020</td>\n",
       "      <td>-22.205</td>\n",
       "      <td>0.0430</td>\n",
       "      <td>0.869</td>\n",
       "      <td>0.965000</td>\n",
       "      <td>0.1030</td>\n",
       "      <td>0.0337</td>\n",
       "      <td>33.593</td>\n",
       "      <td>0</td>\n",
       "    </tr>\n",
       "    <tr>\n",
       "      <th>4</th>\n",
       "      <td>0.160</td>\n",
       "      <td>0.0744</td>\n",
       "      <td>-22.592</td>\n",
       "      <td>0.0408</td>\n",
       "      <td>0.933</td>\n",
       "      <td>0.761000</td>\n",
       "      <td>0.0785</td>\n",
       "      <td>0.0761</td>\n",
       "      <td>35.341</td>\n",
       "      <td>0</td>\n",
       "    </tr>\n",
       "  </tbody>\n",
       "</table>\n",
       "</div>"
      ],
      "text/plain": [
       "   Danceability  Energy  Loudness  Speechiness  Acousticness  \\\n",
       "0         0.332  0.4230   -12.102       0.0384         0.261   \n",
       "1         0.397  0.2860   -15.948       0.4470         0.984   \n",
       "2         0.357  0.1290   -10.855       0.0854         0.980   \n",
       "3         0.220  0.1020   -22.205       0.0430         0.869   \n",
       "4         0.160  0.0744   -22.592       0.0408         0.933   \n",
       "\n",
       "   Instrumentalness  Liveness  Valence    Tempo  Track Popularity Cat  \n",
       "0          0.000140    0.0716   0.5190  236.799                     0  \n",
       "1          0.000046    0.1060   0.0656  230.512                     0  \n",
       "2          0.000004    0.0975   0.1910  232.602                     0  \n",
       "3          0.965000    0.1030   0.0337   33.593                     0  \n",
       "4          0.761000    0.0785   0.0761   35.341                     0  "
      ]
     },
     "execution_count": 40,
     "metadata": {},
     "output_type": "execute_result"
    }
   ],
   "source": [
    "nm = pd.concat([X_train_nearmiss, y_train_nearmiss], axis=1)\n",
    "nm.head()"
   ]
  },
  {
   "cell_type": "code",
   "execution_count": 41,
   "metadata": {},
   "outputs": [],
   "source": [
    "# Write NearMiss sampled dataframe to a CSV file\n",
    "nm.to_csv('datasets/nearmiss.csv')"
   ]
  },
  {
   "cell_type": "markdown",
   "metadata": {},
   "source": [
    "---"
   ]
  },
  {
   "cell_type": "markdown",
   "metadata": {},
   "source": [
    "## **Visualisation of Resampled Data as a Classification Problem**"
   ]
  },
  {
   "cell_type": "code",
   "execution_count": 42,
   "metadata": {},
   "outputs": [
    {
     "data": {
      "text/plain": [
       "Text(0.5, 0, 'NearMiss')"
      ]
     },
     "execution_count": 42,
     "metadata": {},
     "output_type": "execute_result"
    },
    {
     "data": {
      "image/png": "[encoded data removed]",
      "text/plain": [
       "<Figure size 2400x1200 with 6 Axes>"
      ]
     },
     "metadata": {},
     "output_type": "display_data"
    }
   ],
   "source": [
    "\"\"\"\n",
    "classification_training : Original dataset as a classification problem\n",
    "rdmover : Random Oversampling\n",
    "smotedf : SMOTE\n",
    "rdmunder : Random Undersampling\n",
    "nm : NearMiss\n",
    "\"\"\"\n",
    "\n",
    "f, axes = plt.subplots(2,3, figsize=(24,12))\n",
    "plt.setp(axes,ylim=(0,125000))\n",
    "\n",
    "o = sb.countplot(x=classification_training['Track Popularity Cat'], hue=classification_training['Track Popularity Cat'],\n",
    "                 ax=axes[0,0], palette=['#EF919B',\"#A0CFA2\"], legend=False)\n",
    "o.set_xlabel(\"Original\")\n",
    "ro = sb.countplot(x=rdmover['Track Popularity Cat'], hue=rdmover['Track Popularity Cat'],\n",
    "                  ax=axes[0,1], palette=['#EF919B',\"#A0CFA2\"], legend=False)\n",
    "ro.set_xlabel(\"Random Oversampling\")\n",
    "sm = sb.countplot(x=smotedf['Track Popularity Cat'], hue=smotedf['Track Popularity Cat'],\n",
    "                  ax=axes[0,2], palette=['#EF919B',\"#A0CFA2\"], legend=False)\n",
    "sm.set_xlabel(\"SMOTE\")\n",
    "ru = sb.countplot(x=rdmunder['Track Popularity Cat'], hue=rdmunder['Track Popularity Cat'],\n",
    "                  ax=axes[1,0], palette=['#EF919B',\"#A0CFA2\"], legend=False)\n",
    "ru.set_xlabel(\"Random Undersampling\")\n",
    "n = sb.countplot(x=nm['Track Popularity Cat'], hue=nm['Track Popularity Cat'],\n",
    "                 ax=axes[1,1], palette=['#EF919B',\"#A0CFA2\"], legend=False)\n",
    "n.set_xlabel(\"NearMiss\")"
   ]
  },
  {
   "cell_type": "markdown",
   "metadata": {},
   "source": [
    "Overall, there is a more even number of data points with high popularity and low popularity for all of the resampled data"
   ]
  },
  {
   "cell_type": "markdown",
   "metadata": {},
   "source": [
    "---"
   ]
  },
  {
   "cell_type": "markdown",
   "metadata": {},
   "source": [
    "# **References**\n",
    "1. https://www.analyticsvidhya.com/blog/2020/07/what-is-skewness-statistics/\n",
    "2. https://medium.com/@manjindersingh_10145/sampling-methods-for-imbalanced-classification-along-with-python-code-fa1832b5aaca\n",
    "3. https://github.com/nickkunz/smogn\n",
    "4. https://scikit-learn.org/stable/modules/generated/sklearn.model_selection.GridSearchCV.html#sklearn.model_selection.GridSearchCV"
   ]
  }
 ],
 "metadata": {
  "kernelspec": {
   "display_name": "Python 3",
   "language": "python",
   "name": "python3"
  },
  "language_info": {
   "codemirror_mode": {
    "name": "ipython",
    "version": 3
   },
   "file_extension": ".py",
   "mimetype": "text/x-python",
   "name": "python",
   "nbconvert_exporter": "python",
   "pygments_lexer": "ipython3",
   "version": "3.11.4"
  }
 },
 "nbformat": 4,
 "nbformat_minor": 2
}
