{
 "cells": [
  {
   "cell_type": "markdown",
   "metadata": {},
   "source": [
    "# **Data Resampling**"
   ]
  },
  {
   "cell_type": "markdown",
   "metadata": {},
   "source": [
    "#### **Import Necessary Libraries**"
   ]
  },
  {
   "cell_type": "code",
   "execution_count": 1,
   "metadata": {},
   "outputs": [],
   "source": [
    "import pandas as pd\n",
    "import seaborn as sb\n",
    "import matplotlib.pyplot as plt\n",
    "import numpy as np\n",
    "\n",
    "from sklearn.model_selection import train_test_split"
   ]
  },
  {
   "cell_type": "markdown",
   "metadata": {},
   "source": [
    "---"
   ]
  },
  {
   "cell_type": "code",
   "execution_count": 2,
   "metadata": {},
   "outputs": [
    {
     "data": {
      "text/html": [
       "<div>\n",
       "<style scoped>\n",
       "    .dataframe tbody tr th:only-of-type {\n",
       "        vertical-align: middle;\n",
       "    }\n",
       "\n",
       "    .dataframe tbody tr th {\n",
       "        vertical-align: top;\n",
       "    }\n",
       "\n",
       "    .dataframe thead th {\n",
       "        text-align: right;\n",
       "    }\n",
       "</style>\n",
       "<table border=\"1\" class=\"dataframe\">\n",
       "  <thead>\n",
       "    <tr style=\"text-align: right;\">\n",
       "      <th></th>\n",
       "      <th>Track Name</th>\n",
       "      <th>Artist Genres</th>\n",
       "      <th>Danceability</th>\n",
       "      <th>Energy</th>\n",
       "      <th>Key</th>\n",
       "      <th>Loudness</th>\n",
       "      <th>Mode</th>\n",
       "      <th>Speechiness</th>\n",
       "      <th>Acousticness</th>\n",
       "      <th>Instrumentalness</th>\n",
       "      <th>Liveness</th>\n",
       "      <th>Valence</th>\n",
       "      <th>Tempo</th>\n",
       "      <th>Time Signature</th>\n",
       "      <th>Track Popularity</th>\n",
       "      <th>track_id</th>\n",
       "    </tr>\n",
       "  </thead>\n",
       "  <tbody>\n",
       "    <tr>\n",
       "      <th>0</th>\n",
       "      <td>act ii: date @ 8 (feat. Drake) - remix</td>\n",
       "      <td>NaN</td>\n",
       "      <td>0.550</td>\n",
       "      <td>0.545</td>\n",
       "      <td>0.0</td>\n",
       "      <td>-9.304</td>\n",
       "      <td>1.0</td>\n",
       "      <td>0.1630</td>\n",
       "      <td>0.3180</td>\n",
       "      <td>0.000000</td>\n",
       "      <td>0.0608</td>\n",
       "      <td>0.412</td>\n",
       "      <td>102.469</td>\n",
       "      <td>4.0</td>\n",
       "      <td>86</td>\n",
       "      <td>3QS9ZCtoSCJhmaJ7QNXSAS</td>\n",
       "    </tr>\n",
       "    <tr>\n",
       "      <th>1</th>\n",
       "      <td>LEAP!</td>\n",
       "      <td>NaN</td>\n",
       "      <td>0.892</td>\n",
       "      <td>0.585</td>\n",
       "      <td>11.0</td>\n",
       "      <td>-7.269</td>\n",
       "      <td>1.0</td>\n",
       "      <td>0.1020</td>\n",
       "      <td>0.1460</td>\n",
       "      <td>0.000004</td>\n",
       "      <td>0.0881</td>\n",
       "      <td>0.244</td>\n",
       "      <td>104.011</td>\n",
       "      <td>4.0</td>\n",
       "      <td>38</td>\n",
       "      <td>3vl2uH4D2QItFFhzz5L06g</td>\n",
       "    </tr>\n",
       "    <tr>\n",
       "      <th>2</th>\n",
       "      <td>Overdrive</td>\n",
       "      <td>bedroom pop, pop, pov: indie</td>\n",
       "      <td>0.568</td>\n",
       "      <td>0.788</td>\n",
       "      <td>5.0</td>\n",
       "      <td>-6.280</td>\n",
       "      <td>1.0</td>\n",
       "      <td>0.0377</td>\n",
       "      <td>0.0101</td>\n",
       "      <td>0.000000</td>\n",
       "      <td>0.1410</td>\n",
       "      <td>0.460</td>\n",
       "      <td>104.959</td>\n",
       "      <td>4.0</td>\n",
       "      <td>66</td>\n",
       "      <td>3QyoC6OvQUmpQwQZ18iaTs</td>\n",
       "    </tr>\n",
       "    <tr>\n",
       "      <th>3</th>\n",
       "      <td>Raise y_our glass</td>\n",
       "      <td>NaN</td>\n",
       "      <td>0.567</td>\n",
       "      <td>0.503</td>\n",
       "      <td>8.0</td>\n",
       "      <td>-6.119</td>\n",
       "      <td>1.0</td>\n",
       "      <td>0.1240</td>\n",
       "      <td>0.5810</td>\n",
       "      <td>0.000000</td>\n",
       "      <td>0.3690</td>\n",
       "      <td>0.184</td>\n",
       "      <td>72.798</td>\n",
       "      <td>4.0</td>\n",
       "      <td>59</td>\n",
       "      <td>7j1vFohEm1lbsctYY9gyGd</td>\n",
       "    </tr>\n",
       "    <tr>\n",
       "      <th>4</th>\n",
       "      <td>In My Mind</td>\n",
       "      <td>gen z singer-songwriter</td>\n",
       "      <td>0.668</td>\n",
       "      <td>0.392</td>\n",
       "      <td>2.0</td>\n",
       "      <td>-12.178</td>\n",
       "      <td>0.0</td>\n",
       "      <td>0.0585</td>\n",
       "      <td>0.7890</td>\n",
       "      <td>0.002750</td>\n",
       "      <td>0.3450</td>\n",
       "      <td>0.323</td>\n",
       "      <td>135.936</td>\n",
       "      <td>3.0</td>\n",
       "      <td>72</td>\n",
       "      <td>2W779g2UrRZtVdf3FcEOO1</td>\n",
       "    </tr>\n",
       "    <tr>\n",
       "      <th>...</th>\n",
       "      <td>...</td>\n",
       "      <td>...</td>\n",
       "      <td>...</td>\n",
       "      <td>...</td>\n",
       "      <td>...</td>\n",
       "      <td>...</td>\n",
       "      <td>...</td>\n",
       "      <td>...</td>\n",
       "      <td>...</td>\n",
       "      <td>...</td>\n",
       "      <td>...</td>\n",
       "      <td>...</td>\n",
       "      <td>...</td>\n",
       "      <td>...</td>\n",
       "      <td>...</td>\n",
       "      <td>...</td>\n",
       "    </tr>\n",
       "    <tr>\n",
       "      <th>191390</th>\n",
       "      <td>Quickly (feat. Brandy)</td>\n",
       "      <td>Soul</td>\n",
       "      <td>0.736</td>\n",
       "      <td>0.701</td>\n",
       "      <td>A#</td>\n",
       "      <td>-4.345</td>\n",
       "      <td>Minor</td>\n",
       "      <td>0.1000</td>\n",
       "      <td>0.2310</td>\n",
       "      <td>0.000000</td>\n",
       "      <td>0.2030</td>\n",
       "      <td>0.770</td>\n",
       "      <td>99.991</td>\n",
       "      <td>4/4</td>\n",
       "      <td>39</td>\n",
       "      <td>1U0OMWvR89Cm20vCNar50f</td>\n",
       "    </tr>\n",
       "    <tr>\n",
       "      <th>191391</th>\n",
       "      <td>P.O.P.</td>\n",
       "      <td>Soul</td>\n",
       "      <td>0.802</td>\n",
       "      <td>0.516</td>\n",
       "      <td>D</td>\n",
       "      <td>-9.014</td>\n",
       "      <td>Major</td>\n",
       "      <td>0.2130</td>\n",
       "      <td>0.1040</td>\n",
       "      <td>0.000485</td>\n",
       "      <td>0.1050</td>\n",
       "      <td>0.482</td>\n",
       "      <td>175.666</td>\n",
       "      <td>4/4</td>\n",
       "      <td>43</td>\n",
       "      <td>2gGqKJWfWbToha2YmDxnnj</td>\n",
       "    </tr>\n",
       "    <tr>\n",
       "      <th>191392</th>\n",
       "      <td>I'll Take Care Of You - Single Version</td>\n",
       "      <td>Soul</td>\n",
       "      <td>0.423</td>\n",
       "      <td>0.337</td>\n",
       "      <td>A#</td>\n",
       "      <td>-13.092</td>\n",
       "      <td>Minor</td>\n",
       "      <td>0.0436</td>\n",
       "      <td>0.5660</td>\n",
       "      <td>0.000000</td>\n",
       "      <td>0.2760</td>\n",
       "      <td>0.497</td>\n",
       "      <td>80.023</td>\n",
       "      <td>4/4</td>\n",
       "      <td>32</td>\n",
       "      <td>2iZf3EUedz9MPqbAvXdpdA</td>\n",
       "    </tr>\n",
       "    <tr>\n",
       "      <th>191393</th>\n",
       "      <td>Burning Fire</td>\n",
       "      <td>Soul</td>\n",
       "      <td>0.785</td>\n",
       "      <td>0.683</td>\n",
       "      <td>E</td>\n",
       "      <td>-6.944</td>\n",
       "      <td>Minor</td>\n",
       "      <td>0.0337</td>\n",
       "      <td>0.0329</td>\n",
       "      <td>0.000880</td>\n",
       "      <td>0.2370</td>\n",
       "      <td>0.969</td>\n",
       "      <td>113.830</td>\n",
       "      <td>4/4</td>\n",
       "      <td>38</td>\n",
       "      <td>1qWZdkBl4UVPj9lK6HuuFM</td>\n",
       "    </tr>\n",
       "    <tr>\n",
       "      <th>191394</th>\n",
       "      <td>You Don't Have To Hurt No More</td>\n",
       "      <td>Soul</td>\n",
       "      <td>0.758</td>\n",
       "      <td>0.470</td>\n",
       "      <td>G#</td>\n",
       "      <td>-6.708</td>\n",
       "      <td>Minor</td>\n",
       "      <td>0.0287</td>\n",
       "      <td>0.0973</td>\n",
       "      <td>0.000049</td>\n",
       "      <td>0.0836</td>\n",
       "      <td>0.479</td>\n",
       "      <td>113.897</td>\n",
       "      <td>4/4</td>\n",
       "      <td>35</td>\n",
       "      <td>34XO9RwPMKjbvRry54QzWn</td>\n",
       "    </tr>\n",
       "  </tbody>\n",
       "</table>\n",
       "<p>191395 rows × 16 columns</p>\n",
       "</div>"
      ],
      "text/plain": [
       "                                    Track Name                 Artist Genres  \\\n",
       "0       act ii: date @ 8 (feat. Drake) - remix                           NaN   \n",
       "1                                        LEAP!                           NaN   \n",
       "2                                    Overdrive  bedroom pop, pop, pov: indie   \n",
       "3                            Raise y_our glass                           NaN   \n",
       "4                                   In My Mind       gen z singer-songwriter   \n",
       "...                                        ...                           ...   \n",
       "191390                  Quickly (feat. Brandy)                          Soul   \n",
       "191391                                  P.O.P.                          Soul   \n",
       "191392  I'll Take Care Of You - Single Version                          Soul   \n",
       "191393                            Burning Fire                          Soul   \n",
       "191394          You Don't Have To Hurt No More                          Soul   \n",
       "\n",
       "        Danceability  Energy   Key  Loudness   Mode  Speechiness  \\\n",
       "0              0.550   0.545   0.0    -9.304    1.0       0.1630   \n",
       "1              0.892   0.585  11.0    -7.269    1.0       0.1020   \n",
       "2              0.568   0.788   5.0    -6.280    1.0       0.0377   \n",
       "3              0.567   0.503   8.0    -6.119    1.0       0.1240   \n",
       "4              0.668   0.392   2.0   -12.178    0.0       0.0585   \n",
       "...              ...     ...   ...       ...    ...          ...   \n",
       "191390         0.736   0.701    A#    -4.345  Minor       0.1000   \n",
       "191391         0.802   0.516     D    -9.014  Major       0.2130   \n",
       "191392         0.423   0.337    A#   -13.092  Minor       0.0436   \n",
       "191393         0.785   0.683     E    -6.944  Minor       0.0337   \n",
       "191394         0.758   0.470    G#    -6.708  Minor       0.0287   \n",
       "\n",
       "        Acousticness  Instrumentalness  Liveness  Valence    Tempo  \\\n",
       "0             0.3180          0.000000    0.0608    0.412  102.469   \n",
       "1             0.1460          0.000004    0.0881    0.244  104.011   \n",
       "2             0.0101          0.000000    0.1410    0.460  104.959   \n",
       "3             0.5810          0.000000    0.3690    0.184   72.798   \n",
       "4             0.7890          0.002750    0.3450    0.323  135.936   \n",
       "...              ...               ...       ...      ...      ...   \n",
       "191390        0.2310          0.000000    0.2030    0.770   99.991   \n",
       "191391        0.1040          0.000485    0.1050    0.482  175.666   \n",
       "191392        0.5660          0.000000    0.2760    0.497   80.023   \n",
       "191393        0.0329          0.000880    0.2370    0.969  113.830   \n",
       "191394        0.0973          0.000049    0.0836    0.479  113.897   \n",
       "\n",
       "       Time Signature  Track Popularity                track_id  \n",
       "0                 4.0                86  3QS9ZCtoSCJhmaJ7QNXSAS  \n",
       "1                 4.0                38  3vl2uH4D2QItFFhzz5L06g  \n",
       "2                 4.0                66  3QyoC6OvQUmpQwQZ18iaTs  \n",
       "3                 4.0                59  7j1vFohEm1lbsctYY9gyGd  \n",
       "4                 3.0                72  2W779g2UrRZtVdf3FcEOO1  \n",
       "...               ...               ...                     ...  \n",
       "191390            4/4                39  1U0OMWvR89Cm20vCNar50f  \n",
       "191391            4/4                43  2gGqKJWfWbToha2YmDxnnj  \n",
       "191392            4/4                32  2iZf3EUedz9MPqbAvXdpdA  \n",
       "191393            4/4                38  1qWZdkBl4UVPj9lK6HuuFM  \n",
       "191394            4/4                35  34XO9RwPMKjbvRry54QzWn  \n",
       "\n",
       "[191395 rows x 16 columns]"
      ]
     },
     "execution_count": 2,
     "metadata": {},
     "output_type": "execute_result"
    }
   ],
   "source": [
    "df = pd.read_csv('datasets/merged200k.csv')\n",
    "df"
   ]
  },
  {
   "cell_type": "markdown",
   "metadata": {},
   "source": [
    "As explained in our \"data-visualisation.ipynb\" notebook, there is a possible limitation where Spotify does not update a song's track popularity, and thus assignes a value of 0 by default. Unfortunately, we will have to remove these tracks."
   ]
  },
  {
   "cell_type": "code",
   "execution_count": 3,
   "metadata": {},
   "outputs": [
    {
     "data": {
      "text/plain": [
       "(180880, 16)"
      ]
     },
     "execution_count": 3,
     "metadata": {},
     "output_type": "execute_result"
    }
   ],
   "source": [
    "# Remove songs with popularity of 0\n",
    "df.drop(df.loc[df['Track Popularity']==0].index, inplace=True)\n",
    "df.shape"
   ]
  },
  {
   "cell_type": "markdown",
   "metadata": {},
   "source": [
    "## **Section 1: Regression Sampling Methods**"
   ]
  },
  {
   "cell_type": "markdown",
   "metadata": {},
   "source": [
    "#### <u>**Synthetic Minority Over-Sampling Technique for Regression with Gaussian Noise (SMOGN)**</u>"
   ]
  },
  {
   "cell_type": "code",
   "execution_count": 4,
   "metadata": {},
   "outputs": [],
   "source": [
    "predictors = [\"Danceability\", \"Energy\", \"Loudness\", \"Speechiness\", \"Acousticness\",\n",
    "              \"Instrumentalness\", \"Liveness\", \"Valence\", \"Tempo\"]\n",
    "track_pop= pd.DataFrame(df['Track Popularity'])   # Response\n",
    "voice_analysis = pd.DataFrame(df[predictors]) # Predictor\n",
    "\n",
    "# Split the Dataset into Train and Test\n",
    "or_X_train, or_X_test, or_y_train, or_y_test = train_test_split(voice_analysis, track_pop, test_size = 0.30, random_state=100)"
   ]
  },
  {
   "cell_type": "code",
   "execution_count": 5,
   "metadata": {},
   "outputs": [],
   "source": [
    "# Let's save the original training dataset and test dataset separately\n",
    "# So that we can use the same test dataset to test the model trained with SMOGN dataset\n",
    "regression_training = pd.concat([or_X_train, or_y_train], axis=1, join = \"inner\")\n",
    "regression_test = pd.concat([or_X_test, or_y_test], axis=1, join = \"inner\")"
   ]
  },
  {
   "cell_type": "code",
   "execution_count": 6,
   "metadata": {},
   "outputs": [],
   "source": [
    "# Reset the indexing\n",
    "regression_training = regression_training.reset_index(drop=True)\n",
    "regression_test = regression_test.reset_index(drop=True)"
   ]
  },
  {
   "cell_type": "code",
   "execution_count": 7,
   "metadata": {},
   "outputs": [
    {
     "data": {
      "text/html": [
       "<div>\n",
       "<style scoped>\n",
       "    .dataframe tbody tr th:only-of-type {\n",
       "        vertical-align: middle;\n",
       "    }\n",
       "\n",
       "    .dataframe tbody tr th {\n",
       "        vertical-align: top;\n",
       "    }\n",
       "\n",
       "    .dataframe thead th {\n",
       "        text-align: right;\n",
       "    }\n",
       "</style>\n",
       "<table border=\"1\" class=\"dataframe\">\n",
       "  <thead>\n",
       "    <tr style=\"text-align: right;\">\n",
       "      <th></th>\n",
       "      <th>Danceability</th>\n",
       "      <th>Energy</th>\n",
       "      <th>Loudness</th>\n",
       "      <th>Speechiness</th>\n",
       "      <th>Acousticness</th>\n",
       "      <th>Instrumentalness</th>\n",
       "      <th>Liveness</th>\n",
       "      <th>Valence</th>\n",
       "      <th>Tempo</th>\n",
       "      <th>Track Popularity</th>\n",
       "    </tr>\n",
       "  </thead>\n",
       "  <tbody>\n",
       "    <tr>\n",
       "      <th>0</th>\n",
       "      <td>0.835</td>\n",
       "      <td>0.660</td>\n",
       "      <td>-9.250</td>\n",
       "      <td>0.1210</td>\n",
       "      <td>0.5950</td>\n",
       "      <td>0.000026</td>\n",
       "      <td>0.0465</td>\n",
       "      <td>0.8920</td>\n",
       "      <td>144.965</td>\n",
       "      <td>57</td>\n",
       "    </tr>\n",
       "    <tr>\n",
       "      <th>1</th>\n",
       "      <td>0.811</td>\n",
       "      <td>0.570</td>\n",
       "      <td>-8.763</td>\n",
       "      <td>0.2330</td>\n",
       "      <td>0.0139</td>\n",
       "      <td>0.000064</td>\n",
       "      <td>0.2710</td>\n",
       "      <td>0.2830</td>\n",
       "      <td>135.998</td>\n",
       "      <td>50</td>\n",
       "    </tr>\n",
       "    <tr>\n",
       "      <th>2</th>\n",
       "      <td>0.742</td>\n",
       "      <td>0.797</td>\n",
       "      <td>-4.130</td>\n",
       "      <td>0.0294</td>\n",
       "      <td>0.0851</td>\n",
       "      <td>0.000000</td>\n",
       "      <td>0.1680</td>\n",
       "      <td>0.9620</td>\n",
       "      <td>110.010</td>\n",
       "      <td>23</td>\n",
       "    </tr>\n",
       "    <tr>\n",
       "      <th>3</th>\n",
       "      <td>0.161</td>\n",
       "      <td>0.296</td>\n",
       "      <td>-17.388</td>\n",
       "      <td>0.0381</td>\n",
       "      <td>0.7090</td>\n",
       "      <td>0.917000</td>\n",
       "      <td>0.1110</td>\n",
       "      <td>0.0795</td>\n",
       "      <td>109.055</td>\n",
       "      <td>27</td>\n",
       "    </tr>\n",
       "    <tr>\n",
       "      <th>4</th>\n",
       "      <td>0.624</td>\n",
       "      <td>0.618</td>\n",
       "      <td>-5.586</td>\n",
       "      <td>0.1230</td>\n",
       "      <td>0.1020</td>\n",
       "      <td>0.000006</td>\n",
       "      <td>0.0853</td>\n",
       "      <td>0.8490</td>\n",
       "      <td>169.844</td>\n",
       "      <td>54</td>\n",
       "    </tr>\n",
       "  </tbody>\n",
       "</table>\n",
       "</div>"
      ],
      "text/plain": [
       "   Danceability  Energy  Loudness  Speechiness  Acousticness  \\\n",
       "0         0.835   0.660    -9.250       0.1210        0.5950   \n",
       "1         0.811   0.570    -8.763       0.2330        0.0139   \n",
       "2         0.742   0.797    -4.130       0.0294        0.0851   \n",
       "3         0.161   0.296   -17.388       0.0381        0.7090   \n",
       "4         0.624   0.618    -5.586       0.1230        0.1020   \n",
       "\n",
       "   Instrumentalness  Liveness  Valence    Tempo  Track Popularity  \n",
       "0          0.000026    0.0465   0.8920  144.965                57  \n",
       "1          0.000064    0.2710   0.2830  135.998                50  \n",
       "2          0.000000    0.1680   0.9620  110.010                23  \n",
       "3          0.917000    0.1110   0.0795  109.055                27  \n",
       "4          0.000006    0.0853   0.8490  169.844                54  "
      ]
     },
     "execution_count": 7,
     "metadata": {},
     "output_type": "execute_result"
    }
   ],
   "source": [
    "# Check if the indexing is corrected and our dataset is good\n",
    "regression_training.head()"
   ]
  },
  {
   "cell_type": "code",
   "execution_count": 8,
   "metadata": {},
   "outputs": [
    {
     "data": {
      "text/plain": [
       "(126616, 10)"
      ]
     },
     "execution_count": 8,
     "metadata": {},
     "output_type": "execute_result"
    }
   ],
   "source": [
    "# Check the number of data points for training dataset\n",
    "regression_training.shape"
   ]
  },
  {
   "cell_type": "code",
   "execution_count": 9,
   "metadata": {},
   "outputs": [
    {
     "data": {
      "text/plain": [
       "(54264, 10)"
      ]
     },
     "execution_count": 9,
     "metadata": {},
     "output_type": "execute_result"
    }
   ],
   "source": [
    "# Check the number of data points for test dataset\n",
    "regression_test.shape"
   ]
  },
  {
   "cell_type": "markdown",
   "metadata": {},
   "source": [
    "To apply SMOGN sampling, we must find the correct rel_coeff parameter. As such, hyperparameter optimising technique is employed. GridSearchCV is chosen as it performs an exhaustive search over the specified parameter grid. This means that if the best parameters lie within the grid, GridSearchCV will find them. \n",
    "\n",
    "GridSearchCV will pick 10 values, equally spaced between 0.7 and 0.95. It will then return the rel_coeff value with the highest R^2 value after fitting a linear regression model. 0.7 is chosen as the lower bound as any value below 0.8 would be too computationally expensive (i.e. would take around 5 hours to sample the entire dataset).\n",
    "\n",
    "We use a sampled dataset to feed inside GridSearchCV to speed up the searching process."
   ]
  },
  {
   "cell_type": "code",
   "execution_count": 10,
   "metadata": {},
   "outputs": [],
   "source": [
    "regression_training_sampled = regression_training.sample(n=10000, random_state=42, ignore_index=True, )\n",
    "regression_test_sampled = regression_test.sample(n=2500, random_state=42, ignore_index=True)"
   ]
  },
  {
   "cell_type": "code",
   "execution_count": 11,
   "metadata": {},
   "outputs": [
    {
     "data": {
      "text/plain": [
       "(2500, 10)"
      ]
     },
     "execution_count": 11,
     "metadata": {},
     "output_type": "execute_result"
    }
   ],
   "source": [
    "regression_test_sampled.shape"
   ]
  },
  {
   "cell_type": "code",
   "execution_count": 12,
   "metadata": {},
   "outputs": [
    {
     "data": {
      "text/plain": [
       "(10000, 10)"
      ]
     },
     "execution_count": 12,
     "metadata": {},
     "output_type": "execute_result"
    }
   ],
   "source": [
    "regression_training_sampled.shape"
   ]
  },
  {
   "cell_type": "code",
   "execution_count": 13,
   "metadata": {},
   "outputs": [
    {
     "name": "stdout",
     "output_type": "stream",
     "text": [
      "0.7\n"
     ]
    },
    {
     "name": "stderr",
     "output_type": "stream",
     "text": [
      "dist_matrix: 100%|##########| 490/490 [00:15<00:00, 31.59it/s]\n",
      "synth_matrix: 100%|##########| 490/490 [00:01<00:00, 322.58it/s]\n",
      "r_index: 100%|##########| 99/99 [00:00<00:00, 2875.97it/s]\n"
     ]
    },
    {
     "name": "stdout",
     "output_type": "stream",
     "text": [
      "0.7\n"
     ]
    },
    {
     "name": "stderr",
     "output_type": "stream",
     "text": [
      "dist_matrix: 100%|##########| 490/490 [00:15<00:00, 31.37it/s]\n",
      "synth_matrix: 100%|##########| 490/490 [00:01<00:00, 319.74it/s]\n",
      "r_index: 100%|##########| 99/99 [00:00<00:00, 2857.55it/s]\n"
     ]
    },
    {
     "name": "stdout",
     "output_type": "stream",
     "text": [
      "0.7277777777777777\n"
     ]
    },
    {
     "name": "stderr",
     "output_type": "stream",
     "text": [
      "dist_matrix: 100%|##########| 490/490 [00:15<00:00, 31.28it/s]\n",
      "synth_matrix: 100%|##########| 490/490 [00:01<00:00, 325.31it/s]\n",
      "r_index: 100%|##########| 99/99 [00:00<00:00, 2888.24it/s]\n"
     ]
    },
    {
     "name": "stdout",
     "output_type": "stream",
     "text": [
      "0.7277777777777777\n"
     ]
    },
    {
     "name": "stderr",
     "output_type": "stream",
     "text": [
      "dist_matrix: 100%|##########| 490/490 [00:15<00:00, 31.49it/s]\n",
      "synth_matrix: 100%|##########| 490/490 [00:01<00:00, 316.26it/s]\n",
      "r_index: 100%|##########| 99/99 [00:00<00:00, 2924.59it/s]\n"
     ]
    },
    {
     "name": "stdout",
     "output_type": "stream",
     "text": [
      "0.7555555555555555\n"
     ]
    },
    {
     "name": "stderr",
     "output_type": "stream",
     "text": [
      "dist_matrix: 100%|##########| 421/421 [00:12<00:00, 34.96it/s]\n",
      "synth_matrix: 100%|##########| 421/421 [00:01<00:00, 277.70it/s]\n",
      "r_index: 100%|##########| 369/369 [00:00<00:00, 2233.21it/s]\n"
     ]
    },
    {
     "name": "stdout",
     "output_type": "stream",
     "text": [
      "0.7555555555555555\n"
     ]
    },
    {
     "name": "stderr",
     "output_type": "stream",
     "text": [
      "dist_matrix: 100%|##########| 421/421 [00:11<00:00, 36.03it/s]\n",
      "synth_matrix: 100%|##########| 421/421 [00:01<00:00, 289.88it/s]\n",
      "r_index: 100%|##########| 369/369 [00:00<00:00, 2953.63it/s]\n"
     ]
    },
    {
     "name": "stdout",
     "output_type": "stream",
     "text": [
      "0.7833333333333333\n"
     ]
    },
    {
     "name": "stderr",
     "output_type": "stream",
     "text": [
      "dist_matrix: 100%|##########| 369/369 [00:08<00:00, 41.48it/s]\n",
      "synth_matrix: 100%|##########| 369/369 [00:01<00:00, 243.50it/s]\n",
      "r_index: 100%|##########| 203/203 [00:00<00:00, 2999.76it/s]\n"
     ]
    },
    {
     "name": "stdout",
     "output_type": "stream",
     "text": [
      "0.7833333333333333\n"
     ]
    },
    {
     "name": "stderr",
     "output_type": "stream",
     "text": [
      "dist_matrix: 100%|##########| 369/369 [00:08<00:00, 41.52it/s]\n",
      "synth_matrix: 100%|##########| 369/369 [00:01<00:00, 238.80it/s]\n",
      "r_index: 100%|##########| 203/203 [00:00<00:00, 2922.50it/s]\n"
     ]
    },
    {
     "name": "stdout",
     "output_type": "stream",
     "text": [
      "0.8111111111111111\n"
     ]
    },
    {
     "name": "stderr",
     "output_type": "stream",
     "text": [
      "dist_matrix: 100%|##########| 369/369 [00:08<00:00, 41.32it/s]\n",
      "synth_matrix: 100%|##########| 369/369 [00:01<00:00, 240.49it/s]\n",
      "r_index: 100%|##########| 203/203 [00:00<00:00, 2952.48it/s]\n"
     ]
    },
    {
     "name": "stdout",
     "output_type": "stream",
     "text": [
      "0.8111111111111111\n"
     ]
    },
    {
     "name": "stderr",
     "output_type": "stream",
     "text": [
      "dist_matrix: 100%|##########| 369/369 [00:08<00:00, 41.57it/s]\n",
      "synth_matrix: 100%|##########| 369/369 [00:01<00:00, 240.16it/s]\n",
      "r_index: 100%|##########| 203/203 [00:00<00:00, 2888.13it/s]\n"
     ]
    },
    {
     "name": "stdout",
     "output_type": "stream",
     "text": [
      "0.8388888888888888\n"
     ]
    },
    {
     "name": "stderr",
     "output_type": "stream",
     "text": [
      "dist_matrix: 100%|##########| 315/315 [00:06<00:00, 48.31it/s]\n",
      "synth_matrix: 100%|##########| 315/315 [00:01<00:00, 197.67it/s]\n",
      "r_index: 100%|##########| 275/275 [00:00<00:00, 2913.48it/s]\n"
     ]
    },
    {
     "name": "stdout",
     "output_type": "stream",
     "text": [
      "0.8388888888888888\n"
     ]
    },
    {
     "name": "stderr",
     "output_type": "stream",
     "text": [
      "dist_matrix: 100%|##########| 315/315 [00:06<00:00, 47.99it/s]\n",
      "synth_matrix: 100%|##########| 315/315 [00:01<00:00, 199.10it/s]\n",
      "r_index: 100%|##########| 275/275 [00:00<00:00, 2866.29it/s]\n"
     ]
    },
    {
     "name": "stdout",
     "output_type": "stream",
     "text": [
      "0.8666666666666666\n"
     ]
    },
    {
     "name": "stderr",
     "output_type": "stream",
     "text": [
      "dist_matrix: 100%|##########| 315/315 [00:06<00:00, 48.76it/s]\n",
      "synth_matrix: 100%|##########| 315/315 [00:01<00:00, 200.01it/s]\n",
      "r_index: 100%|##########| 275/275 [00:00<00:00, 2958.80it/s]\n"
     ]
    },
    {
     "name": "stdout",
     "output_type": "stream",
     "text": [
      "0.8666666666666666\n"
     ]
    },
    {
     "name": "stderr",
     "output_type": "stream",
     "text": [
      "dist_matrix: 100%|##########| 315/315 [00:06<00:00, 47.86it/s]\n",
      "synth_matrix: 100%|##########| 315/315 [00:01<00:00, 205.56it/s]\n",
      "r_index: 100%|##########| 275/275 [00:00<00:00, 2886.60it/s]\n"
     ]
    },
    {
     "name": "stdout",
     "output_type": "stream",
     "text": [
      "0.8944444444444444\n"
     ]
    },
    {
     "name": "stderr",
     "output_type": "stream",
     "text": [
      "dist_matrix: 100%|##########| 273/273 [00:04<00:00, 55.63it/s]\n",
      "synth_matrix: 100%|##########| 273/273 [00:01<00:00, 169.29it/s]\n",
      "r_index: 100%|##########| 85/85 [00:00<00:00, 2880.38it/s]\n"
     ]
    },
    {
     "name": "stdout",
     "output_type": "stream",
     "text": [
      "0.8944444444444444\n"
     ]
    },
    {
     "name": "stderr",
     "output_type": "stream",
     "text": [
      "dist_matrix: 100%|##########| 273/273 [00:04<00:00, 55.74it/s]\n",
      "synth_matrix: 100%|##########| 273/273 [00:01<00:00, 168.10it/s]\n",
      "r_index: 100%|##########| 85/85 [00:00<00:00, 2800.11it/s]\n"
     ]
    },
    {
     "name": "stdout",
     "output_type": "stream",
     "text": [
      "0.9222222222222222\n"
     ]
    },
    {
     "name": "stderr",
     "output_type": "stream",
     "text": [
      "dist_matrix: 100%|##########| 241/241 [00:03<00:00, 62.18it/s]\n",
      "synth_matrix: 100%|##########| 241/241 [00:01<00:00, 150.74it/s]\n",
      "r_index: 100%|##########| 180/180 [00:00<00:00, 2889.58it/s]\n"
     ]
    },
    {
     "name": "stdout",
     "output_type": "stream",
     "text": [
      "0.9222222222222222\n"
     ]
    },
    {
     "name": "stderr",
     "output_type": "stream",
     "text": [
      "dist_matrix: 100%|##########| 241/241 [00:03<00:00, 61.67it/s]\n",
      "synth_matrix: 100%|##########| 241/241 [00:01<00:00, 151.09it/s]\n",
      "r_index: 100%|##########| 180/180 [00:00<00:00, 2866.73it/s]\n"
     ]
    },
    {
     "name": "stdout",
     "output_type": "stream",
     "text": [
      "0.95\n"
     ]
    },
    {
     "name": "stderr",
     "output_type": "stream",
     "text": [
      "dist_matrix: 100%|##########| 241/241 [00:03<00:00, 62.44it/s]\n",
      "synth_matrix: 100%|##########| 241/241 [00:01<00:00, 151.14it/s]\n",
      "r_index: 100%|##########| 180/180 [00:00<00:00, 2865.32it/s]\n"
     ]
    },
    {
     "name": "stdout",
     "output_type": "stream",
     "text": [
      "0.95\n"
     ]
    },
    {
     "name": "stderr",
     "output_type": "stream",
     "text": [
      "dist_matrix: 100%|##########| 241/241 [00:03<00:00, 62.67it/s]\n",
      "synth_matrix: 100%|##########| 241/241 [00:01<00:00, 147.18it/s]\n",
      "r_index: 100%|##########| 180/180 [00:00<00:00, 2893.93it/s]\n",
      "/Library/Frameworks/Python.framework/Versions/3.11/lib/python3.11/site-packages/sklearn/model_selection/_validation.py:547: FitFailedWarning: \n",
      "2 fits failed out of a total of 20.\n",
      "The score on these train-test partitions for these parameters will be set to nan.\n",
      "If these failures are not expected, you can try to debug them by setting error_score='raise'.\n",
      "\n",
      "Below are more details about the failures:\n",
      "--------------------------------------------------------------------------------\n",
      "2 fits failed with the following error:\n",
      "Traceback (most recent call last):\n",
      "  File \"/Library/Frameworks/Python.framework/Versions/3.11/lib/python3.11/site-packages/sklearn/model_selection/_validation.py\", line 895, in _fit_and_score\n",
      "    estimator.fit(X_train, y_train, **fit_params)\n",
      "  File \"/var/folders/fz/fh5c1mt952s8gfzlg27lyp9c0000gn/T/ipykernel_47073/2041005503.py\", line 32, in fit\n",
      "    X_res, y_res = apply_smogn(self.rel_coeff)\n",
      "                   ^^^^^^^^^^^^^^^^^^^^^^^^^^^\n",
      "  File \"/var/folders/fz/fh5c1mt952s8gfzlg27lyp9c0000gn/T/ipykernel_47073/2041005503.py\", line 9, in apply_smogn\n",
      "    df_smogn = smogn.smoter(\n",
      "               ^^^^^^^^^^^^^\n",
      "  File \"/Library/Frameworks/Python.framework/Versions/3.11/lib/python3.11/site-packages/smogn/smoter.py\", line 240, in smoter\n",
      "    synth_obs = over_sampling(\n",
      "                ^^^^^^^^^^^^^^\n",
      "  File \"/Library/Frameworks/Python.framework/Versions/3.11/lib/python3.11/site-packages/smogn/over_sampling.py\", line 431, in over_sampling\n",
      "    raise ValueError(\"oops! synthetic data contains missing values\")\n",
      "ValueError: oops! synthetic data contains missing values\n",
      "\n",
      "  warnings.warn(some_fits_failed_message, FitFailedWarning)\n",
      "/Library/Frameworks/Python.framework/Versions/3.11/lib/python3.11/site-packages/sklearn/model_selection/_search.py:1051: UserWarning: One or more of the test scores are non-finite: [-0.79870242         nan         nan -0.86708702 -0.87519185 -0.86054607\n",
      " -0.87556896 -0.92470323 -0.93912819 -0.95166584]\n",
      "  warnings.warn(\n"
     ]
    },
    {
     "name": "stdout",
     "output_type": "stream",
     "text": [
      "0.7\n"
     ]
    },
    {
     "name": "stderr",
     "output_type": "stream",
     "text": [
      "dist_matrix: 100%|##########| 490/490 [00:15<00:00, 31.32it/s]\n",
      "synth_matrix: 100%|##########| 490/490 [00:01<00:00, 317.09it/s]\n",
      "r_index: 100%|##########| 99/99 [00:00<00:00, 2876.75it/s]\n"
     ]
    },
    {
     "name": "stdout",
     "output_type": "stream",
     "text": [
      "Best Parameters: {'rel_coeff': 0.7}\n",
      "Best Score: -0.7987024157369802\n"
     ]
    }
   ],
   "source": [
    "import smogn\n",
    "from sklearn.linear_model import LinearRegression\n",
    "from sklearn.model_selection import GridSearchCV\n",
    "from sklearn.base import BaseEstimator, RegressorMixin\n",
    "from sklearn.metrics import mean_squared_error\n",
    "\n",
    "# Make a function to apply SMOGN sampling with rel_coeff as a parameter\n",
    "def apply_smogn(rel_coeff):\n",
    "    df_smogn = smogn.smoter(\n",
    "        ## main arguments\n",
    "        data = regression_training_sampled,         ## pandas dataframe\n",
    "        y = 'Track Popularity',   ## string ('header name')\n",
    "        k = 9,                    ## positive integer (k < n)\n",
    "        samp_method = 'balance',  ## string ('balance' or 'extreme')\n",
    "\n",
    "        ## phi relevance arguments\n",
    "        rel_thres = 1,         ## fixed at 1 to keep it computationally feasible\n",
    "        rel_method = 'auto',      ## string ('auto' or 'manual')\n",
    "        rel_xtrm_type = 'high',   ## string ('low' or 'both' or 'high')\n",
    "        rel_coef = rel_coeff         ## positive real number (0 < R)\n",
    "    )\n",
    "    return df_smogn.drop('Track Popularity', axis=1), df_smogn['Track Popularity']\n",
    "\n",
    "# Define the custom model class\n",
    "class SMOGNRandomLinearRegressor(BaseEstimator, RegressorMixin):\n",
    "    def __init__(self, rel_coeff=0.5, **kwargs):\n",
    "        self.rel_coeff = rel_coeff\n",
    "        self.model = LinearRegression(**kwargs)\n",
    "    \n",
    "    def fit(self, X, y):\n",
    "        print(self.rel_coeff)\n",
    "        X_res, y_res = apply_smogn(self.rel_coeff)\n",
    "        self.model.fit(X_res, y_res)\n",
    "        return self\n",
    "\n",
    "    def predict(self, X):\n",
    "        return self.model.predict(X)\n",
    "\n",
    "# Specify the distribution for the rel_coeff parameter to be tried out\n",
    "param_distributions = {\n",
    "    'rel_coeff': np.linspace(0.7, 0.95, 10)\n",
    "}\n",
    "\n",
    "# Make an instance of the custom model\n",
    "custom_model = SMOGNRandomLinearRegressor() \n",
    "\n",
    "# Set up GridSearchCV\n",
    "grid_search = GridSearchCV(estimator=custom_model, param_grid=param_distributions, scoring='r2', cv=2)\n",
    "\n",
    "# Fit grid search\n",
    "grid_search.fit(regression_test_sampled[predictors], regression_test_sampled[\"Track Popularity\"]) \n",
    "\n",
    "# Print the best parameters and the score associated with it\n",
    "print(\"Best Parameters:\", grid_search.best_params_)\n",
    "print(\"Best Score:\", grid_search.best_score_)  # Negative score because we use negative MSE (lower MSE is better)"
   ]
  },
  {
   "cell_type": "code",
   "execution_count": null,
   "metadata": {},
   "outputs": [],
   "source": [
    "\"\"\"\n",
    "DO NOT RUN THIS CELL. SKIP THIS CELL.\n",
    "This cell generates the smogn_dataset.csv file but takes almost an hour to run.\n",
    "\"\"\"\n",
    "\n",
    "# Oversample the training dataset using SMOGN\n",
    "# df_smogn = smogn.smoter(\n",
    "    \n",
    "#     ## main arguments\n",
    "#     data = regression_training, \n",
    "#     y = 'Track Popularity',   \n",
    "#     k = 9,                   \n",
    "#     samp_method = 'balance',  \n",
    "\n",
    "#     ## phi relevance arguments\n",
    "#     rel_thres = 1,     \n",
    "#     rel_method = 'auto',    \n",
    "#     rel_xtrm_type = 'high', \n",
    "#     rel_coef = grid_search.best_params_['rel_coeff']  # Using the best parameter from the GridSearchCV\n",
    "# )\n",
    "\n",
    "# Save to csv\n",
    "# df_smogn.to_csv(\"smogn.csv\")"
   ]
  },
  {
   "cell_type": "code",
   "execution_count": 14,
   "metadata": {},
   "outputs": [],
   "source": [
    "# Import from csv so you don't have to run the code above\n",
    "df_smogn = pd.read_csv(\"datasets/smogn.csv\")"
   ]
  },
  {
   "cell_type": "code",
   "execution_count": 15,
   "metadata": {},
   "outputs": [],
   "source": [
    "# Delete data points with track popularity greater than 100 or lower than 0\n",
    "# As popularity score is between 0 and 100\n",
    "df_smogn = df_smogn[df_smogn['Track Popularity'] <= 100]\n",
    "df_smogn = df_smogn[df_smogn['Track Popularity'] >= 0]"
   ]
  },
  {
   "cell_type": "code",
   "execution_count": 17,
   "metadata": {},
   "outputs": [],
   "source": [
    "df_smogn.to_csv(\"datasets/smogn.csv\")\n",
    "regression_training.to_csv(\"datasets/regression_training.csv\")\n",
    "regression_test.to_csv(\"datasets/regression_test.csv\")"
   ]
  },
  {
   "cell_type": "markdown",
   "metadata": {},
   "source": [
    "## **Visualisation of Resampled Data as a Regression Problem**"
   ]
  },
  {
   "cell_type": "code",
   "execution_count": 18,
   "metadata": {},
   "outputs": [
    {
     "data": {
      "image/png": "[encoded data removed]",
      "text/plain": [
       "<Figure size 640x480 with 1 Axes>"
      ]
     },
     "metadata": {},
     "output_type": "display_data"
    }
   ],
   "source": [
    "## Compare track popularity distribution before and after sampling using SMOGN\n",
    "sb.kdeplot(regression_training['Track Popularity'], label = \"Original\")\n",
    "sb.kdeplot(df_smogn['Track Popularity'], label = \"Modified\")\n",
    "plt.legend()\n",
    "plt.show()"
   ]
  },
  {
   "cell_type": "markdown",
   "metadata": {},
   "source": [
    "#### **Conclusions**"
   ]
  },
  {
   "cell_type": "markdown",
   "metadata": {},
   "source": [
    "SMOGN <u>over-sampled \"minority\" observations</u> and <u>under-sampled \"majority\" observations</u> in a continuous response variable according to the box plot. In this case, the minority are Spotify tracks with high popularity (of around 60-80), and the majority are Spotify tracks with low popularity (of around 0-60).\n",
    "\n",
    "As such, the modified SMOGN dataset increases the amount of tracks with high popularity and decreases the amount of tracks with low popularity, as seen in the above kde plot.\n",
    "\n",
    "Overall, there will be a more even number of data points with high popularity and low popularity, which allows regression models to be less biased towards predicting not-popular songs."
   ]
  },
  {
   "cell_type": "markdown",
   "metadata": {},
   "source": [
    "---"
   ]
  },
  {
   "cell_type": "markdown",
   "metadata": {},
   "source": [
    "## **Section 2: Classification Sampling Methods**"
   ]
  },
  {
   "cell_type": "markdown",
   "metadata": {},
   "source": [
    "### **Converting Regression Problem into Classification Problem**\n",
    "We decided to convert the regression problem into a classification problem as well to determine which can produce a better score.\n",
    "> Track Popularity scores >50 were taken to be popular songs, while scores ≤50 are taken to be not-popular."
   ]
  },
  {
   "cell_type": "code",
   "execution_count": 19,
   "metadata": {},
   "outputs": [],
   "source": [
    "threshold = 50\n",
    "df['Track Popularity Cat'] = df['Track Popularity'].apply(lambda x: 1 if x > threshold else 0)"
   ]
  },
  {
   "cell_type": "code",
   "execution_count": 20,
   "metadata": {},
   "outputs": [],
   "source": [
    "# Export converted classification problem to csv file\n",
    "df.to_csv(\"datasets/df_classification.csv\")"
   ]
  },
  {
   "cell_type": "code",
   "execution_count": 21,
   "metadata": {},
   "outputs": [
    {
     "name": "stdout",
     "output_type": "stream",
     "text": [
      "Distribution of popular and not-popular tracks in original dataset\n"
     ]
    },
    {
     "data": {
      "text/plain": [
       "Track Popularity Cat\n",
       "0    0.768935\n",
       "1    0.231065\n",
       "Name: proportion, dtype: float64"
      ]
     },
     "execution_count": 21,
     "metadata": {},
     "output_type": "execute_result"
    }
   ],
   "source": [
    "print(\"Distribution of popular and not-popular tracks in original dataset\")\n",
    "df['Track Popularity Cat'].value_counts(normalize = True)"
   ]
  },
  {
   "cell_type": "markdown",
   "metadata": {},
   "source": [
    "There are significantly more not-popular tracks as compared to popular tracks (78% vs 22%). As such, the models trained on the original dataset will struggle with predicting popular songs as compared to not-popular songs. \n",
    "\n",
    "Let's try to balance out the ratio between not-popular and popular tracks using various sampling methods aimed for classification."
   ]
  },
  {
   "cell_type": "code",
   "execution_count": 22,
   "metadata": {},
   "outputs": [],
   "source": [
    "# Form training data\n",
    "predictors = [\"Danceability\", \"Energy\", \"Loudness\", \"Speechiness\", \"Acousticness\",\n",
    "              \"Instrumentalness\", \"Liveness\", \"Valence\", \"Tempo\"]\n",
    "track_pop_cat= pd.DataFrame(df['Track Popularity Cat'])   # Response\n",
    "voice_analysis = pd.DataFrame(df[predictors]) # Predictor\n",
    "\n",
    "# Train-test Split\n",
    "X_train, X_test, y_train, y_test = train_test_split(voice_analysis, track_pop_cat, test_size = 0.25, random_state=10)"
   ]
  },
  {
   "cell_type": "markdown",
   "metadata": {},
   "source": [
    "#### <u>**Random Over Sampling**</u>"
   ]
  },
  {
   "cell_type": "code",
   "execution_count": 23,
   "metadata": {},
   "outputs": [
    {
     "name": "stdout",
     "output_type": "stream",
     "text": [
      "Not-popular vs popular tracks in the training dataset\n",
      "104169 : 104169\n"
     ]
    }
   ],
   "source": [
    "from imblearn.over_sampling import RandomOverSampler\n",
    "\n",
    "ros = RandomOverSampler(random_state=101)\n",
    "X_train_ros, y_train_ros= ros.fit_resample(X_train, y_train)\n",
    "\n",
    "# Check the number of records after over sampling\n",
    "print(\"Not-popular vs popular tracks in the training dataset\")\n",
    "print(y_train_ros.value_counts()[0], ':', y_train_ros.value_counts()[1])"
   ]
  },
  {
   "cell_type": "code",
   "execution_count": 24,
   "metadata": {},
   "outputs": [
    {
     "data": {
      "text/html": [
       "<div>\n",
       "<style scoped>\n",
       "    .dataframe tbody tr th:only-of-type {\n",
       "        vertical-align: middle;\n",
       "    }\n",
       "\n",
       "    .dataframe tbody tr th {\n",
       "        vertical-align: top;\n",
       "    }\n",
       "\n",
       "    .dataframe thead th {\n",
       "        text-align: right;\n",
       "    }\n",
       "</style>\n",
       "<table border=\"1\" class=\"dataframe\">\n",
       "  <thead>\n",
       "    <tr style=\"text-align: right;\">\n",
       "      <th></th>\n",
       "      <th>Danceability</th>\n",
       "      <th>Energy</th>\n",
       "      <th>Loudness</th>\n",
       "      <th>Speechiness</th>\n",
       "      <th>Acousticness</th>\n",
       "      <th>Instrumentalness</th>\n",
       "      <th>Liveness</th>\n",
       "      <th>Valence</th>\n",
       "      <th>Tempo</th>\n",
       "      <th>Track Popularity Cat</th>\n",
       "    </tr>\n",
       "  </thead>\n",
       "  <tbody>\n",
       "    <tr>\n",
       "      <th>0</th>\n",
       "      <td>0.533</td>\n",
       "      <td>0.846</td>\n",
       "      <td>-6.879</td>\n",
       "      <td>0.1480</td>\n",
       "      <td>0.0121</td>\n",
       "      <td>0.0000</td>\n",
       "      <td>0.233</td>\n",
       "      <td>0.6470</td>\n",
       "      <td>90.282</td>\n",
       "      <td>0</td>\n",
       "    </tr>\n",
       "    <tr>\n",
       "      <th>1</th>\n",
       "      <td>0.298</td>\n",
       "      <td>0.837</td>\n",
       "      <td>-6.095</td>\n",
       "      <td>0.0827</td>\n",
       "      <td>0.0337</td>\n",
       "      <td>0.0875</td>\n",
       "      <td>0.121</td>\n",
       "      <td>0.1850</td>\n",
       "      <td>193.955</td>\n",
       "      <td>0</td>\n",
       "    </tr>\n",
       "    <tr>\n",
       "      <th>2</th>\n",
       "      <td>0.377</td>\n",
       "      <td>0.165</td>\n",
       "      <td>-16.337</td>\n",
       "      <td>0.0381</td>\n",
       "      <td>0.9840</td>\n",
       "      <td>0.7610</td>\n",
       "      <td>0.107</td>\n",
       "      <td>0.5400</td>\n",
       "      <td>134.589</td>\n",
       "      <td>0</td>\n",
       "    </tr>\n",
       "    <tr>\n",
       "      <th>3</th>\n",
       "      <td>0.155</td>\n",
       "      <td>0.197</td>\n",
       "      <td>-20.624</td>\n",
       "      <td>0.0376</td>\n",
       "      <td>0.8920</td>\n",
       "      <td>0.8500</td>\n",
       "      <td>0.248</td>\n",
       "      <td>0.0362</td>\n",
       "      <td>83.302</td>\n",
       "      <td>0</td>\n",
       "    </tr>\n",
       "    <tr>\n",
       "      <th>4</th>\n",
       "      <td>0.677</td>\n",
       "      <td>0.264</td>\n",
       "      <td>-13.994</td>\n",
       "      <td>0.0426</td>\n",
       "      <td>0.8000</td>\n",
       "      <td>0.0000</td>\n",
       "      <td>0.119</td>\n",
       "      <td>0.9210</td>\n",
       "      <td>143.029</td>\n",
       "      <td>0</td>\n",
       "    </tr>\n",
       "  </tbody>\n",
       "</table>\n",
       "</div>"
      ],
      "text/plain": [
       "   Danceability  Energy  Loudness  Speechiness  Acousticness  \\\n",
       "0         0.533   0.846    -6.879       0.1480        0.0121   \n",
       "1         0.298   0.837    -6.095       0.0827        0.0337   \n",
       "2         0.377   0.165   -16.337       0.0381        0.9840   \n",
       "3         0.155   0.197   -20.624       0.0376        0.8920   \n",
       "4         0.677   0.264   -13.994       0.0426        0.8000   \n",
       "\n",
       "   Instrumentalness  Liveness  Valence    Tempo  Track Popularity Cat  \n",
       "0            0.0000     0.233   0.6470   90.282                     0  \n",
       "1            0.0875     0.121   0.1850  193.955                     0  \n",
       "2            0.7610     0.107   0.5400  134.589                     0  \n",
       "3            0.8500     0.248   0.0362   83.302                     0  \n",
       "4            0.0000     0.119   0.9210  143.029                     0  "
      ]
     },
     "execution_count": 24,
     "metadata": {},
     "output_type": "execute_result"
    }
   ],
   "source": [
    "rdmover = pd.concat([X_train_ros, y_train_ros], axis=1)\n",
    "rdmover.head()"
   ]
  },
  {
   "cell_type": "code",
   "execution_count": 25,
   "metadata": {},
   "outputs": [],
   "source": [
    "# Write random oversampling dataframe to a CSV file\n",
    "rdmover.to_csv('datasets/rdmover.csv')"
   ]
  },
  {
   "cell_type": "markdown",
   "metadata": {},
   "source": [
    "#### <u>**Synthetic Minority Oversampling Technique (SMOTE)**</u>"
   ]
  },
  {
   "cell_type": "code",
   "execution_count": 26,
   "metadata": {},
   "outputs": [
    {
     "name": "stdout",
     "output_type": "stream",
     "text": [
      "Not-popular vs popular tracks in the training dataset\n",
      "104169 : 104169\n"
     ]
    }
   ],
   "source": [
    "from imblearn.over_sampling import SMOTE\n",
    "\n",
    "# Randomly over sample the minority class\n",
    "smote = SMOTE(random_state=42)\n",
    "X_train_smote, y_train_smote= smote.fit_resample(X_train, y_train)\n",
    "\n",
    "# Check the number of records after over sampling\n",
    "print(\"Not-popular vs popular tracks in the training dataset\")\n",
    "print(y_train_smote.value_counts()[0], ':', y_train_smote.value_counts()[1])"
   ]
  },
  {
   "cell_type": "code",
   "execution_count": 27,
   "metadata": {},
   "outputs": [
    {
     "data": {
      "text/html": [
       "<div>\n",
       "<style scoped>\n",
       "    .dataframe tbody tr th:only-of-type {\n",
       "        vertical-align: middle;\n",
       "    }\n",
       "\n",
       "    .dataframe tbody tr th {\n",
       "        vertical-align: top;\n",
       "    }\n",
       "\n",
       "    .dataframe thead th {\n",
       "        text-align: right;\n",
       "    }\n",
       "</style>\n",
       "<table border=\"1\" class=\"dataframe\">\n",
       "  <thead>\n",
       "    <tr style=\"text-align: right;\">\n",
       "      <th></th>\n",
       "      <th>Danceability</th>\n",
       "      <th>Energy</th>\n",
       "      <th>Loudness</th>\n",
       "      <th>Speechiness</th>\n",
       "      <th>Acousticness</th>\n",
       "      <th>Instrumentalness</th>\n",
       "      <th>Liveness</th>\n",
       "      <th>Valence</th>\n",
       "      <th>Tempo</th>\n",
       "      <th>Track Popularity Cat</th>\n",
       "    </tr>\n",
       "  </thead>\n",
       "  <tbody>\n",
       "    <tr>\n",
       "      <th>0</th>\n",
       "      <td>0.533</td>\n",
       "      <td>0.846</td>\n",
       "      <td>-6.879</td>\n",
       "      <td>0.1480</td>\n",
       "      <td>0.0121</td>\n",
       "      <td>0.0000</td>\n",
       "      <td>0.233</td>\n",
       "      <td>0.6470</td>\n",
       "      <td>90.282</td>\n",
       "      <td>0</td>\n",
       "    </tr>\n",
       "    <tr>\n",
       "      <th>1</th>\n",
       "      <td>0.298</td>\n",
       "      <td>0.837</td>\n",
       "      <td>-6.095</td>\n",
       "      <td>0.0827</td>\n",
       "      <td>0.0337</td>\n",
       "      <td>0.0875</td>\n",
       "      <td>0.121</td>\n",
       "      <td>0.1850</td>\n",
       "      <td>193.955</td>\n",
       "      <td>0</td>\n",
       "    </tr>\n",
       "    <tr>\n",
       "      <th>2</th>\n",
       "      <td>0.377</td>\n",
       "      <td>0.165</td>\n",
       "      <td>-16.337</td>\n",
       "      <td>0.0381</td>\n",
       "      <td>0.9840</td>\n",
       "      <td>0.7610</td>\n",
       "      <td>0.107</td>\n",
       "      <td>0.5400</td>\n",
       "      <td>134.589</td>\n",
       "      <td>0</td>\n",
       "    </tr>\n",
       "    <tr>\n",
       "      <th>3</th>\n",
       "      <td>0.155</td>\n",
       "      <td>0.197</td>\n",
       "      <td>-20.624</td>\n",
       "      <td>0.0376</td>\n",
       "      <td>0.8920</td>\n",
       "      <td>0.8500</td>\n",
       "      <td>0.248</td>\n",
       "      <td>0.0362</td>\n",
       "      <td>83.302</td>\n",
       "      <td>0</td>\n",
       "    </tr>\n",
       "    <tr>\n",
       "      <th>4</th>\n",
       "      <td>0.677</td>\n",
       "      <td>0.264</td>\n",
       "      <td>-13.994</td>\n",
       "      <td>0.0426</td>\n",
       "      <td>0.8000</td>\n",
       "      <td>0.0000</td>\n",
       "      <td>0.119</td>\n",
       "      <td>0.9210</td>\n",
       "      <td>143.029</td>\n",
       "      <td>0</td>\n",
       "    </tr>\n",
       "  </tbody>\n",
       "</table>\n",
       "</div>"
      ],
      "text/plain": [
       "   Danceability  Energy  Loudness  Speechiness  Acousticness  \\\n",
       "0         0.533   0.846    -6.879       0.1480        0.0121   \n",
       "1         0.298   0.837    -6.095       0.0827        0.0337   \n",
       "2         0.377   0.165   -16.337       0.0381        0.9840   \n",
       "3         0.155   0.197   -20.624       0.0376        0.8920   \n",
       "4         0.677   0.264   -13.994       0.0426        0.8000   \n",
       "\n",
       "   Instrumentalness  Liveness  Valence    Tempo  Track Popularity Cat  \n",
       "0            0.0000     0.233   0.6470   90.282                     0  \n",
       "1            0.0875     0.121   0.1850  193.955                     0  \n",
       "2            0.7610     0.107   0.5400  134.589                     0  \n",
       "3            0.8500     0.248   0.0362   83.302                     0  \n",
       "4            0.0000     0.119   0.9210  143.029                     0  "
      ]
     },
     "execution_count": 27,
     "metadata": {},
     "output_type": "execute_result"
    }
   ],
   "source": [
    "smotedf = pd.concat([X_train_smote, y_train_smote], axis=1)\n",
    "smotedf.head()"
   ]
  },
  {
   "cell_type": "code",
   "execution_count": 28,
   "metadata": {},
   "outputs": [],
   "source": [
    "# Write SMOTE dataframe to a CSV file\n",
    "smotedf.to_csv('datasets/smote.csv')"
   ]
  },
  {
   "cell_type": "markdown",
   "metadata": {},
   "source": [
    "#### <u>**Random Under Sampling**</u>"
   ]
  },
  {
   "cell_type": "code",
   "execution_count": 29,
   "metadata": {},
   "outputs": [
    {
     "name": "stdout",
     "output_type": "stream",
     "text": [
      "Not-popular vs popular tracks in the training dataset\n",
      "31491 : 31491\n"
     ]
    }
   ],
   "source": [
    "from imblearn.under_sampling import RandomUnderSampler\n",
    "\n",
    "# Randomly under sample the majority class\n",
    "rus = RandomUnderSampler(random_state=101)\n",
    "X_train_rus, y_train_rus= rus.fit_resample(X_train, y_train)\n",
    "\n",
    "# Check the number of records after under sampling\n",
    "print(\"Not-popular vs popular tracks in the training dataset\")\n",
    "print(y_train_rus.value_counts()[0], ':', y_train_rus.value_counts()[1])"
   ]
  },
  {
   "cell_type": "code",
   "execution_count": 30,
   "metadata": {},
   "outputs": [
    {
     "data": {
      "text/html": [
       "<div>\n",
       "<style scoped>\n",
       "    .dataframe tbody tr th:only-of-type {\n",
       "        vertical-align: middle;\n",
       "    }\n",
       "\n",
       "    .dataframe tbody tr th {\n",
       "        vertical-align: top;\n",
       "    }\n",
       "\n",
       "    .dataframe thead th {\n",
       "        text-align: right;\n",
       "    }\n",
       "</style>\n",
       "<table border=\"1\" class=\"dataframe\">\n",
       "  <thead>\n",
       "    <tr style=\"text-align: right;\">\n",
       "      <th></th>\n",
       "      <th>Danceability</th>\n",
       "      <th>Energy</th>\n",
       "      <th>Loudness</th>\n",
       "      <th>Speechiness</th>\n",
       "      <th>Acousticness</th>\n",
       "      <th>Instrumentalness</th>\n",
       "      <th>Liveness</th>\n",
       "      <th>Valence</th>\n",
       "      <th>Tempo</th>\n",
       "      <th>Track Popularity Cat</th>\n",
       "    </tr>\n",
       "  </thead>\n",
       "  <tbody>\n",
       "    <tr>\n",
       "      <th>103527</th>\n",
       "      <td>0.314</td>\n",
       "      <td>0.2340</td>\n",
       "      <td>-12.083</td>\n",
       "      <td>0.0499</td>\n",
       "      <td>0.988</td>\n",
       "      <td>0.0942</td>\n",
       "      <td>0.1050</td>\n",
       "      <td>0.0392</td>\n",
       "      <td>77.483</td>\n",
       "      <td>0</td>\n",
       "    </tr>\n",
       "    <tr>\n",
       "      <th>51284</th>\n",
       "      <td>0.539</td>\n",
       "      <td>0.0852</td>\n",
       "      <td>-19.596</td>\n",
       "      <td>0.0545</td>\n",
       "      <td>0.978</td>\n",
       "      <td>0.9340</td>\n",
       "      <td>0.1310</td>\n",
       "      <td>0.1660</td>\n",
       "      <td>70.147</td>\n",
       "      <td>0</td>\n",
       "    </tr>\n",
       "    <tr>\n",
       "      <th>102130</th>\n",
       "      <td>0.394</td>\n",
       "      <td>0.0251</td>\n",
       "      <td>-31.000</td>\n",
       "      <td>0.0394</td>\n",
       "      <td>0.993</td>\n",
       "      <td>0.9090</td>\n",
       "      <td>0.0910</td>\n",
       "      <td>0.1720</td>\n",
       "      <td>69.085</td>\n",
       "      <td>0</td>\n",
       "    </tr>\n",
       "    <tr>\n",
       "      <th>52258</th>\n",
       "      <td>0.789</td>\n",
       "      <td>0.6530</td>\n",
       "      <td>-10.073</td>\n",
       "      <td>0.0742</td>\n",
       "      <td>0.570</td>\n",
       "      <td>0.7740</td>\n",
       "      <td>0.0653</td>\n",
       "      <td>0.9510</td>\n",
       "      <td>120.747</td>\n",
       "      <td>0</td>\n",
       "    </tr>\n",
       "    <tr>\n",
       "      <th>156104</th>\n",
       "      <td>0.700</td>\n",
       "      <td>0.3430</td>\n",
       "      <td>-14.702</td>\n",
       "      <td>0.0928</td>\n",
       "      <td>0.984</td>\n",
       "      <td>0.3910</td>\n",
       "      <td>0.1340</td>\n",
       "      <td>0.7600</td>\n",
       "      <td>154.592</td>\n",
       "      <td>0</td>\n",
       "    </tr>\n",
       "  </tbody>\n",
       "</table>\n",
       "</div>"
      ],
      "text/plain": [
       "        Danceability  Energy  Loudness  Speechiness  Acousticness  \\\n",
       "103527         0.314  0.2340   -12.083       0.0499         0.988   \n",
       "51284          0.539  0.0852   -19.596       0.0545         0.978   \n",
       "102130         0.394  0.0251   -31.000       0.0394         0.993   \n",
       "52258          0.789  0.6530   -10.073       0.0742         0.570   \n",
       "156104         0.700  0.3430   -14.702       0.0928         0.984   \n",
       "\n",
       "        Instrumentalness  Liveness  Valence    Tempo  Track Popularity Cat  \n",
       "103527            0.0942    0.1050   0.0392   77.483                     0  \n",
       "51284             0.9340    0.1310   0.1660   70.147                     0  \n",
       "102130            0.9090    0.0910   0.1720   69.085                     0  \n",
       "52258             0.7740    0.0653   0.9510  120.747                     0  \n",
       "156104            0.3910    0.1340   0.7600  154.592                     0  "
      ]
     },
     "execution_count": 30,
     "metadata": {},
     "output_type": "execute_result"
    }
   ],
   "source": [
    "rdmunder = pd.concat([X_train_rus, y_train_rus], axis=1)\n",
    "rdmunder.head()"
   ]
  },
  {
   "cell_type": "code",
   "execution_count": 31,
   "metadata": {},
   "outputs": [],
   "source": [
    "# Write random undersampling dataframe to a CSV file\n",
    "rdmunder.to_csv('datasets/rdmunder.csv')"
   ]
  },
  {
   "cell_type": "markdown",
   "metadata": {},
   "source": [
    "#### <u>**NearMiss**</u>"
   ]
  },
  {
   "cell_type": "code",
   "execution_count": 32,
   "metadata": {},
   "outputs": [
    {
     "name": "stdout",
     "output_type": "stream",
     "text": [
      "Not-popular vs popular tracks in the training dataset\n",
      "31491 : 31491\n"
     ]
    }
   ],
   "source": [
    "from imblearn.under_sampling import NearMiss\n",
    "\n",
    "# Under sample the majority class\n",
    "nearmiss = NearMiss(version=3)\n",
    "X_train_nearmiss, y_train_nearmiss= nearmiss.fit_resample(X_train, y_train)\n",
    "\n",
    "# Check the number of records after over sampling\n",
    "print(\"Not-popular vs popular tracks in the training dataset\")\n",
    "print(y_train_rus.value_counts()[0], ':', y_train_rus.value_counts()[1])"
   ]
  },
  {
   "cell_type": "code",
   "execution_count": 33,
   "metadata": {},
   "outputs": [
    {
     "data": {
      "text/html": [
       "<div>\n",
       "<style scoped>\n",
       "    .dataframe tbody tr th:only-of-type {\n",
       "        vertical-align: middle;\n",
       "    }\n",
       "\n",
       "    .dataframe tbody tr th {\n",
       "        vertical-align: top;\n",
       "    }\n",
       "\n",
       "    .dataframe thead th {\n",
       "        text-align: right;\n",
       "    }\n",
       "</style>\n",
       "<table border=\"1\" class=\"dataframe\">\n",
       "  <thead>\n",
       "    <tr style=\"text-align: right;\">\n",
       "      <th></th>\n",
       "      <th>Danceability</th>\n",
       "      <th>Energy</th>\n",
       "      <th>Loudness</th>\n",
       "      <th>Speechiness</th>\n",
       "      <th>Acousticness</th>\n",
       "      <th>Instrumentalness</th>\n",
       "      <th>Liveness</th>\n",
       "      <th>Valence</th>\n",
       "      <th>Tempo</th>\n",
       "      <th>Track Popularity Cat</th>\n",
       "    </tr>\n",
       "  </thead>\n",
       "  <tbody>\n",
       "    <tr>\n",
       "      <th>0</th>\n",
       "      <td>0.533</td>\n",
       "      <td>0.846</td>\n",
       "      <td>-6.879</td>\n",
       "      <td>0.1480</td>\n",
       "      <td>0.0121</td>\n",
       "      <td>0.0000</td>\n",
       "      <td>0.233</td>\n",
       "      <td>0.6470</td>\n",
       "      <td>90.282</td>\n",
       "      <td>0</td>\n",
       "    </tr>\n",
       "    <tr>\n",
       "      <th>1</th>\n",
       "      <td>0.298</td>\n",
       "      <td>0.837</td>\n",
       "      <td>-6.095</td>\n",
       "      <td>0.0827</td>\n",
       "      <td>0.0337</td>\n",
       "      <td>0.0875</td>\n",
       "      <td>0.121</td>\n",
       "      <td>0.1850</td>\n",
       "      <td>193.955</td>\n",
       "      <td>0</td>\n",
       "    </tr>\n",
       "    <tr>\n",
       "      <th>2</th>\n",
       "      <td>0.377</td>\n",
       "      <td>0.165</td>\n",
       "      <td>-16.337</td>\n",
       "      <td>0.0381</td>\n",
       "      <td>0.9840</td>\n",
       "      <td>0.7610</td>\n",
       "      <td>0.107</td>\n",
       "      <td>0.5400</td>\n",
       "      <td>134.589</td>\n",
       "      <td>0</td>\n",
       "    </tr>\n",
       "    <tr>\n",
       "      <th>3</th>\n",
       "      <td>0.155</td>\n",
       "      <td>0.197</td>\n",
       "      <td>-20.624</td>\n",
       "      <td>0.0376</td>\n",
       "      <td>0.8920</td>\n",
       "      <td>0.8500</td>\n",
       "      <td>0.248</td>\n",
       "      <td>0.0362</td>\n",
       "      <td>83.302</td>\n",
       "      <td>0</td>\n",
       "    </tr>\n",
       "    <tr>\n",
       "      <th>4</th>\n",
       "      <td>0.677</td>\n",
       "      <td>0.264</td>\n",
       "      <td>-13.994</td>\n",
       "      <td>0.0426</td>\n",
       "      <td>0.8000</td>\n",
       "      <td>0.0000</td>\n",
       "      <td>0.119</td>\n",
       "      <td>0.9210</td>\n",
       "      <td>143.029</td>\n",
       "      <td>0</td>\n",
       "    </tr>\n",
       "  </tbody>\n",
       "</table>\n",
       "</div>"
      ],
      "text/plain": [
       "   Danceability  Energy  Loudness  Speechiness  Acousticness  \\\n",
       "0         0.533   0.846    -6.879       0.1480        0.0121   \n",
       "1         0.298   0.837    -6.095       0.0827        0.0337   \n",
       "2         0.377   0.165   -16.337       0.0381        0.9840   \n",
       "3         0.155   0.197   -20.624       0.0376        0.8920   \n",
       "4         0.677   0.264   -13.994       0.0426        0.8000   \n",
       "\n",
       "   Instrumentalness  Liveness  Valence    Tempo  Track Popularity Cat  \n",
       "0            0.0000     0.233   0.6470   90.282                     0  \n",
       "1            0.0875     0.121   0.1850  193.955                     0  \n",
       "2            0.7610     0.107   0.5400  134.589                     0  \n",
       "3            0.8500     0.248   0.0362   83.302                     0  \n",
       "4            0.0000     0.119   0.9210  143.029                     0  "
      ]
     },
     "execution_count": 33,
     "metadata": {},
     "output_type": "execute_result"
    }
   ],
   "source": [
    "nm = pd.concat([X_train_ros, y_train_ros], axis=1)\n",
    "nm.head()"
   ]
  },
  {
   "cell_type": "code",
   "execution_count": 34,
   "metadata": {},
   "outputs": [],
   "source": [
    "# Write NearMiss sampled dataframe to a CSV file\n",
    "nm.to_csv('datasets/nearmiss.csv')"
   ]
  },
  {
   "cell_type": "markdown",
   "metadata": {},
   "source": [
    "---"
   ]
  },
  {
   "cell_type": "markdown",
   "metadata": {},
   "source": [
    "## **Visualisation of Resampled Data as a Classification Problem**"
   ]
  },
  {
   "cell_type": "code",
   "execution_count": 35,
   "metadata": {},
   "outputs": [],
   "source": [
    "# Convert original dataset into a classification problem\n",
    "df['Track Populatity Cat'] = df['Track Popularity'].apply(lambda x: 1 if x > threshold else 0)\n",
    "\n",
    "predictors = [\"Danceability\", \"Energy\", \"Loudness\", \"Speechiness\", \"Acousticness\",\n",
    "              \"Instrumentalness\", \"Liveness\", \"Valence\", \"Tempo\"]\n",
    "track_pop_cat= pd.DataFrame(df['Track Popularity Cat'])   # Response\n",
    "voice_analysis = pd.DataFrame(df[predictors]) # Predictor\n",
    "\n",
    "# Train-test Split\n",
    "X_train_og, X_test_og, y_train_og, y_test_og = train_test_split(voice_analysis, track_pop_cat, test_size = 0.25, random_state=10)\n",
    "\n",
    "originaldf = pd.concat([X_train_og, y_train_og], axis=1)"
   ]
  },
  {
   "cell_type": "code",
   "execution_count": 36,
   "metadata": {},
   "outputs": [
    {
     "data": {
      "text/plain": [
       "Text(0.5, 0, 'NearMiss')"
      ]
     },
     "execution_count": 36,
     "metadata": {},
     "output_type": "execute_result"
    },
    {
     "data": {
      "image/png": "[encoded data removed]",
      "text/plain": [
       "<Figure size 2400x1200 with 6 Axes>"
      ]
     },
     "metadata": {},
     "output_type": "display_data"
    }
   ],
   "source": [
    "\"\"\"\n",
    "originaldf : Original dataset as a classification problem\n",
    "rdmover : Random Oversampling\n",
    "smotedf : SMOTE\n",
    "rdmunder : Random Undersampling\n",
    "nm : NearMiss\n",
    "smogn_c: Using df_smogn as a classification problem\n",
    "\"\"\"\n",
    "\n",
    "f, axes = plt.subplots(2,3, figsize=(24,12))\n",
    "plt.setp(axes,ylim=(0,125000))\n",
    "\n",
    "o = sb.countplot(x=originaldf['Track Popularity Cat'], hue=originaldf['Track Popularity Cat'],\n",
    "                 ax=axes[0,0], palette=['#EF919B',\"#A0CFA2\"], legend=False)\n",
    "o.set_xlabel(\"Original\")\n",
    "ro = sb.countplot(x=rdmover['Track Popularity Cat'], hue=rdmover['Track Popularity Cat'],\n",
    "                  ax=axes[0,1], palette=['#EF919B',\"#A0CFA2\"], legend=False)\n",
    "ro.set_xlabel(\"Random Oversampling\")\n",
    "sm = sb.countplot(x=smotedf['Track Popularity Cat'], hue=smotedf['Track Popularity Cat'],\n",
    "                  ax=axes[0,2], palette=['#EF919B',\"#A0CFA2\"], legend=False)\n",
    "sm.set_xlabel(\"SMOTE\")\n",
    "ru = sb.countplot(x=rdmunder['Track Popularity Cat'], hue=rdmunder['Track Popularity Cat'],\n",
    "                  ax=axes[1,0], palette=['#EF919B',\"#A0CFA2\"], legend=False)\n",
    "ru.set_xlabel(\"Random Undersampling\")\n",
    "n = sb.countplot(x=nm['Track Popularity Cat'], hue=nm['Track Popularity Cat'],\n",
    "                 ax=axes[1,1], palette=['#EF919B',\"#A0CFA2\"], legend=False)\n",
    "n.set_xlabel(\"NearMiss\")"
   ]
  },
  {
   "cell_type": "markdown",
   "metadata": {},
   "source": [
    "Overall, there is a more even number of data points with high popularity and low popularity for all of the resampled data"
   ]
  }
 ],
 "metadata": {
  "kernelspec": {
   "display_name": "Python 3",
   "language": "python",
   "name": "python3"
  },
  "language_info": {
   "codemirror_mode": {
    "name": "ipython",
    "version": 3
   },
   "file_extension": ".py",
   "mimetype": "text/x-python",
   "name": "python",
   "nbconvert_exporter": "python",
   "pygments_lexer": "ipython3",
   "version": "3.11.4"
  }
 },
 "nbformat": 4,
 "nbformat_minor": 2
}
