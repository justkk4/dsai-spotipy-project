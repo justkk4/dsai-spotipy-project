{
 "cells": [
  {
   "cell_type": "markdown",
   "metadata": {},
   "source": [
    "# **Editing Kaggle Dataset for Time Comparison**\n",
    "In order to conduct a clearer analysis of spotify tracks across time, we used a Kaggle dataset that was specifically designed to compromise tracks from a wide range of eras.\n",
    "\n",
    "However, this dataset did not contain the feature <u>'artist popularity'</u>. It was thus necessary to use the Spotify API to extract the artist popularity values of these tracks and add them to the dataset.\n",
    "\n",
    "This Jupyter Notebook will take you through the process of adding 'artist popularity' to the Kaggle dataset"
   ]
  },
  {
   "cell_type": "code",
   "execution_count": 90,
   "metadata": {},
   "outputs": [],
   "source": [
    "import csv\n",
    "import spotipy\n",
    "import pandas as pd\n",
    "from spotipy.oauth2 import SpotifyClientCredentials\n",
    "import time # time.sleep() used throughout data extraction to prevent MaxRetriesError from the API\n",
    "\n",
    "client_id = '6f214ac01be74f798b00a6ca1cc14cb0' # our personal client_id \n",
    "client_secret = '131ee3fba4a6432fafb814657def5785' # our personal client_secret\n",
    "\n",
    "# Obtain authorisation from Spotify\n",
    "client_credentials_manager = SpotifyClientCredentials(client_id=client_id, client_secret=client_secret)\n",
    "sp = spotipy.Spotify(client_credentials_manager=client_credentials_manager, retries=0) "
   ]
  },
  {
   "cell_type": "markdown",
   "metadata": {},
   "source": [
    "## **Retrieve Artist URI and Track URI from CSV file**\n",
    "> Artist URI is necessary to retrieve the 'artist popularity' metric\\\n",
    "> Track URI is necessary to _filter out local files/tracks_ that do not exist in the Spotify database"
   ]
  },
  {
   "cell_type": "code",
   "execution_count": 121,
   "metadata": {},
   "outputs": [],
   "source": [
    "df = pd.read_csv('top_10000_1960-now.csv')\n",
    "\n",
    "artist_id = []\n",
    "with open('top_10000_1960-now.csv', 'r') as file:\n",
    "    file = csv.reader(file)\n",
    "    header = next(file)\n",
    "\n",
    "    \"\"\"\n",
    "    For tracks with multiple artists, the main (i.e. the first) artist was chosen as the metric of popularity\n",
    "    \"\"\"\n",
    "\n",
    "    for line in file:\n",
    "        if 'local' not in line[0]: # filter out local tracks\n",
    "            line[2] = line[2].split(',')[0] # only use the main artist\n",
    "            artist_id.append(line[2])\n",
    "        else:\n",
    "            df.drop(df.loc[df['Track URI'] == line[0]].index, inplace=True) # drop local tracks from csv file"
   ]
  },
  {
   "cell_type": "markdown",
   "metadata": {},
   "source": [
    "## **Helper Function to retrieve 'artist popularity'**"
   ]
  },
  {
   "cell_type": "code",
   "execution_count": 122,
   "metadata": {},
   "outputs": [],
   "source": [
    "def get_artist_pop(artists, pop_list):\n",
    "     \n",
    "    for i in range(0, len(artists), 50):\n",
    "        if (i+50) > len(artists):\n",
    "            artist_interval = artists[i:len(artists)]\n",
    "        else:\n",
    "            artist_interval = artists[i:i+50]\n",
    "\n",
    "        ## Retrieve artist information (i.e. popularity, genres, name)\n",
    "        # Get artist object\n",
    "        artist_info = sp.artists(artist_interval) # returns an artist object corresponding to the given URI, this object contains detailed info on the artist\n",
    "        \n",
    "        # Retrieve artist popularity\n",
    "        popularity = []\n",
    "        for d in artist_info[\"artists\"]:\n",
    "            for k, v in d.items():\n",
    "                if k == 'popularity':\n",
    "                    popularity.append(v)\n",
    "\n",
    "        pop_list.extend(popularity)\n",
    "\n",
    "        print(f\"{i+50} tracks done\", end=\"; \")\n",
    "        time.sleep(2)"
   ]
  },
  {
   "cell_type": "markdown",
   "metadata": {},
   "source": [
    "## **Extract data using API**"
   ]
  },
  {
   "cell_type": "code",
   "execution_count": 123,
   "metadata": {},
   "outputs": [
    {
     "name": "stdout",
     "output_type": "stream",
     "text": [
      "Retrieving artist popularity for tracks 0 to 1000\n",
      "50 tracks done; 100 tracks done; 150 tracks done; 200 tracks done; 250 tracks done; 300 tracks done; 350 tracks done; 400 tracks done; 450 tracks done; 500 tracks done; 550 tracks done; 600 tracks done; 650 tracks done; 700 tracks done; 750 tracks done; 800 tracks done; 850 tracks done; 900 tracks done; 950 tracks done; 1000 tracks done; \n",
      "Retrieving artist popularity for tracks 1000 to 2000\n",
      "50 tracks done; 100 tracks done; 150 tracks done; 200 tracks done; 250 tracks done; 300 tracks done; 350 tracks done; 400 tracks done; 450 tracks done; 500 tracks done; 550 tracks done; 600 tracks done; 650 tracks done; 700 tracks done; 750 tracks done; 800 tracks done; 850 tracks done; 900 tracks done; 950 tracks done; 1000 tracks done; \n",
      "Retrieving artist popularity for tracks 2000 to 3000\n",
      "50 tracks done; 100 tracks done; 150 tracks done; 200 tracks done; 250 tracks done; 300 tracks done; 350 tracks done; 400 tracks done; 450 tracks done; 500 tracks done; 550 tracks done; 600 tracks done; 650 tracks done; 700 tracks done; 750 tracks done; 800 tracks done; 850 tracks done; 900 tracks done; 950 tracks done; 1000 tracks done; \n",
      "Retrieving artist popularity for tracks 3000 to 4000\n",
      "50 tracks done; 100 tracks done; 150 tracks done; 200 tracks done; 250 tracks done; 300 tracks done; 350 tracks done; 400 tracks done; 450 tracks done; 500 tracks done; 550 tracks done; 600 tracks done; 650 tracks done; 700 tracks done; 750 tracks done; 800 tracks done; 850 tracks done; 900 tracks done; 950 tracks done; 1000 tracks done; \n",
      "Retrieving artist popularity for tracks 4000 to 5000\n",
      "50 tracks done; 100 tracks done; 150 tracks done; 200 tracks done; 250 tracks done; 300 tracks done; 350 tracks done; 400 tracks done; 450 tracks done; 500 tracks done; 550 tracks done; 600 tracks done; 650 tracks done; 700 tracks done; 750 tracks done; 800 tracks done; 850 tracks done; 900 tracks done; 950 tracks done; 1000 tracks done; \n",
      "Retrieving artist popularity for tracks 5000 to 6000\n",
      "50 tracks done; 100 tracks done; 150 tracks done; 200 tracks done; 250 tracks done; 300 tracks done; 350 tracks done; 400 tracks done; 450 tracks done; 500 tracks done; 550 tracks done; 600 tracks done; 650 tracks done; 700 tracks done; 750 tracks done; 800 tracks done; 850 tracks done; 900 tracks done; 950 tracks done; 1000 tracks done; \n",
      "Retrieving artist popularity for tracks 6000 to 7000\n",
      "50 tracks done; 100 tracks done; 150 tracks done; 200 tracks done; 250 tracks done; 300 tracks done; 350 tracks done; 400 tracks done; 450 tracks done; 500 tracks done; 550 tracks done; 600 tracks done; 650 tracks done; 700 tracks done; 750 tracks done; 800 tracks done; 850 tracks done; 900 tracks done; 950 tracks done; 1000 tracks done; \n",
      "Retrieving artist popularity for tracks 7000 to 8000\n",
      "50 tracks done; 100 tracks done; 150 tracks done; 200 tracks done; 250 tracks done; 300 tracks done; 350 tracks done; 400 tracks done; 450 tracks done; 500 tracks done; 550 tracks done; 600 tracks done; 650 tracks done; 700 tracks done; 750 tracks done; 800 tracks done; 850 tracks done; 900 tracks done; 950 tracks done; 1000 tracks done; \n",
      "Retrieving artist popularity for tracks 8000 to 9000\n",
      "50 tracks done; 100 tracks done; 150 tracks done; 200 tracks done; 250 tracks done; 300 tracks done; 350 tracks done; 400 tracks done; 450 tracks done; 500 tracks done; 550 tracks done; 600 tracks done; 650 tracks done; 700 tracks done; 750 tracks done; 800 tracks done; 850 tracks done; 900 tracks done; 950 tracks done; 1000 tracks done; \n",
      "Retrieving artist popularity for tracks 9000 to 10000\n",
      "50 tracks done; 100 tracks done; 150 tracks done; 200 tracks done; 250 tracks done; 300 tracks done; 350 tracks done; 400 tracks done; 450 tracks done; 500 tracks done; 550 tracks done; 600 tracks done; 650 tracks done; 700 tracks done; 750 tracks done; 800 tracks done; 850 tracks done; 900 tracks done; 950 tracks done; 1000 tracks done; \n"
     ]
    }
   ],
   "source": [
    "artist_pop = []\n",
    "\n",
    "for i in range(0, 9901, 1000):\n",
    "    print(f\"Retrieving artist popularity for tracks {i} to {i+1000}\")\n",
    "    get_artist_pop(artist_id[i:i+1000], artist_pop)\n",
    "    print()"
   ]
  },
  {
   "cell_type": "markdown",
   "metadata": {},
   "source": [
    "## **Write to new CSV file**"
   ]
  },
  {
   "cell_type": "code",
   "execution_count": 125,
   "metadata": {},
   "outputs": [],
   "source": [
    "df[\"Artist Popularity\"] = artist_pop # add artist popularity column"
   ]
  },
  {
   "cell_type": "code",
   "execution_count": 126,
   "metadata": {},
   "outputs": [],
   "source": [
    "df.to_csv('top_10000_1960-now_updated.csv', index=True) # write to 'top_10000_1960-now_updated.csv'"
   ]
  }
 ],
 "metadata": {
  "kernelspec": {
   "display_name": "Python 3",
   "language": "python",
   "name": "python3"
  },
  "language_info": {
   "codemirror_mode": {
    "name": "ipython",
    "version": 3
   },
   "file_extension": ".py",
   "mimetype": "text/x-python",
   "name": "python",
   "nbconvert_exporter": "python",
   "pygments_lexer": "ipython3",
   "version": "3.11.4"
  }
 },
 "nbformat": 4,
 "nbformat_minor": 2
}
